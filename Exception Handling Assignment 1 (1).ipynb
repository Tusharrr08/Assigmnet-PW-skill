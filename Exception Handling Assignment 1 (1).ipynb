{
 "cells": [
  {
   "cell_type": "code",
   "execution_count": 1,
   "id": "52d3056e-9a60-435b-8cd7-fc62c9762613",
   "metadata": {},
   "outputs": [],
   "source": [
    "#1\n",
    "#Exception is an event which occur during normal flow of code to distrup the overall function of code\n",
    "#Error is an issue in program which prevent is from completing the task .\n",
    "#Exception is condition which interrupt the normal flow of program"
   ]
  },
  {
   "cell_type": "code",
   "execution_count": 4,
   "id": "6913687f-67d0-4bf3-bf22-5bdbc6f16211",
   "metadata": {},
   "outputs": [
    {
     "name": "stdout",
     "output_type": "stream",
     "text": [
      "This shows Error  [Errno 2] No such file or directory: 'assign.txt'\n",
      "This occurs even after there is exception in code or exception is not handled\n"
     ]
    }
   ],
   "source": [
    "#2\n",
    "# If the exception is not handled by an except clause, the exception is re-raised after the finally clause has been executed.\n",
    "try :\n",
    "    with open (\"assign.txt\",'r') as f:\n",
    "        pass\n",
    "except Exception as e:\n",
    "    print(\"This shows Error \",e)\n",
    "finally:\n",
    "    print(\"This occurs even after there is exception in code or exception is not handled\")"
   ]
  },
  {
   "cell_type": "code",
   "execution_count": 27,
   "id": "8c073764-337e-46cd-b35c-b909540934d4",
   "metadata": {},
   "outputs": [
    {
     "name": "stdout",
     "output_type": "stream",
     "text": [
      "We can deploy msg here about an error [Errno 2] No such file or directory: 'demo.txt'\n"
     ]
    }
   ],
   "source": [
    "# 3\n",
    "#try and except statement is used to catch and handle the exception in python\n",
    "\n",
    "try :\n",
    "    with open (\"demo.txt\",'r')as f:\n",
    "        pass\n",
    "        \n",
    "except Exception as e: \n",
    "    print(\"We can deploy msg here about an error\",e)\n",
    "    \n",
    "    \n",
    "    "
   ]
  },
  {
   "cell_type": "code",
   "execution_count": 13,
   "id": "3e7087f6-b4c1-4312-8d86-fb12a4a3c38c",
   "metadata": {},
   "outputs": [],
   "source": [
    "#4\n",
    "class marks(Exception):\n",
    "    def __init__(self,msg):\n",
    "        self.msg=msg\n"
   ]
  },
  {
   "cell_type": "code",
   "execution_count": 14,
   "id": "bfcc8066-165b-4a73-837d-1535ce551845",
   "metadata": {},
   "outputs": [],
   "source": [
    "def stu_marks(mark):\n",
    "    if mark>=75:\n",
    "        raise marks(\"You got Distinction\")# raise is used to connect with class \n",
    "    elif mark>50:\n",
    "        raise marks(\"Good! you passed the exam\")\n",
    "    else:\n",
    "        raise marks(\"You need to do hardwork\")\n",
    "        "
   ]
  },
  {
   "cell_type": "code",
   "execution_count": 15,
   "id": "f2f2ae34-a04a-46c0-91e6-0d08ad3a0b0f",
   "metadata": {},
   "outputs": [
    {
     "name": "stdin",
     "output_type": "stream",
     "text": [
      "Enter Your Marks 80\n"
     ]
    },
    {
     "name": "stdout",
     "output_type": "stream",
     "text": [
      "You got Distinction\n",
      "I am finally statement ill be executed even after there is error in code\n"
     ]
    }
   ],
   "source": [
    "try :# try used to catch any error in program\n",
    "    mark=int(input(\"Enter Your Marks\"))\n",
    "    stu_marks(mark)\n",
    "except marks as e:# except is used to throw error is being catched by try statement\n",
    "    print(e)\n",
    "finally:\n",
    "    print(\"I am finally statement ill be executed even after there is error in code\")"
   ]
  },
  {
   "cell_type": "code",
   "execution_count": 38,
   "id": "95342dec-a1bd-4d48-8705-e4cc126ad549",
   "metadata": {},
   "outputs": [],
   "source": [
    "#5 \n",
    "# Custom exception is define by creating new class that is derived from in built exception class .\n",
    "#we need custom exception bcz o catch and provide specific treatment to a subset of existing Java exceptions. \n",
    "class Height(Exception):\n",
    "    \n",
    "    def __init__(self,msg):\n",
    "        self.msg=msg"
   ]
  },
  {
   "cell_type": "code",
   "execution_count": 43,
   "id": "4311a53b-e678-45ed-b028-ce1d59bd0b33",
   "metadata": {},
   "outputs": [],
   "source": [
    "def checkheight(height):\n",
    "    if height>5.5:\n",
    "        raise Height(\"You are eligible for defence force\")# raise is used to connect with class \n",
    "    \n",
    "    else:\n",
    "        raise Height(\"You are not Eligible\")\n",
    "        "
   ]
  },
  {
   "cell_type": "code",
   "execution_count": 59,
   "id": "cf7dc64d-47a7-4bae-b383-156033102ee3",
   "metadata": {},
   "outputs": [
    {
     "name": "stdin",
     "output_type": "stream",
     "text": [
      "Enter Your Height 6.5\n"
     ]
    },
    {
     "name": "stdout",
     "output_type": "stream",
     "text": [
      "You are eligible for defence force\n"
     ]
    }
   ],
   "source": [
    "try :# try used to catch any error in program\n",
    "    height=float(input(\"Enter Your Height\"))\n",
    "    checkheight(height)\n",
    "except Height as e:# except is used to throw error is being catched by try statement\n",
    "    print(e)"
   ]
  },
  {
   "cell_type": "code",
   "execution_count": 60,
   "id": "011b0cba-03c4-4ecf-a1eb-f9c447d523af",
   "metadata": {},
   "outputs": [],
   "source": [
    "#6\n",
    "class checkage(Exception):\n",
    "    def __init__(self,msg):\n",
    "        self.age=msg"
   ]
  },
  {
   "cell_type": "code",
   "execution_count": 61,
   "id": "f05abe86-132b-4f8a-a652-eebbdc9626e8",
   "metadata": {},
   "outputs": [],
   "source": [
    "def check(age):\n",
    "    if age<0:\n",
    "        \n",
    "        raise checkage(\"Entered age is negative\")# raise is using to connect with class \n",
    "    elif age>200:\n",
    "        \n",
    "        raise checkage(\"Entered Age is High\")\n",
    "    else:\n",
    "        raise checkage(\"age is right\")"
   ]
  },
  {
   "cell_type": "code",
   "execution_count": 62,
   "id": "b67aee29-11da-483e-b93c-7c15a758a244",
   "metadata": {},
   "outputs": [
    {
     "name": "stdin",
     "output_type": "stream",
     "text": [
      "Enter ur age 80\n"
     ]
    },
    {
     "name": "stdout",
     "output_type": "stream",
     "text": [
      "age is right\n"
     ]
    }
   ],
   "source": [
    "try: # try statement is used to catch any error\n",
    "    age=int(input(\"Enter ur age\"))\n",
    "    check(age)\n",
    "except checkage as e:# except is used to throw type of error is being catched\n",
    "    print(e)"
   ]
  },
  {
   "cell_type": "code",
   "execution_count": null,
   "id": "ec768556-bcd1-45b0-8b12-fb822c001086",
   "metadata": {},
   "outputs": [],
   "source": []
  }
 ],
 "metadata": {
  "kernelspec": {
   "display_name": "Python 3 (ipykernel)",
   "language": "python",
   "name": "python3"
  },
  "language_info": {
   "codemirror_mode": {
    "name": "ipython",
    "version": 3
   },
   "file_extension": ".py",
   "mimetype": "text/x-python",
   "name": "python",
   "nbconvert_exporter": "python",
   "pygments_lexer": "ipython3",
   "version": "3.10.8"
  }
 },
 "nbformat": 4,
 "nbformat_minor": 5
}
