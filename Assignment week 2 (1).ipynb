{
 "cells": [
  {
   "cell_type": "code",
   "execution_count": null,
   "id": "3ad772e3-e47a-48a4-99d4-d9ba100aff6d",
   "metadata": {},
   "outputs": [],
   "source": [
    "1\n",
    "We can comment code in python by use of \"#\" method\n",
    "# We can comment by introducing hashtag \n",
    "\n",
    "There are 3 types of comment \n",
    "i. Single line comment # This is single line comment\n",
    "ii. Multi line comment #This is First line of comment \n",
    "                       # This is Second line of comment \n",
    "iii. Docstring comment ''' This is Docstring \n",
    "                             comment ''''"
   ]
  },
  {
   "cell_type": "code",
   "execution_count": null,
   "id": "05f17e24-4673-4edb-9317-ecf196b55405",
   "metadata": {},
   "outputs": [],
   "source": [
    "2\n",
    "Variables are the alphabets(a-z), alphabets with numeric value(s1) which can assing to a particular types \n",
    "of data\n",
    "Like a = \"Tushar\"\n",
    "     b =\"PW Skills\"\n",
    "    c = 123"
   ]
  },
  {
   "cell_type": "code",
   "execution_count": null,
   "id": "1c585951-14e8-4def-909e-5f4026cd1deb",
   "metadata": {},
   "outputs": [],
   "source": [
    "3 \n",
    "We can convert one data type into another by type casting it\n",
    "a=input() # By default input variable take string value  \n",
    "a=int(input())# we type cast it to take int values"
   ]
  },
  {
   "cell_type": "code",
   "execution_count": null,
   "id": "f43db2e2-8a57-4670-b845-8cb4088a9e1b",
   "metadata": {},
   "outputs": [],
   "source": [
    "4\n",
    "you need to open a command-line and type in the word python , or python3 if you have both versions, followed by the path to your script,"
   ]
  },
  {
   "cell_type": "code",
   "execution_count": 11,
   "id": "de5ddc15-54ac-4e00-b796-7759046193d3",
   "metadata": {},
   "outputs": [
    {
     "name": "stdout",
     "output_type": "stream",
     "text": [
      "[2, 3]\n"
     ]
    }
   ],
   "source": [
    "5\n",
    "my_list=[1,2,3,4,5,]\n",
    "print(my_list[1:3])"
   ]
  },
  {
   "cell_type": "code",
   "execution_count": 14,
   "id": "22bd3f45-90e0-4670-8e53-6a3ff44a6ebd",
   "metadata": {},
   "outputs": [],
   "source": [
    "6\n",
    "# Complex number is a combination of real and imaginary number in mathematics\n",
    "# we can express 5 + 7j as a complex number in python"
   ]
  },
  {
   "cell_type": "code",
   "execution_count": null,
   "id": "c9fef152-2bf7-4622-bd03-952a0aab60f8",
   "metadata": {},
   "outputs": [],
   "source": []
  },
  {
   "cell_type": "code",
   "execution_count": 19,
   "id": "772aee11-1ef8-4ba1-81c7-e06f47566699",
   "metadata": {},
   "outputs": [
    {
     "name": "stdout",
     "output_type": "stream",
     "text": [
      "<class 'int'>\n",
      "<class 'str'>\n"
     ]
    }
   ],
   "source": [
    "7\n",
    "my_age1 = 25 # as it is int value we assign this as a int \n",
    "my_age2  = \"25\" # Now this is treated as a string upper one is treated as a int \n",
    "print(type(my_age1 ))\n",
    "print(type(my_age2))"
   ]
  },
  {
   "cell_type": "code",
   "execution_count": 20,
   "id": "b850fae4-f297-45f9-9b99-93d059e9d44d",
   "metadata": {},
   "outputs": [
    {
     "name": "stdout",
     "output_type": "stream",
     "text": [
      "<class 'float'>\n"
     ]
    }
   ],
   "source": [
    "8\n",
    "price=9.99\n",
    "print(type(price))"
   ]
  },
  {
   "cell_type": "code",
   "execution_count": 21,
   "id": "acbf4bc4-b30e-4df6-b6e8-26b46f9dfc0f",
   "metadata": {},
   "outputs": [
    {
     "name": "stdout",
     "output_type": "stream",
     "text": [
      "Tushar\n",
      "<class 'str'>\n"
     ]
    }
   ],
   "source": [
    "9\n",
    "name = \"Tushar\"\n",
    "print(name)\n",
    "print(type(name))"
   ]
  },
  {
   "cell_type": "code",
   "execution_count": 27,
   "id": "32b886d2-f5b7-454c-b5c8-62052df15da9",
   "metadata": {},
   "outputs": [
    {
     "name": "stdout",
     "output_type": "stream",
     "text": [
      "World\n"
     ]
    }
   ],
   "source": [
    "10\n",
    "a= \"Hello World!\"\n",
    "print(a[6:11])"
   ]
  },
  {
   "cell_type": "code",
   "execution_count": null,
   "id": "66ce7114-a295-4033-ac59-65995b4857e6",
   "metadata": {},
   "outputs": [],
   "source": [
    "11\n",
    "is_student=input(\"Are you a student ?\")\n",
    "if is_student ==  \"Yes\" and \"yes\":\n",
    "    print(\"I am Student of PW skills\")\n",
    "else :\n",
    "        print(\"I am not a student\")"
   ]
  },
  {
   "cell_type": "code",
   "execution_count": null,
   "id": "52431060-5d68-4444-a9f4-056bcd222e7c",
   "metadata": {},
   "outputs": [],
   "source": []
  }
 ],
 "metadata": {
  "kernelspec": {
   "display_name": "Python 3 (ipykernel)",
   "language": "python",
   "name": "python3"
  },
  "language_info": {
   "codemirror_mode": {
    "name": "ipython",
    "version": 3
   },
   "file_extension": ".py",
   "mimetype": "text/x-python",
   "name": "python",
   "nbconvert_exporter": "python",
   "pygments_lexer": "ipython3",
   "version": "3.10.8"
  }
 },
 "nbformat": 4,
 "nbformat_minor": 5
}
