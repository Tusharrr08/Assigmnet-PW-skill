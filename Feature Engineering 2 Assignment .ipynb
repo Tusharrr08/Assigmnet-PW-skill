{
 "cells": [
  {
   "cell_type": "code",
   "execution_count": 1,
   "id": "5f07dca3-61e6-4e16-8749-5525789abd41",
   "metadata": {},
   "outputs": [],
   "source": [
    "#1"
   ]
  },
  {
   "cell_type": "markdown",
   "id": "20634fd6-a730-4fd7-95ca-bbdd063c88b3",
   "metadata": {},
   "source": [
    "Min-Max scaling, also known as min-max normalization, is a simple method of feature scaling that transforms the values of each feature in a dataset to a range of 0 to 1. This is done by subtracting the minimum value of each feature from all of its values and then dividing by the difference between the maximum and minimum values.\n",
    "\n",
    "Min-Max scaling is a popular method of feature scaling because it is easy to implement and it can be effective in improving the performance of machine learning algorithms. It is particularly useful for algorithms that are sensitive to the scale of the features, such as k-nearest neighbors and support vector machines.\n",
    "\n",
    "To use Min-Max scaling in data preprocessing, you can use the MinMaxScaler class from the scikit-learn library. This class has a fit_transform() method that takes a dataset as input and returns a scaled version of the dataset."
   ]
  },
  {
   "cell_type": "code",
   "execution_count": 4,
   "id": "4ce6d594-9617-4da9-95b2-a6de5c771c95",
   "metadata": {},
   "outputs": [],
   "source": [
    "#Example\n",
    "from sklearn.preprocessing import MinMaxScaler\n",
    "import seaborn as sns"
   ]
  },
  {
   "cell_type": "code",
   "execution_count": 10,
   "id": "fa4694f0-8cbd-44df-a68d-7e023fb9401b",
   "metadata": {},
   "outputs": [],
   "source": [
    "df= sns.load_dataset('mpg')"
   ]
  },
  {
   "cell_type": "code",
   "execution_count": 3,
   "id": "8da4ae91-d4c5-48ca-a5b6-0cc2b435fbfb",
   "metadata": {},
   "outputs": [],
   "source": [
    "min_max=MinMaxScaler()"
   ]
  },
  {
   "cell_type": "code",
   "execution_count": 11,
   "id": "fc1497d7-91d6-4839-9654-12f1252a36ec",
   "metadata": {},
   "outputs": [
    {
     "data": {
      "text/html": [
       "<div>\n",
       "<style scoped>\n",
       "    .dataframe tbody tr th:only-of-type {\n",
       "        vertical-align: middle;\n",
       "    }\n",
       "\n",
       "    .dataframe tbody tr th {\n",
       "        vertical-align: top;\n",
       "    }\n",
       "\n",
       "    .dataframe thead th {\n",
       "        text-align: right;\n",
       "    }\n",
       "</style>\n",
       "<table border=\"1\" class=\"dataframe\">\n",
       "  <thead>\n",
       "    <tr style=\"text-align: right;\">\n",
       "      <th></th>\n",
       "      <th>mpg</th>\n",
       "      <th>cylinders</th>\n",
       "      <th>displacement</th>\n",
       "      <th>horsepower</th>\n",
       "      <th>weight</th>\n",
       "      <th>acceleration</th>\n",
       "      <th>model_year</th>\n",
       "      <th>origin</th>\n",
       "      <th>name</th>\n",
       "    </tr>\n",
       "  </thead>\n",
       "  <tbody>\n",
       "    <tr>\n",
       "      <th>0</th>\n",
       "      <td>18.0</td>\n",
       "      <td>8</td>\n",
       "      <td>307.0</td>\n",
       "      <td>130.0</td>\n",
       "      <td>3504</td>\n",
       "      <td>12.0</td>\n",
       "      <td>70</td>\n",
       "      <td>usa</td>\n",
       "      <td>chevrolet chevelle malibu</td>\n",
       "    </tr>\n",
       "    <tr>\n",
       "      <th>1</th>\n",
       "      <td>15.0</td>\n",
       "      <td>8</td>\n",
       "      <td>350.0</td>\n",
       "      <td>165.0</td>\n",
       "      <td>3693</td>\n",
       "      <td>11.5</td>\n",
       "      <td>70</td>\n",
       "      <td>usa</td>\n",
       "      <td>buick skylark 320</td>\n",
       "    </tr>\n",
       "    <tr>\n",
       "      <th>2</th>\n",
       "      <td>18.0</td>\n",
       "      <td>8</td>\n",
       "      <td>318.0</td>\n",
       "      <td>150.0</td>\n",
       "      <td>3436</td>\n",
       "      <td>11.0</td>\n",
       "      <td>70</td>\n",
       "      <td>usa</td>\n",
       "      <td>plymouth satellite</td>\n",
       "    </tr>\n",
       "    <tr>\n",
       "      <th>3</th>\n",
       "      <td>16.0</td>\n",
       "      <td>8</td>\n",
       "      <td>304.0</td>\n",
       "      <td>150.0</td>\n",
       "      <td>3433</td>\n",
       "      <td>12.0</td>\n",
       "      <td>70</td>\n",
       "      <td>usa</td>\n",
       "      <td>amc rebel sst</td>\n",
       "    </tr>\n",
       "    <tr>\n",
       "      <th>4</th>\n",
       "      <td>17.0</td>\n",
       "      <td>8</td>\n",
       "      <td>302.0</td>\n",
       "      <td>140.0</td>\n",
       "      <td>3449</td>\n",
       "      <td>10.5</td>\n",
       "      <td>70</td>\n",
       "      <td>usa</td>\n",
       "      <td>ford torino</td>\n",
       "    </tr>\n",
       "  </tbody>\n",
       "</table>\n",
       "</div>"
      ],
      "text/plain": [
       "    mpg  cylinders  displacement  horsepower  weight  acceleration  \\\n",
       "0  18.0          8         307.0       130.0    3504          12.0   \n",
       "1  15.0          8         350.0       165.0    3693          11.5   \n",
       "2  18.0          8         318.0       150.0    3436          11.0   \n",
       "3  16.0          8         304.0       150.0    3433          12.0   \n",
       "4  17.0          8         302.0       140.0    3449          10.5   \n",
       "\n",
       "   model_year origin                       name  \n",
       "0          70    usa  chevrolet chevelle malibu  \n",
       "1          70    usa          buick skylark 320  \n",
       "2          70    usa         plymouth satellite  \n",
       "3          70    usa              amc rebel sst  \n",
       "4          70    usa                ford torino  "
      ]
     },
     "execution_count": 11,
     "metadata": {},
     "output_type": "execute_result"
    }
   ],
   "source": [
    "df.head()"
   ]
  },
  {
   "cell_type": "code",
   "execution_count": 12,
   "id": "7ec6e274-6532-46f7-bd35-76af38b5cece",
   "metadata": {},
   "outputs": [
    {
     "data": {
      "text/plain": [
       "array([[0.2393617 , 1.        , 0.61757106, 0.45652174],\n",
       "       [0.15957447, 1.        , 0.72868217, 0.64673913],\n",
       "       [0.2393617 , 1.        , 0.64599483, 0.56521739],\n",
       "       ...,\n",
       "       [0.61170213, 0.2       , 0.17312661, 0.20652174],\n",
       "       [0.50531915, 0.2       , 0.13436693, 0.17934783],\n",
       "       [0.58510638, 0.2       , 0.13178295, 0.19565217]])"
      ]
     },
     "execution_count": 12,
     "metadata": {},
     "output_type": "execute_result"
    }
   ],
   "source": [
    "min_max.fit_transform(df[['mpg','cylinders','displacement','horsepower']])"
   ]
  },
  {
   "cell_type": "code",
   "execution_count": 15,
   "id": "66f62bf8-c744-4e39-886c-af89135e11af",
   "metadata": {},
   "outputs": [
    {
     "data": {
      "text/html": [
       "<div>\n",
       "<style scoped>\n",
       "    .dataframe tbody tr th:only-of-type {\n",
       "        vertical-align: middle;\n",
       "    }\n",
       "\n",
       "    .dataframe tbody tr th {\n",
       "        vertical-align: top;\n",
       "    }\n",
       "\n",
       "    .dataframe thead th {\n",
       "        text-align: right;\n",
       "    }\n",
       "</style>\n",
       "<table border=\"1\" class=\"dataframe\">\n",
       "  <thead>\n",
       "    <tr style=\"text-align: right;\">\n",
       "      <th></th>\n",
       "      <th>mpg</th>\n",
       "      <th>cylinders</th>\n",
       "      <th>displacement</th>\n",
       "      <th>horsepower</th>\n",
       "    </tr>\n",
       "  </thead>\n",
       "  <tbody>\n",
       "    <tr>\n",
       "      <th>0</th>\n",
       "      <td>0.239362</td>\n",
       "      <td>1.0</td>\n",
       "      <td>0.617571</td>\n",
       "      <td>0.456522</td>\n",
       "    </tr>\n",
       "    <tr>\n",
       "      <th>1</th>\n",
       "      <td>0.159574</td>\n",
       "      <td>1.0</td>\n",
       "      <td>0.728682</td>\n",
       "      <td>0.646739</td>\n",
       "    </tr>\n",
       "    <tr>\n",
       "      <th>2</th>\n",
       "      <td>0.239362</td>\n",
       "      <td>1.0</td>\n",
       "      <td>0.645995</td>\n",
       "      <td>0.565217</td>\n",
       "    </tr>\n",
       "    <tr>\n",
       "      <th>3</th>\n",
       "      <td>0.186170</td>\n",
       "      <td>1.0</td>\n",
       "      <td>0.609819</td>\n",
       "      <td>0.565217</td>\n",
       "    </tr>\n",
       "    <tr>\n",
       "      <th>4</th>\n",
       "      <td>0.212766</td>\n",
       "      <td>1.0</td>\n",
       "      <td>0.604651</td>\n",
       "      <td>0.510870</td>\n",
       "    </tr>\n",
       "    <tr>\n",
       "      <th>...</th>\n",
       "      <td>...</td>\n",
       "      <td>...</td>\n",
       "      <td>...</td>\n",
       "      <td>...</td>\n",
       "    </tr>\n",
       "    <tr>\n",
       "      <th>393</th>\n",
       "      <td>0.478723</td>\n",
       "      <td>0.2</td>\n",
       "      <td>0.186047</td>\n",
       "      <td>0.217391</td>\n",
       "    </tr>\n",
       "    <tr>\n",
       "      <th>394</th>\n",
       "      <td>0.930851</td>\n",
       "      <td>0.2</td>\n",
       "      <td>0.074935</td>\n",
       "      <td>0.032609</td>\n",
       "    </tr>\n",
       "    <tr>\n",
       "      <th>395</th>\n",
       "      <td>0.611702</td>\n",
       "      <td>0.2</td>\n",
       "      <td>0.173127</td>\n",
       "      <td>0.206522</td>\n",
       "    </tr>\n",
       "    <tr>\n",
       "      <th>396</th>\n",
       "      <td>0.505319</td>\n",
       "      <td>0.2</td>\n",
       "      <td>0.134367</td>\n",
       "      <td>0.179348</td>\n",
       "    </tr>\n",
       "    <tr>\n",
       "      <th>397</th>\n",
       "      <td>0.585106</td>\n",
       "      <td>0.2</td>\n",
       "      <td>0.131783</td>\n",
       "      <td>0.195652</td>\n",
       "    </tr>\n",
       "  </tbody>\n",
       "</table>\n",
       "<p>398 rows × 4 columns</p>\n",
       "</div>"
      ],
      "text/plain": [
       "          mpg  cylinders  displacement  horsepower\n",
       "0    0.239362        1.0      0.617571    0.456522\n",
       "1    0.159574        1.0      0.728682    0.646739\n",
       "2    0.239362        1.0      0.645995    0.565217\n",
       "3    0.186170        1.0      0.609819    0.565217\n",
       "4    0.212766        1.0      0.604651    0.510870\n",
       "..        ...        ...           ...         ...\n",
       "393  0.478723        0.2      0.186047    0.217391\n",
       "394  0.930851        0.2      0.074935    0.032609\n",
       "395  0.611702        0.2      0.173127    0.206522\n",
       "396  0.505319        0.2      0.134367    0.179348\n",
       "397  0.585106        0.2      0.131783    0.195652\n",
       "\n",
       "[398 rows x 4 columns]"
      ]
     },
     "execution_count": 15,
     "metadata": {},
     "output_type": "execute_result"
    }
   ],
   "source": [
    "import pandas as pd\n",
    "pd.DataFrame(min_max.fit_transform(df[['mpg','cylinders','displacement','horsepower']]),columns=['mpg','cylinders','displacement','horsepower'])"
   ]
  },
  {
   "cell_type": "markdown",
   "id": "9c0d2777-c166-4cb8-bd7e-6901a2ad3d25",
   "metadata": {},
   "source": [
    "#2\n",
    "The Unit Vector technique is a method of feature scaling that transforms each feature vector to have a unit length. This is done by dividing each component of the feature vector by the Euclidean norm of the vector. The Euclidean norm is the square root of the sum of the squares of the components of the vector.\n",
    "\n",
    "The Unit Vector technique is similar to Min-Max scaling in that it both transforms the values of the features to a common scale. However, the Unit Vector technique does not stretch or shrink the features, as Min-Max scaling can do. This makes the Unit Vector technique more robust to outliers and changes in the distribution of the data."
   ]
  },
  {
   "cell_type": "code",
   "execution_count": 42,
   "id": "f497b708-f164-4ce4-8235-27d03917847a",
   "metadata": {},
   "outputs": [],
   "source": [
    "#Example\n",
    "from sklearn.preprocessing import normalize"
   ]
  },
  {
   "cell_type": "code",
   "execution_count": 47,
   "id": "9cff1f36-7b2f-47ef-bab0-2d2525ce2ed5",
   "metadata": {},
   "outputs": [
    {
     "data": {
      "text/html": [
       "<div>\n",
       "<style scoped>\n",
       "    .dataframe tbody tr th:only-of-type {\n",
       "        vertical-align: middle;\n",
       "    }\n",
       "\n",
       "    .dataframe tbody tr th {\n",
       "        vertical-align: top;\n",
       "    }\n",
       "\n",
       "    .dataframe thead th {\n",
       "        text-align: right;\n",
       "    }\n",
       "</style>\n",
       "<table border=\"1\" class=\"dataframe\">\n",
       "  <thead>\n",
       "    <tr style=\"text-align: right;\">\n",
       "      <th></th>\n",
       "      <th>sepal_length</th>\n",
       "      <th>sepal_width</th>\n",
       "      <th>petal_length</th>\n",
       "      <th>petal_width</th>\n",
       "      <th>species</th>\n",
       "    </tr>\n",
       "  </thead>\n",
       "  <tbody>\n",
       "    <tr>\n",
       "      <th>0</th>\n",
       "      <td>5.1</td>\n",
       "      <td>3.5</td>\n",
       "      <td>1.4</td>\n",
       "      <td>0.2</td>\n",
       "      <td>setosa</td>\n",
       "    </tr>\n",
       "    <tr>\n",
       "      <th>1</th>\n",
       "      <td>4.9</td>\n",
       "      <td>3.0</td>\n",
       "      <td>1.4</td>\n",
       "      <td>0.2</td>\n",
       "      <td>setosa</td>\n",
       "    </tr>\n",
       "    <tr>\n",
       "      <th>2</th>\n",
       "      <td>4.7</td>\n",
       "      <td>3.2</td>\n",
       "      <td>1.3</td>\n",
       "      <td>0.2</td>\n",
       "      <td>setosa</td>\n",
       "    </tr>\n",
       "    <tr>\n",
       "      <th>3</th>\n",
       "      <td>4.6</td>\n",
       "      <td>3.1</td>\n",
       "      <td>1.5</td>\n",
       "      <td>0.2</td>\n",
       "      <td>setosa</td>\n",
       "    </tr>\n",
       "    <tr>\n",
       "      <th>4</th>\n",
       "      <td>5.0</td>\n",
       "      <td>3.6</td>\n",
       "      <td>1.4</td>\n",
       "      <td>0.2</td>\n",
       "      <td>setosa</td>\n",
       "    </tr>\n",
       "  </tbody>\n",
       "</table>\n",
       "</div>"
      ],
      "text/plain": [
       "   sepal_length  sepal_width  petal_length  petal_width species\n",
       "0           5.1          3.5           1.4          0.2  setosa\n",
       "1           4.9          3.0           1.4          0.2  setosa\n",
       "2           4.7          3.2           1.3          0.2  setosa\n",
       "3           4.6          3.1           1.5          0.2  setosa\n",
       "4           5.0          3.6           1.4          0.2  setosa"
      ]
     },
     "execution_count": 47,
     "metadata": {},
     "output_type": "execute_result"
    }
   ],
   "source": [
    "df1=sns.load_dataset('iris')\n",
    "df1.head()"
   ]
  },
  {
   "cell_type": "code",
   "execution_count": 45,
   "id": "9830dc45-46ec-4c33-ac15-d688e33d7e6a",
   "metadata": {},
   "outputs": [],
   "source": [
    "df2=df1.drop('species',axis=1)"
   ]
  },
  {
   "cell_type": "code",
   "execution_count": 55,
   "id": "7bf7f420-b1be-40c6-a2fa-68a09a20fd3c",
   "metadata": {},
   "outputs": [
    {
     "data": {
      "text/plain": [
       "array([[0.80377277, 0.55160877, 0.22064351, 0.0315205 ],\n",
       "       [0.82813287, 0.50702013, 0.23660939, 0.03380134],\n",
       "       [0.80533308, 0.54831188, 0.2227517 , 0.03426949],\n",
       "       [0.80003025, 0.53915082, 0.26087943, 0.03478392],\n",
       "       [0.790965  , 0.5694948 , 0.2214702 , 0.0316386 ],\n",
       "       [0.78417499, 0.5663486 , 0.2468699 , 0.05808704],\n",
       "       [0.78010936, 0.57660257, 0.23742459, 0.0508767 ],\n",
       "       [0.80218492, 0.54548574, 0.24065548, 0.0320874 ],\n",
       "       [0.80642366, 0.5315065 , 0.25658935, 0.03665562],\n",
       "       [0.81803119, 0.51752994, 0.25041771, 0.01669451],\n",
       "       [0.80373519, 0.55070744, 0.22325977, 0.02976797],\n",
       "       [0.786991  , 0.55745196, 0.26233033, 0.03279129],\n",
       "       [0.82307218, 0.51442011, 0.24006272, 0.01714734],\n",
       "       [0.8025126 , 0.55989251, 0.20529392, 0.01866308],\n",
       "       [0.81120865, 0.55945424, 0.16783627, 0.02797271],\n",
       "       [0.77381111, 0.59732787, 0.2036345 , 0.05430253],\n",
       "       [0.79428944, 0.57365349, 0.19121783, 0.05883625],\n",
       "       [0.80327412, 0.55126656, 0.22050662, 0.04725142],\n",
       "       [0.8068282 , 0.53788547, 0.24063297, 0.04246464],\n",
       "       [0.77964883, 0.58091482, 0.22930848, 0.0458617 ],\n",
       "       [0.8173379 , 0.51462016, 0.25731008, 0.03027177],\n",
       "       [0.78591858, 0.57017622, 0.23115252, 0.06164067],\n",
       "       [0.77577075, 0.60712493, 0.16864581, 0.03372916],\n",
       "       [0.80597792, 0.52151512, 0.26865931, 0.07901744],\n",
       "       [0.776114  , 0.54974742, 0.30721179, 0.03233808],\n",
       "       [0.82647451, 0.4958847 , 0.26447184, 0.03305898],\n",
       "       [0.79778206, 0.5424918 , 0.25529026, 0.06382256],\n",
       "       [0.80641965, 0.54278246, 0.23262105, 0.03101614],\n",
       "       [0.81609427, 0.5336001 , 0.21971769, 0.03138824],\n",
       "       [0.79524064, 0.54144043, 0.27072022, 0.03384003],\n",
       "       [0.80846584, 0.52213419, 0.26948861, 0.03368608],\n",
       "       [0.82225028, 0.51771314, 0.22840286, 0.06090743],\n",
       "       [0.76578311, 0.60379053, 0.22089897, 0.0147266 ],\n",
       "       [0.77867447, 0.59462414, 0.19820805, 0.02831544],\n",
       "       [0.81768942, 0.51731371, 0.25031309, 0.03337508],\n",
       "       [0.82512295, 0.52807869, 0.19802951, 0.03300492],\n",
       "       [0.82699754, 0.52627116, 0.19547215, 0.03007264],\n",
       "       [0.78523221, 0.5769053 , 0.22435206, 0.01602515],\n",
       "       [0.80212413, 0.54690282, 0.23699122, 0.03646019],\n",
       "       [0.80779568, 0.53853046, 0.23758697, 0.03167826],\n",
       "       [0.80033301, 0.56023311, 0.20808658, 0.04801998],\n",
       "       [0.86093857, 0.44003527, 0.24871559, 0.0573959 ],\n",
       "       [0.78609038, 0.57170209, 0.23225397, 0.03573138],\n",
       "       [0.78889479, 0.55222635, 0.25244633, 0.09466737],\n",
       "       [0.76693897, 0.57144472, 0.28572236, 0.06015208],\n",
       "       [0.82210585, 0.51381615, 0.23978087, 0.05138162],\n",
       "       [0.77729093, 0.57915795, 0.24385598, 0.030482  ],\n",
       "       [0.79594782, 0.55370283, 0.24224499, 0.03460643],\n",
       "       [0.79837025, 0.55735281, 0.22595384, 0.03012718],\n",
       "       [0.81228363, 0.5361072 , 0.22743942, 0.03249135],\n",
       "       [0.76701103, 0.35063361, 0.51499312, 0.15340221],\n",
       "       [0.74549757, 0.37274878, 0.52417798, 0.17472599],\n",
       "       [0.75519285, 0.33928954, 0.53629637, 0.16417236],\n",
       "       [0.75384916, 0.31524601, 0.54825394, 0.17818253],\n",
       "       [0.7581754 , 0.32659863, 0.5365549 , 0.17496355],\n",
       "       [0.72232962, 0.35482858, 0.57026022, 0.16474184],\n",
       "       [0.72634846, 0.38046824, 0.54187901, 0.18446945],\n",
       "       [0.75916547, 0.37183615, 0.51127471, 0.15493173],\n",
       "       [0.76301853, 0.33526572, 0.53180079, 0.15029153],\n",
       "       [0.72460233, 0.37623583, 0.54345175, 0.19508524],\n",
       "       [0.76923077, 0.30769231, 0.53846154, 0.15384615],\n",
       "       [0.73923462, 0.37588201, 0.52623481, 0.187941  ],\n",
       "       [0.78892752, 0.28927343, 0.52595168, 0.13148792],\n",
       "       [0.73081412, 0.34743622, 0.56308629, 0.16772783],\n",
       "       [0.75911707, 0.3931142 , 0.48800383, 0.17622361],\n",
       "       [0.76945444, 0.35601624, 0.50531337, 0.16078153],\n",
       "       [0.70631892, 0.37838513, 0.5675777 , 0.18919257],\n",
       "       [0.75676497, 0.35228714, 0.53495455, 0.13047672],\n",
       "       [0.76444238, 0.27125375, 0.55483721, 0.18494574],\n",
       "       [0.76185188, 0.34011245, 0.53057542, 0.14964948],\n",
       "       [0.6985796 , 0.37889063, 0.56833595, 0.21312598],\n",
       "       [0.77011854, 0.35349703, 0.50499576, 0.16412362],\n",
       "       [0.74143307, 0.29421947, 0.57667016, 0.17653168],\n",
       "       [0.73659895, 0.33811099, 0.56754345, 0.14490471],\n",
       "       [0.76741698, 0.34773582, 0.51560829, 0.15588157],\n",
       "       [0.76785726, 0.34902603, 0.51190484, 0.16287881],\n",
       "       [0.76467269, 0.31486523, 0.53976896, 0.15743261],\n",
       "       [0.74088576, 0.33173989, 0.55289982, 0.18798594],\n",
       "       [0.73350949, 0.35452959, 0.55013212, 0.18337737],\n",
       "       [0.78667474, 0.35883409, 0.48304589, 0.13801311],\n",
       "       [0.76521855, 0.33391355, 0.52869645, 0.15304371],\n",
       "       [0.77242925, 0.33706004, 0.51963422, 0.14044168],\n",
       "       [0.76434981, 0.35581802, 0.51395936, 0.15814134],\n",
       "       [0.70779525, 0.31850786, 0.60162596, 0.1887454 ],\n",
       "       [0.69333409, 0.38518561, 0.57777841, 0.1925928 ],\n",
       "       [0.71524936, 0.40530797, 0.53643702, 0.19073316],\n",
       "       [0.75457341, 0.34913098, 0.52932761, 0.16893434],\n",
       "       [0.77530021, 0.28304611, 0.54147951, 0.15998258],\n",
       "       [0.72992443, 0.39103094, 0.53440896, 0.16944674],\n",
       "       [0.74714194, 0.33960997, 0.54337595, 0.17659719],\n",
       "       [0.72337118, 0.34195729, 0.57869695, 0.15782644],\n",
       "       [0.73260391, 0.36029701, 0.55245541, 0.1681386 ],\n",
       "       [0.76262994, 0.34186859, 0.52595168, 0.1577855 ],\n",
       "       [0.76986879, 0.35413965, 0.5081134 , 0.15397376],\n",
       "       [0.73544284, 0.35458851, 0.55158213, 0.1707278 ],\n",
       "       [0.73239618, 0.38547167, 0.53966034, 0.15418867],\n",
       "       [0.73446047, 0.37367287, 0.5411814 , 0.16750853],\n",
       "       [0.75728103, 0.3542121 , 0.52521104, 0.15878473],\n",
       "       [0.78258054, 0.38361791, 0.4603415 , 0.16879188],\n",
       "       [0.7431482 , 0.36505526, 0.5345452 , 0.16948994],\n",
       "       [0.65387747, 0.34250725, 0.62274045, 0.25947519],\n",
       "       [0.69052512, 0.32145135, 0.60718588, 0.22620651],\n",
       "       [0.71491405, 0.30207636, 0.59408351, 0.21145345],\n",
       "       [0.69276796, 0.31889319, 0.61579374, 0.1979337 ],\n",
       "       [0.68619022, 0.31670318, 0.61229281, 0.232249  ],\n",
       "       [0.70953708, 0.28008043, 0.61617694, 0.1960563 ],\n",
       "       [0.67054118, 0.34211284, 0.61580312, 0.23263673],\n",
       "       [0.71366557, 0.28351098, 0.61590317, 0.17597233],\n",
       "       [0.71414125, 0.26647062, 0.61821183, 0.19185884],\n",
       "       [0.69198788, 0.34599394, 0.58626751, 0.24027357],\n",
       "       [0.71562645, 0.3523084 , 0.56149152, 0.22019275],\n",
       "       [0.71576546, 0.30196356, 0.59274328, 0.21249287],\n",
       "       [0.71718148, 0.31640359, 0.58007326, 0.22148252],\n",
       "       [0.6925518 , 0.30375079, 0.60750157, 0.24300063],\n",
       "       [0.67767924, 0.32715549, 0.59589036, 0.28041899],\n",
       "       [0.69589887, 0.34794944, 0.57629125, 0.25008866],\n",
       "       [0.70610474, 0.3258945 , 0.59747324, 0.1955367 ],\n",
       "       [0.69299099, 0.34199555, 0.60299216, 0.19799743],\n",
       "       [0.70600618, 0.2383917 , 0.63265489, 0.21088496],\n",
       "       [0.72712585, 0.26661281, 0.60593821, 0.18178146],\n",
       "       [0.70558934, 0.32722984, 0.58287815, 0.23519645],\n",
       "       [0.68307923, 0.34153961, 0.59769433, 0.24395687],\n",
       "       [0.71486543, 0.25995106, 0.62202576, 0.18567933],\n",
       "       [0.73122464, 0.31338199, 0.56873028, 0.20892133],\n",
       "       [0.69595601, 0.3427843 , 0.59208198, 0.21813547],\n",
       "       [0.71529453, 0.31790868, 0.59607878, 0.17882363],\n",
       "       [0.72785195, 0.32870733, 0.56349829, 0.21131186],\n",
       "       [0.71171214, 0.35002236, 0.57170319, 0.21001342],\n",
       "       [0.69594002, 0.30447376, 0.60894751, 0.22835532],\n",
       "       [0.73089855, 0.30454106, 0.58877939, 0.1624219 ],\n",
       "       [0.72766159, 0.27533141, 0.59982915, 0.18683203],\n",
       "       [0.71578999, 0.34430405, 0.5798805 , 0.18121266],\n",
       "       [0.69417747, 0.30370264, 0.60740528, 0.2386235 ],\n",
       "       [0.72366005, 0.32162669, 0.58582004, 0.17230001],\n",
       "       [0.69385414, 0.29574111, 0.63698085, 0.15924521],\n",
       "       [0.73154399, 0.28501714, 0.57953485, 0.21851314],\n",
       "       [0.67017484, 0.36168166, 0.59571097, 0.2553047 ],\n",
       "       [0.69804799, 0.338117  , 0.59988499, 0.196326  ],\n",
       "       [0.71066905, 0.35533453, 0.56853524, 0.21320072],\n",
       "       [0.72415258, 0.32534391, 0.56672811, 0.22039426],\n",
       "       [0.69997037, 0.32386689, 0.58504986, 0.25073566],\n",
       "       [0.73337886, 0.32948905, 0.54206264, 0.24445962],\n",
       "       [0.69052512, 0.32145135, 0.60718588, 0.22620651],\n",
       "       [0.69193502, 0.32561648, 0.60035539, 0.23403685],\n",
       "       [0.68914871, 0.33943145, 0.58629069, 0.25714504],\n",
       "       [0.72155725, 0.32308533, 0.56001458, 0.24769876],\n",
       "       [0.72965359, 0.28954508, 0.57909015, 0.22005426],\n",
       "       [0.71653899, 0.3307103 , 0.57323119, 0.22047353],\n",
       "       [0.67467072, 0.36998072, 0.58761643, 0.25028107],\n",
       "       [0.69025916, 0.35097923, 0.5966647 , 0.21058754]])"
      ]
     },
     "execution_count": 55,
     "metadata": {},
     "output_type": "execute_result"
    }
   ],
   "source": [
    "normalize(df2)"
   ]
  },
  {
   "cell_type": "code",
   "execution_count": 56,
   "id": "13f14b30-5f54-4d8d-9532-b1db0c5f1e58",
   "metadata": {},
   "outputs": [],
   "source": [
    "#3"
   ]
  },
  {
   "cell_type": "markdown",
   "id": "b4d70b4c-42a4-41a4-939b-afd844a00466",
   "metadata": {},
   "source": [
    "Principal component analysis (PCA) is a statistical procedure that is used to reduce the dimensionality of a dataset. This is done by finding a new set of variables, called principal components, that are linear combinations of the original variables. The principal components are ordered in decreasing order of importance, so the first principal component captures the most variation in the data, the second principal component captures the second most variation, and so on.\n",
    "\n",
    "PCA is a popular technique for dimensionality reduction because it can be used to reduce the size of a dataset without losing too much information. This can be useful for machine learning algorithms, as they can often be more computationally efficient when working with smaller datasets.\n",
    "\n",
    "PCA can also be used to visualize data in a lower dimensional space. This can be helpful for understanding the relationships between the different variables in a dataset.\n",
    "\n",
    "For Example---Dataset of images of faces. Each image is a 100x100 pixel image, so the dataset has 10000 features (100 x 100). This is a lot of features to work with, so we can use PCA to reduce the dimensionality of the dataset.\n",
    "\n",
    "PCA will find a new set of 10 principal components that capture the most variation in the data. These 10 principal components can then be used to represent the original images. This will reduce the size of the dataset from 10000 features to 10 features, which can be much more manageable for machine learning algorithms."
   ]
  },
  {
   "cell_type": "code",
   "execution_count": 57,
   "id": "932c9d57-ddd2-49eb-9fc0-48024843fec0",
   "metadata": {},
   "outputs": [],
   "source": [
    "#4"
   ]
  },
  {
   "cell_type": "markdown",
   "id": "ce77152d-5d5e-4cf0-8bc1-3d02cde99e10",
   "metadata": {},
   "source": [
    "PCA (Principal Component Analysis) and Feature Extraction are both techniques used to reduce the dimensionality of a dataset. However, they have different goals. PCA aims to reduce the dimensionality of a dataset while preserving as much of the variance in the data as possible. Feature extraction, on the other hand, aims to reduce the dimensionality of a dataset while extracting the most important features.\n",
    "\n",
    "PCA can be used for feature extraction by choosing a small number of principal components that capture the most variation in the data. These principal components can then be used as features for machine learning algorithms.\n",
    "\n",
    "For example, consider a dataset of images of faces. Each image is a 100x100 pixel image, so the dataset has 10000 features (100 x 100). This is a lot of features to work with, so we can use PCA to reduce the dimensionality of the dataset.\n",
    "\n",
    "PCA will find a new set of 10 principal components that capture the most variation in the data. These 10 principal components can then be used to represent the original images. This will reduce the size of the dataset from 10000 features to 10 features, which can be much more manageable for machine learning algorithms.\n",
    "\n",
    "The principal components can also be used to visualize the data in a lower dimensional space. For example, we can plot the first two principal components against each other. This will create a scatter plot where each point represents an image. The closer two points are together, the more similar the two images are.\n",
    "\n",
    "In this example, PCA can be used to extract 10 features from the original 10000 features. These 10 features can then be used to represent the original images and to train a machine learning algorithm to classify the images.\n",
    "\n",
    "PCA is a powerful technique that can be used for feature extraction. It can be used to reduce the dimensionality of a dataset while preserving the most important features. This can be helpful for machine learning algorithms, as they can often be more computationally efficient when working with smaller datasets."
   ]
  },
  {
   "cell_type": "code",
   "execution_count": 58,
   "id": "1f44d4c4-77a0-4fff-b810-60013c0059ac",
   "metadata": {},
   "outputs": [],
   "source": [
    "#5"
   ]
  },
  {
   "cell_type": "markdown",
   "id": "f7b49396-cd3d-4709-8788-da01c1d58732",
   "metadata": {},
   "source": [
    "Min-Max scaling is a technique for feature scaling that transforms the values of each feature to a range of 0 to 1. This is done by subtracting the minimum value of each feature from all of its values and then dividing by the difference between the maximum and minimum values.\n",
    "\n",
    "Min-Max scaling in contrast of food delivery service the price of a meal can range from a few dollars to hundreds of dollars, while the delivery time can range from a few minutes to a few hours. Min-Max scaling can be used to transform these features to a range of 0 to 1, so that they are both on the same scale.\n",
    "\n",
    "Steps to scaling food service data\n",
    "\n",
    "1.Import the MinMaxScaler class from the scikit-learn library.\n",
    "\n",
    "2.Create a MinMaxScaler object.\n",
    "\n",
    "3.Fit the scaler to the data. This will learn the minimum and maximum values of each feature.\n",
    "\n",
    "4.Transform the data. This will scale the data to a range of 0 to 1.\n",
    "\n"
   ]
  },
  {
   "cell_type": "code",
   "execution_count": 62,
   "id": "b11fbb12-4c35-413d-b72c-d6e5244d9278",
   "metadata": {},
   "outputs": [],
   "source": [
    "#Example\n",
    "import seaborn as sns \n",
    "from sklearn.preprocessing import MinMaxScaler"
   ]
  },
  {
   "cell_type": "code",
   "execution_count": 66,
   "id": "f801f264-7592-4e58-a1de-50bb810f9116",
   "metadata": {},
   "outputs": [],
   "source": [
    "#As food service data is not available i m using in bulit data of seaborn i.e 'flights'"
   ]
  },
  {
   "cell_type": "code",
   "execution_count": 70,
   "id": "d308b751-6fdd-4be8-a2c1-4f2294e64925",
   "metadata": {},
   "outputs": [
    {
     "data": {
      "text/html": [
       "<div>\n",
       "<style scoped>\n",
       "    .dataframe tbody tr th:only-of-type {\n",
       "        vertical-align: middle;\n",
       "    }\n",
       "\n",
       "    .dataframe tbody tr th {\n",
       "        vertical-align: top;\n",
       "    }\n",
       "\n",
       "    .dataframe thead th {\n",
       "        text-align: right;\n",
       "    }\n",
       "</style>\n",
       "<table border=\"1\" class=\"dataframe\">\n",
       "  <thead>\n",
       "    <tr style=\"text-align: right;\">\n",
       "      <th></th>\n",
       "      <th>year</th>\n",
       "      <th>month</th>\n",
       "      <th>passengers</th>\n",
       "    </tr>\n",
       "  </thead>\n",
       "  <tbody>\n",
       "    <tr>\n",
       "      <th>0</th>\n",
       "      <td>1949</td>\n",
       "      <td>Jan</td>\n",
       "      <td>112</td>\n",
       "    </tr>\n",
       "    <tr>\n",
       "      <th>1</th>\n",
       "      <td>1949</td>\n",
       "      <td>Feb</td>\n",
       "      <td>118</td>\n",
       "    </tr>\n",
       "    <tr>\n",
       "      <th>2</th>\n",
       "      <td>1949</td>\n",
       "      <td>Mar</td>\n",
       "      <td>132</td>\n",
       "    </tr>\n",
       "    <tr>\n",
       "      <th>3</th>\n",
       "      <td>1949</td>\n",
       "      <td>Apr</td>\n",
       "      <td>129</td>\n",
       "    </tr>\n",
       "    <tr>\n",
       "      <th>4</th>\n",
       "      <td>1949</td>\n",
       "      <td>May</td>\n",
       "      <td>121</td>\n",
       "    </tr>\n",
       "  </tbody>\n",
       "</table>\n",
       "</div>"
      ],
      "text/plain": [
       "   year month  passengers\n",
       "0  1949   Jan         112\n",
       "1  1949   Feb         118\n",
       "2  1949   Mar         132\n",
       "3  1949   Apr         129\n",
       "4  1949   May         121"
      ]
     },
     "execution_count": 70,
     "metadata": {},
     "output_type": "execute_result"
    }
   ],
   "source": [
    "data=sns.load_dataset('flights')\n",
    "data.head()"
   ]
  },
  {
   "cell_type": "code",
   "execution_count": 68,
   "id": "9767f95e-dca7-4985-9530-6d0b3aa7cc75",
   "metadata": {},
   "outputs": [],
   "source": [
    "min_max=MinMaxScaler()"
   ]
  },
  {
   "cell_type": "code",
   "execution_count": 72,
   "id": "3e4b8cc9-491e-4342-b32c-520960dfb637",
   "metadata": {},
   "outputs": [
    {
     "data": {
      "text/html": [
       "<style>#sk-container-id-1 {color: black;background-color: white;}#sk-container-id-1 pre{padding: 0;}#sk-container-id-1 div.sk-toggleable {background-color: white;}#sk-container-id-1 label.sk-toggleable__label {cursor: pointer;display: block;width: 100%;margin-bottom: 0;padding: 0.3em;box-sizing: border-box;text-align: center;}#sk-container-id-1 label.sk-toggleable__label-arrow:before {content: \"▸\";float: left;margin-right: 0.25em;color: #696969;}#sk-container-id-1 label.sk-toggleable__label-arrow:hover:before {color: black;}#sk-container-id-1 div.sk-estimator:hover label.sk-toggleable__label-arrow:before {color: black;}#sk-container-id-1 div.sk-toggleable__content {max-height: 0;max-width: 0;overflow: hidden;text-align: left;background-color: #f0f8ff;}#sk-container-id-1 div.sk-toggleable__content pre {margin: 0.2em;color: black;border-radius: 0.25em;background-color: #f0f8ff;}#sk-container-id-1 input.sk-toggleable__control:checked~div.sk-toggleable__content {max-height: 200px;max-width: 100%;overflow: auto;}#sk-container-id-1 input.sk-toggleable__control:checked~label.sk-toggleable__label-arrow:before {content: \"▾\";}#sk-container-id-1 div.sk-estimator input.sk-toggleable__control:checked~label.sk-toggleable__label {background-color: #d4ebff;}#sk-container-id-1 div.sk-label input.sk-toggleable__control:checked~label.sk-toggleable__label {background-color: #d4ebff;}#sk-container-id-1 input.sk-hidden--visually {border: 0;clip: rect(1px 1px 1px 1px);clip: rect(1px, 1px, 1px, 1px);height: 1px;margin: -1px;overflow: hidden;padding: 0;position: absolute;width: 1px;}#sk-container-id-1 div.sk-estimator {font-family: monospace;background-color: #f0f8ff;border: 1px dotted black;border-radius: 0.25em;box-sizing: border-box;margin-bottom: 0.5em;}#sk-container-id-1 div.sk-estimator:hover {background-color: #d4ebff;}#sk-container-id-1 div.sk-parallel-item::after {content: \"\";width: 100%;border-bottom: 1px solid gray;flex-grow: 1;}#sk-container-id-1 div.sk-label:hover label.sk-toggleable__label {background-color: #d4ebff;}#sk-container-id-1 div.sk-serial::before {content: \"\";position: absolute;border-left: 1px solid gray;box-sizing: border-box;top: 0;bottom: 0;left: 50%;z-index: 0;}#sk-container-id-1 div.sk-serial {display: flex;flex-direction: column;align-items: center;background-color: white;padding-right: 0.2em;padding-left: 0.2em;position: relative;}#sk-container-id-1 div.sk-item {position: relative;z-index: 1;}#sk-container-id-1 div.sk-parallel {display: flex;align-items: stretch;justify-content: center;background-color: white;position: relative;}#sk-container-id-1 div.sk-item::before, #sk-container-id-1 div.sk-parallel-item::before {content: \"\";position: absolute;border-left: 1px solid gray;box-sizing: border-box;top: 0;bottom: 0;left: 50%;z-index: -1;}#sk-container-id-1 div.sk-parallel-item {display: flex;flex-direction: column;z-index: 1;position: relative;background-color: white;}#sk-container-id-1 div.sk-parallel-item:first-child::after {align-self: flex-end;width: 50%;}#sk-container-id-1 div.sk-parallel-item:last-child::after {align-self: flex-start;width: 50%;}#sk-container-id-1 div.sk-parallel-item:only-child::after {width: 0;}#sk-container-id-1 div.sk-dashed-wrapped {border: 1px dashed gray;margin: 0 0.4em 0.5em 0.4em;box-sizing: border-box;padding-bottom: 0.4em;background-color: white;}#sk-container-id-1 div.sk-label label {font-family: monospace;font-weight: bold;display: inline-block;line-height: 1.2em;}#sk-container-id-1 div.sk-label-container {text-align: center;}#sk-container-id-1 div.sk-container {/* jupyter's `normalize.less` sets `[hidden] { display: none; }` but bootstrap.min.css set `[hidden] { display: none !important; }` so we also need the `!important` here to be able to override the default hidden behavior on the sphinx rendered scikit-learn.org. See: https://github.com/scikit-learn/scikit-learn/issues/21755 */display: inline-block !important;position: relative;}#sk-container-id-1 div.sk-text-repr-fallback {display: none;}</style><div id=\"sk-container-id-1\" class=\"sk-top-container\"><div class=\"sk-text-repr-fallback\"><pre>MinMaxScaler()</pre><b>In a Jupyter environment, please rerun this cell to show the HTML representation or trust the notebook. <br />On GitHub, the HTML representation is unable to render, please try loading this page with nbviewer.org.</b></div><div class=\"sk-container\" hidden><div class=\"sk-item\"><div class=\"sk-estimator sk-toggleable\"><input class=\"sk-toggleable__control sk-hidden--visually\" id=\"sk-estimator-id-1\" type=\"checkbox\" checked><label for=\"sk-estimator-id-1\" class=\"sk-toggleable__label sk-toggleable__label-arrow\">MinMaxScaler</label><div class=\"sk-toggleable__content\"><pre>MinMaxScaler()</pre></div></div></div></div></div>"
      ],
      "text/plain": [
       "MinMaxScaler()"
      ]
     },
     "execution_count": 72,
     "metadata": {},
     "output_type": "execute_result"
    }
   ],
   "source": [
    "min_max.fit(data[['year','passengers']])"
   ]
  },
  {
   "cell_type": "code",
   "execution_count": 73,
   "id": "5df6dac2-77ea-41c8-a678-d13ad8911530",
   "metadata": {},
   "outputs": [
    {
     "data": {
      "text/plain": [
       "array([[0.        , 0.01544402],\n",
       "       [0.        , 0.02702703],\n",
       "       [0.        , 0.05405405],\n",
       "       [0.        , 0.04826255],\n",
       "       [0.        , 0.03281853],\n",
       "       [0.        , 0.05984556],\n",
       "       [0.        , 0.08494208],\n",
       "       [0.        , 0.08494208],\n",
       "       [0.        , 0.06177606],\n",
       "       [0.        , 0.02895753],\n",
       "       [0.        , 0.        ],\n",
       "       [0.        , 0.02702703],\n",
       "       [0.09090909, 0.02123552],\n",
       "       [0.09090909, 0.04247104],\n",
       "       [0.09090909, 0.07142857],\n",
       "       [0.09090909, 0.05984556],\n",
       "       [0.09090909, 0.04054054],\n",
       "       [0.09090909, 0.08687259],\n",
       "       [0.09090909, 0.12741313],\n",
       "       [0.09090909, 0.12741313],\n",
       "       [0.09090909, 0.1042471 ],\n",
       "       [0.09090909, 0.05598456],\n",
       "       [0.09090909, 0.01930502],\n",
       "       [0.09090909, 0.06949807],\n",
       "       [0.18181818, 0.07915058],\n",
       "       [0.18181818, 0.08880309],\n",
       "       [0.18181818, 0.14285714],\n",
       "       [0.18181818, 0.11389961],\n",
       "       [0.18181818, 0.13127413],\n",
       "       [0.18181818, 0.14285714],\n",
       "       [0.18181818, 0.18339768],\n",
       "       [0.18181818, 0.18339768],\n",
       "       [0.18181818, 0.15444015],\n",
       "       [0.18181818, 0.11196911],\n",
       "       [0.18181818, 0.08108108],\n",
       "       [0.18181818, 0.11969112],\n",
       "       [0.27272727, 0.12934363],\n",
       "       [0.27272727, 0.14671815],\n",
       "       [0.27272727, 0.17181467],\n",
       "       [0.27272727, 0.14864865],\n",
       "       [0.27272727, 0.15250965],\n",
       "       [0.27272727, 0.22007722],\n",
       "       [0.27272727, 0.24324324],\n",
       "       [0.27272727, 0.26640927],\n",
       "       [0.27272727, 0.2027027 ],\n",
       "       [0.27272727, 0.16795367],\n",
       "       [0.27272727, 0.13127413],\n",
       "       [0.27272727, 0.17374517],\n",
       "       [0.36363636, 0.17760618],\n",
       "       [0.36363636, 0.17760618],\n",
       "       [0.36363636, 0.25482625],\n",
       "       [0.36363636, 0.25289575],\n",
       "       [0.36363636, 0.24131274],\n",
       "       [0.36363636, 0.26833977],\n",
       "       [0.36363636, 0.30888031],\n",
       "       [0.36363636, 0.32432432],\n",
       "       [0.36363636, 0.25675676],\n",
       "       [0.36363636, 0.20656371],\n",
       "       [0.36363636, 0.14671815],\n",
       "       [0.36363636, 0.18725869],\n",
       "       [0.45454545, 0.19305019],\n",
       "       [0.45454545, 0.16216216],\n",
       "       [0.45454545, 0.25289575],\n",
       "       [0.45454545, 0.23745174],\n",
       "       [0.45454545, 0.25096525],\n",
       "       [0.45454545, 0.30888031],\n",
       "       [0.45454545, 0.38223938],\n",
       "       [0.45454545, 0.36486486],\n",
       "       [0.45454545, 0.2992278 ],\n",
       "       [0.45454545, 0.24131274],\n",
       "       [0.45454545, 0.19111969],\n",
       "       [0.45454545, 0.24131274],\n",
       "       [0.54545455, 0.26640927],\n",
       "       [0.54545455, 0.24903475],\n",
       "       [0.54545455, 0.31467181],\n",
       "       [0.54545455, 0.31853282],\n",
       "       [0.54545455, 0.32046332],\n",
       "       [0.54545455, 0.40733591],\n",
       "       [0.54545455, 0.5019305 ],\n",
       "       [0.54545455, 0.46911197],\n",
       "       [0.54545455, 0.4015444 ],\n",
       "       [0.54545455, 0.32818533],\n",
       "       [0.54545455, 0.25675676],\n",
       "       [0.54545455, 0.33590734],\n",
       "       [0.63636364, 0.34749035],\n",
       "       [0.63636364, 0.33397683],\n",
       "       [0.63636364, 0.41119691],\n",
       "       [0.63636364, 0.4034749 ],\n",
       "       [0.63636364, 0.41312741],\n",
       "       [0.63636364, 0.52123552],\n",
       "       [0.63636364, 0.5965251 ],\n",
       "       [0.63636364, 0.58108108],\n",
       "       [0.63636364, 0.48455598],\n",
       "       [0.63636364, 0.38996139],\n",
       "       [0.63636364, 0.32239382],\n",
       "       [0.63636364, 0.38996139],\n",
       "       [0.72727273, 0.40733591],\n",
       "       [0.72727273, 0.38030888],\n",
       "       [0.72727273, 0.48648649],\n",
       "       [0.72727273, 0.47104247],\n",
       "       [0.72727273, 0.48455598],\n",
       "       [0.72727273, 0.61389961],\n",
       "       [0.72727273, 0.6969112 ],\n",
       "       [0.72727273, 0.7007722 ],\n",
       "       [0.72727273, 0.57915058],\n",
       "       [0.72727273, 0.46911197],\n",
       "       [0.72727273, 0.38803089],\n",
       "       [0.72727273, 0.44787645],\n",
       "       [0.81818182, 0.45559846],\n",
       "       [0.81818182, 0.41312741],\n",
       "       [0.81818182, 0.4980695 ],\n",
       "       [0.81818182, 0.47104247],\n",
       "       [0.81818182, 0.5       ],\n",
       "       [0.81818182, 0.63899614],\n",
       "       [0.81818182, 0.74710425],\n",
       "       [0.81818182, 0.77413127],\n",
       "       [0.81818182, 0.57915058],\n",
       "       [0.81818182, 0.49227799],\n",
       "       [0.81818182, 0.3976834 ],\n",
       "       [0.81818182, 0.44980695],\n",
       "       [0.90909091, 0.49420849],\n",
       "       [0.90909091, 0.45945946],\n",
       "       [0.90909091, 0.58301158],\n",
       "       [0.90909091, 0.56370656],\n",
       "       [0.90909091, 0.61003861],\n",
       "       [0.90909091, 0.71042471],\n",
       "       [0.90909091, 0.85714286],\n",
       "       [0.90909091, 0.87837838],\n",
       "       [0.90909091, 0.69305019],\n",
       "       [0.90909091, 0.58494208],\n",
       "       [0.90909091, 0.4980695 ],\n",
       "       [0.90909091, 0.58108108],\n",
       "       [1.        , 0.6042471 ],\n",
       "       [1.        , 0.55405405],\n",
       "       [1.        , 0.60810811],\n",
       "       [1.        , 0.68918919],\n",
       "       [1.        , 0.71042471],\n",
       "       [1.        , 0.83204633],\n",
       "       [1.        , 1.        ],\n",
       "       [1.        , 0.96911197],\n",
       "       [1.        , 0.77992278],\n",
       "       [1.        , 0.68918919],\n",
       "       [1.        , 0.55212355],\n",
       "       [1.        , 0.63320463]])"
      ]
     },
     "execution_count": 73,
     "metadata": {},
     "output_type": "execute_result"
    }
   ],
   "source": [
    "min_max.transform(data[['year','passengers']])"
   ]
  },
  {
   "cell_type": "code",
   "execution_count": 74,
   "id": "93780191-8b5d-4eba-acb0-4d8267e95f8c",
   "metadata": {},
   "outputs": [],
   "source": [
    "#6"
   ]
  },
  {
   "cell_type": "markdown",
   "id": "1c5bb51d-be4b-4d47-ba22-5f8247599dde",
   "metadata": {},
   "source": [
    "In the context of a stock price prediction model, PCA can be used to:\n",
    "\n",
    "Reduce the computational complexity of the model. A model with a large number of features can be more computationally expensive to train and predict with. PCA can be used to reduce the number of features in the dataset, which can make the model more efficient.\n",
    "\n",
    "Improve the performance of the model. PCA can be used to identify the most important features in the dataset and to focus the model on those features. This can improve the performance of the model, especially when the dataset is noisy or when there is a high correlation between the features.\n",
    "\n",
    "steps on how to use PCA to reduce the dimensionality of a stock price dataset:\n",
    "\n",
    "Import the PCA class from the scikit-learn library.\n",
    "\n",
    "Create a PCA object.\n",
    "\n",
    "Fit the PCA object to the data. This will learn the principal components of the data.\n",
    "\n",
    "Select the number of principal components to keep. This can be done by using a technique called elbow method. \n",
    "The elbow method plots the cumulative explained variance ratio against the number of principal components. The \n",
    "point where the curve starts to bend sharply is the elbow, and this is the number of principal components to keep.\n",
    "\n",
    "Transform the data. This will project the data onto the selected principal components."
   ]
  },
  {
   "cell_type": "code",
   "execution_count": 75,
   "id": "ea9b2521-f05a-4ae9-b625-de0f3d8f342f",
   "metadata": {},
   "outputs": [],
   "source": [
    "#7\n"
   ]
  },
  {
   "cell_type": "code",
   "execution_count": 82,
   "id": "fe8c2ba0-18eb-412a-8120-4bdd77c6786c",
   "metadata": {},
   "outputs": [],
   "source": [
    "import numpy as np"
   ]
  },
  {
   "cell_type": "code",
   "execution_count": 87,
   "id": "a645a6ff-62f3-453a-92a4-360a62e8b0c5",
   "metadata": {},
   "outputs": [],
   "source": [
    "data=[1,5,10,15,20]"
   ]
  },
  {
   "cell_type": "code",
   "execution_count": 89,
   "id": "7a4ed60e-20ba-4661-aec1-6004db9d504d",
   "metadata": {},
   "outputs": [],
   "source": [
    "min_value=np.min(data)\n",
    "max_value=np.max(data)"
   ]
  },
  {
   "cell_type": "code",
   "execution_count": 96,
   "id": "cea1861d-de0b-4460-8707-67333e89a68c",
   "metadata": {},
   "outputs": [],
   "source": [
    "scaled_data=(data-min_value)/(max_value-min_value)"
   ]
  },
  {
   "cell_type": "code",
   "execution_count": 97,
   "id": "d2eaecb8-d120-48b7-a9e5-9e0997d7681b",
   "metadata": {},
   "outputs": [
    {
     "data": {
      "text/plain": [
       "array([0.        , 0.21052632, 0.47368421, 0.73684211, 1.        ])"
      ]
     },
     "execution_count": 97,
     "metadata": {},
     "output_type": "execute_result"
    }
   ],
   "source": [
    "scaled_data"
   ]
  },
  {
   "cell_type": "code",
   "execution_count": 98,
   "id": "f54f2b8c-953a-4e01-ac84-402823e3e86b",
   "metadata": {},
   "outputs": [],
   "source": [
    "#8"
   ]
  },
  {
   "cell_type": "markdown",
   "id": "2f0a2eee-7ec6-4a75-a7c6-0ad479760fe0",
   "metadata": {},
   "source": [
    "PCA (Principal Component Analysis) is a technique for dimensionality reduction that can be used to reduce the number of features in a dataset without losing too much information. This can be useful for machine learning algorithms, as they can often be more computationally efficient when working with smaller datasets.\n",
    "\n",
    "In this case, the dataset contains the following features:\n",
    "\n",
    "height\n",
    "\n",
    "weight\n",
    "\n",
    "age\n",
    "\n",
    "gender\n",
    "\n",
    "blood pressure\n",
    "\n",
    "These features are all correlated to some extent, so PCA can be used to reduce the number of features without losing too much information\n",
    "\n"
   ]
  },
  {
   "cell_type": "code",
   "execution_count": 100,
   "id": "043e7816-e6f8-4d89-b6d1-476593a8e939",
   "metadata": {},
   "outputs": [],
   "source": [
    "import numpy as np\n",
    "from sklearn.decomposition import PCA\n",
    "\n",
    "\n",
    "data = np.array([\n",
    "    [170, 70, 25, 1, 120],\n",
    "    [180, 80, 30, 0, 130],\n",
    "    [160, 60, 20, 1, 110],\n",
    "])\n",
    "\n",
    "\n",
    "pca = PCA(n_components=None)\n",
    "\n",
    "\n",
    "pca.fit(data)\n",
    "\n",
    "scaled_data = pca.transform(data)\n",
    "\n"
   ]
  },
  {
   "cell_type": "markdown",
   "id": "f4006dc2-494a-48ed-b4b2-dcd7388709b9",
   "metadata": {},
   "source": [
    "To choose the number of principal components to retain, we can use the elbow method. The elbow method plots the cumulative explained variance ratio against the number of principal components. The point where the curve starts to bend sharply is the elbow, and this is the number of principal components to keep."
   ]
  },
  {
   "cell_type": "code",
   "execution_count": 108,
   "id": "13ecca7a-3bdc-4d4e-97e7-00cb177dc877",
   "metadata": {},
   "outputs": [
    {
     "data": {
      "image/png": "[encoded data removed]",
      "text/plain": [
       "<Figure size 640x480 with 1 Axes>"
      ]
     },
     "metadata": {},
     "output_type": "display_data"
    }
   ],
   "source": [
    "import matplotlib.pyplot as plt\n",
    "explained_variance_ratio = pca.explained_variance_ratio_\n",
    "\n",
    "plt.plot(explained_variance_ratio)\n",
    "plt.xlabel(\"Number of principal components\")\n",
    "plt.ylabel(\"Cumulative explained variance ratio\")\n",
    "plt.show()"
   ]
  },
  {
   "cell_type": "markdown",
   "id": "e0574ec9-69aa-4a20-96b2-4f9082bf50df",
   "metadata": {},
   "source": [
    "This code will plot the cumulative explained variance ratio as a function of the number of principal components. The elbow in the curve is at 2 principal components, so we should retain 2 principal components.\n",
    "\n",
    "The reason we choose to retain 2 principal components is because these 2 components capture the most variation in the data. The other 3 components capture less variation in the data, and they are not as important for machine learning algorithms.\n",
    "\n",
    "In conclusion, we can use PCA to reduce the dimensionality of the dataset to 2 principal components without losing too much information. This can be beneficial for machine learning algorithms, as they can often be more computationally efficient when working with smaller datasets."
   ]
  },
  {
   "cell_type": "code",
   "execution_count": null,
   "id": "293b4710-5aa3-4f8a-8c8e-6b371aea592d",
   "metadata": {},
   "outputs": [],
   "source": []
  },
  {
   "cell_type": "code",
   "execution_count": null,
   "id": "7dab6ab1-d29c-4b3e-b1de-c6fd42259c38",
   "metadata": {},
   "outputs": [],
   "source": []
  },
  {
   "cell_type": "code",
   "execution_count": null,
   "id": "0f8cb8ed-4c4f-4f26-99f8-0798406b5905",
   "metadata": {},
   "outputs": [],
   "source": []
  },
  {
   "cell_type": "code",
   "execution_count": null,
   "id": "2ff5f177-349a-478b-bd4d-adf9255d0fc8",
   "metadata": {},
   "outputs": [],
   "source": []
  },
  {
   "cell_type": "code",
   "execution_count": null,
   "id": "fd478eea-b1ca-4666-9ff6-804afd39993d",
   "metadata": {},
   "outputs": [],
   "source": []
  },
  {
   "cell_type": "code",
   "execution_count": null,
   "id": "1e3c8813-e920-4944-bc63-d437952e0ce8",
   "metadata": {},
   "outputs": [],
   "source": []
  },
  {
   "cell_type": "code",
   "execution_count": null,
   "id": "2131e9f5-b1c0-4f5a-986e-3ca3775ce669",
   "metadata": {},
   "outputs": [],
   "source": []
  }
 ],
 "metadata": {
  "kernelspec": {
   "display_name": "Python 3 (ipykernel)",
   "language": "python",
   "name": "python3"
  },
  "language_info": {
   "codemirror_mode": {
    "name": "ipython",
    "version": 3
   },
   "file_extension": ".py",
   "mimetype": "text/x-python",
   "name": "python",
   "nbconvert_exporter": "python",
   "pygments_lexer": "ipython3",
   "version": "3.10.8"
  }
 },
 "nbformat": 4,
 "nbformat_minor": 5
}
