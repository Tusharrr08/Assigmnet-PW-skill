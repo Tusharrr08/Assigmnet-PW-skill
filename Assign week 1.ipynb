{
 "cells": [
  {
   "cell_type": "code",
   "execution_count": null,
   "id": "f323d607-285f-4e5c-93c7-e8da743e4363",
   "metadata": {},
   "outputs": [],
   "source": [
    "1 \n",
    "\n",
    "a = \"Tushar\" # string\n",
    "a = [ 12, 12.4, 'Tushar'] # list\n",
    "a = ( 12, 12.4, 'Tushar') # tuple\n",
    "a =  12.34 # float"
   ]
  },
  {
   "cell_type": "code",
   "execution_count": null,
   "id": "7261d19b-4d90-4ec2-a86b-eb14e7fb4ad4",
   "metadata": {},
   "outputs": [],
   "source": [
    "2\n",
    "var 1 --> String\n",
    "var 2 --> List\n",
    "var 3 --> List\n",
    "var4 -->  float"
   ]
  },
  {
   "cell_type": "code",
   "execution_count": null,
   "id": "b94d991a-8473-45ec-b361-126aa055f378",
   "metadata": {},
   "outputs": [],
   "source": [
    "3\n",
    "/ --> used to dividing first operand by second\n",
    "% --> used to take out remainder when no. is divided\n",
    "// --> used to dividing first operand by second\n",
    "** --> used to give exponent of a number "
   ]
  },
  {
   "cell_type": "code",
   "execution_count": 93,
   "id": "a0600471-2980-420f-af81-6fb38e43a416",
   "metadata": {},
   "outputs": [
    {
     "name": "stdout",
     "output_type": "stream",
     "text": [
      "12\n",
      "<class 'int'>\n",
      "12.34\n",
      "<class 'float'>\n",
      "Tushar\n",
      "<class 'str'>\n",
      "T\n",
      "<class 'str'>\n",
      "True\n",
      "<class 'bool'>\n",
      "[12, 12.34, 'Tushar', 'T', True]\n",
      "<class 'list'>\n",
      "(12, 12.34, 'Tushar', 'T', True)\n",
      "<class 'tuple'>\n",
      "range(0, 10)\n",
      "<class 'range'>\n"
     ]
    }
   ],
   "source": [
    "4\n",
    "t = [ 12, 12.34, 'Tushar', 'T', True, [ 12, 12.34, 'Tushar', 'T', True, ], ( 12, 12.34, 'Tushar', 'T', True,), range(10),]\n",
    "for i in t :\n",
    "    print(i)\n",
    "    print(type(i))\n",
    "\n",
    "  \n",
    "   \n",
    "  \n",
    "    \n",
    " \n",
    "   "
   ]
  },
  {
   "cell_type": "code",
   "execution_count": 45,
   "id": "ed73c4b1-1294-46c1-8e61-6edcee415dfc",
   "metadata": {},
   "outputs": [
    {
     "ename": "SyntaxError",
     "evalue": "unmatched ')' (4031563325.py, line 1)",
     "output_type": "error",
     "traceback": [
      "\u001b[0;36m  Cell \u001b[0;32mIn[45], line 1\u001b[0;36m\u001b[0m\n\u001b[0;31m    5)\u001b[0m\n\u001b[0m     ^\u001b[0m\n\u001b[0;31mSyntaxError\u001b[0m\u001b[0;31m:\u001b[0m unmatched ')'\n"
     ]
    }
   ],
   "source": [
    "5\n",
    "a = int(input(\"Enter the value of A: \"))\n",
    "b = int(input(\"Enter the value of B: \"))\n",
    "\n",
    "count = 0\n",
    "\n",
    "while a % b == 0:\n",
    "    count += 1\n",
    "    a = a / b\n",
    "\n",
    "if count > 0:\n",
    "    print(\"Number A is divisible by B \", count, \" times.\")\n",
    "else:\n",
    "    print(\"Number A is not divisible by B.\")"
   ]
  },
  {
   "cell_type": "code",
   "execution_count": 44,
   "id": "8803e941-8b6d-404e-9b46-274b44fcf3b0",
   "metadata": {},
   "outputs": [
    {
     "name": "stdout",
     "output_type": "stream",
     "text": [
      "3\n",
      "6\n",
      "9\n",
      "12\n",
      "15\n",
      "18\n",
      "21\n",
      "24\n"
     ]
    }
   ],
   "source": [
    "6\n",
    "m = [1,2,3,4,5,6,7,8,9,10,11,12,13,14,15,16,17,18,19,20,21,22,23,24,25]\n",
    "for i in m :\n",
    "    if ( i%3==0):\n",
    "        print(i)\n",
    "    else:\n",
    "        print(\"Number is not divisile by 3\")\n",
    "        \n",
    "    \n",
    "  "
   ]
  },
  {
   "cell_type": "code",
   "execution_count": 68,
   "id": "0b3fcf9c-8649-4972-a7be-97385d526cb4",
   "metadata": {},
   "outputs": [
    {
     "ename": "SyntaxError",
     "evalue": "invalid syntax (1639449888.py, line 2)",
     "output_type": "error",
     "traceback": [
      "\u001b[0;36m  Cell \u001b[0;32mIn[68], line 2\u001b[0;36m\u001b[0m\n\u001b[0;31m    Mutable--> Mutable data type are those data type which can be changed according\u001b[0m\n\u001b[0m            ^\u001b[0m\n\u001b[0;31mSyntaxError\u001b[0m\u001b[0;31m:\u001b[0m invalid syntax\n"
     ]
    }
   ],
   "source": [
    "7\n",
    "Mutable--> Mutable data type are those data type which can be changed according\n",
    "        our needs in list\n",
    " "
   ]
  },
  {
   "cell_type": "code",
   "execution_count": 83,
   "id": "d1cc9fd8-a526-45c7-bd96-cfd90185de9b",
   "metadata": {},
   "outputs": [
    {
     "name": "stdout",
     "output_type": "stream",
     "text": [
      "[1, 2320, 'Tushar']\n",
      "[1, 2, 'Tushar']\n"
     ]
    }
   ],
   "source": [
    "s = [1, 2320, 'Tushar']\n",
    "print(s)\n",
    "s[1]=2\n",
    "print(s)"
   ]
  },
  {
   "cell_type": "code",
   "execution_count": null,
   "id": "bd588161-b067-4f4f-a327-caa88c26335d",
   "metadata": {},
   "outputs": [],
   "source": [
    "immutable--> Immutable data type are those data type which cannot be changed according\n",
    "        our needs in list or \n",
    "    \n",
    "   \n",
    "    \n",
    "    "
   ]
  },
  {
   "cell_type": "code",
   "execution_count": 86,
   "id": "96ac3b55-6d6c-4cb5-8181-3592125aa1d6",
   "metadata": {},
   "outputs": [
    {
     "name": "stdout",
     "output_type": "stream",
     "text": [
      "Tushar\n"
     ]
    },
    {
     "ename": "TypeError",
     "evalue": "'str' object does not support item assignment",
     "output_type": "error",
     "traceback": [
      "\u001b[0;31m---------------------------------------------------------------------------\u001b[0m",
      "\u001b[0;31mTypeError\u001b[0m                                 Traceback (most recent call last)",
      "Cell \u001b[0;32mIn[86], line 3\u001b[0m\n\u001b[1;32m      1\u001b[0m a \u001b[38;5;241m=\u001b[39m \u001b[38;5;124m\"\u001b[39m\u001b[38;5;124mTushar\u001b[39m\u001b[38;5;124m\"\u001b[39m\n\u001b[1;32m      2\u001b[0m \u001b[38;5;28mprint\u001b[39m(a)\n\u001b[0;32m----> 3\u001b[0m \u001b[43ma\u001b[49m\u001b[43m[\u001b[49m\u001b[38;5;241;43m1\u001b[39;49m\u001b[43m]\u001b[49m\u001b[38;5;241m=\u001b[39m\u001b[38;5;124m\"\u001b[39m\u001b[38;5;124ma\u001b[39m\u001b[38;5;124m\"\u001b[39m\n\u001b[1;32m      4\u001b[0m \u001b[38;5;28mprint\u001b[39m(a)\n",
      "\u001b[0;31mTypeError\u001b[0m: 'str' object does not support item assignment"
     ]
    }
   ],
   "source": [
    "a = \"Tushar\"\n",
    "print(a)\n",
    "a[1]=\"a\"\n",
    "print(a)"
   ]
  }
 ],
 "metadata": {
  "kernelspec": {
   "display_name": "Python 3 (ipykernel)",
   "language": "python",
   "name": "python3"
  },
  "language_info": {
   "codemirror_mode": {
    "name": "ipython",
    "version": 3
   },
   "file_extension": ".py",
   "mimetype": "text/x-python",
   "name": "python",
   "nbconvert_exporter": "python",
   "pygments_lexer": "ipython3",
   "version": "3.10.8"
  }
 },
 "nbformat": 4,
 "nbformat_minor": 5
}
