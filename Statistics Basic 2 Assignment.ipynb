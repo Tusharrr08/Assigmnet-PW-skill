{
 "cells": [
  {
   "cell_type": "markdown",
   "id": "c4c07745-eadb-416b-943c-574585b4b3e8",
   "metadata": {},
   "source": [
    "#1\n",
    "\n",
    "The three measures of central tendency are the mean, median, and mode.\n",
    "\n",
    "Mean is the average of all the values in a dataset. It is calculated by adding up all the values and dividing by the number of values.\n",
    "\n",
    "Median is the middle value in a dataset when all the values are ordered from least to greatest. If there is an even number of values, the median is the average of the two middle values.\n",
    "\n",
    "Mode is the most frequent value in a dataset."
   ]
  },
  {
   "cell_type": "markdown",
   "id": "022fcfd4-5a8d-4d73-b9ec-0f5342ffc758",
   "metadata": {},
   "source": [
    "#2\n",
    "\n",
    "Mean is use to take out average of sample data while median use to take out middle of the data and mode is use to take out frequency of most repeated data in sample data\n",
    "\n",
    "The mean, median, and mode can all be used to measure the central tendency of a dataset :-\n",
    "\n",
    "The mean is the most commonly used measure of central tendency, but it can be sensitive to outliers. Outliers are values that are much larger or smaller than the rest of the data. If a dataset has a few outliers, the mean can be misleading.\n",
    "\n",
    "The median is not sensitive to outliers, but it can be misleading if the dataset is not symmetrical. A symmetrical dataset is one where the values are distributed evenly around the mean. If a dataset is not symmetrical, the median may not be a good representation of the central tendency.\n",
    "\n",
    "The mode is the least sensitive to outliers, but it is not always a good measure of central tendency if there are multiple modes. A mode is a value that appears more often than any other value in a dataset. If a dataset has multiple modes, it means that there are two or more values that appear equally often. In this case, the mode is not a good representation of the central tendency."
   ]
  },
  {
   "cell_type": "code",
   "execution_count": 8,
   "id": "8bc52968-8ff3-43f0-bd4e-0fabe01088c7",
   "metadata": {},
   "outputs": [
    {
     "data": {
      "text/plain": [
       "177.01875"
      ]
     },
     "execution_count": 8,
     "metadata": {},
     "output_type": "execute_result"
    }
   ],
   "source": [
    "#3\n",
    "import numpy as np\n",
    "data=[178,177,176,177,178.2,178,175,179,180,175,178.9,176.2,177,172.5,178,176.5]\n",
    "\n",
    "#Mean\n",
    "np.mean(data)\n",
    "\n"
   ]
  },
  {
   "cell_type": "code",
   "execution_count": 9,
   "id": "bd30e230-6a74-4920-8b72-8fb417b47055",
   "metadata": {},
   "outputs": [
    {
     "data": {
      "text/plain": [
       "177.0"
      ]
     },
     "execution_count": 9,
     "metadata": {},
     "output_type": "execute_result"
    }
   ],
   "source": [
    "#Median\n",
    "np.median(data)"
   ]
  },
  {
   "cell_type": "code",
   "execution_count": 14,
   "id": "3ef52c40-c937-4297-9081-d81596b71443",
   "metadata": {},
   "outputs": [],
   "source": [
    "from scipy import stats"
   ]
  },
  {
   "cell_type": "code",
   "execution_count": 16,
   "id": "7dd018e4-d029-4471-b492-a26bc0753db9",
   "metadata": {},
   "outputs": [
    {
     "name": "stderr",
     "output_type": "stream",
     "text": [
      "/tmp/ipykernel_70/579156357.py:2: FutureWarning: Unlike other reduction functions (e.g. `skew`, `kurtosis`), the default behavior of `mode` typically preserves the axis it acts along. In SciPy 1.11.0, this behavior will change: the default value of `keepdims` will become False, the `axis` over which the statistic is taken will be eliminated, and the value None will no longer be accepted. Set `keepdims` to True or False to avoid this warning.\n",
      "  stats.mode(data)\n"
     ]
    },
    {
     "data": {
      "text/plain": [
       "ModeResult(mode=array([177.]), count=array([3]))"
      ]
     },
     "execution_count": 16,
     "metadata": {},
     "output_type": "execute_result"
    }
   ],
   "source": [
    "data=[178,177,176,177,178.2,178,175,179,180,175,178.9,176.2,177,172.5,178,176.5]\n",
    "stats.mode(data)"
   ]
  },
  {
   "cell_type": "code",
   "execution_count": 17,
   "id": "4c76247d-5058-4966-9ee3-80afe0933fa3",
   "metadata": {},
   "outputs": [],
   "source": [
    "#4\n",
    "import numpy as np\n",
    "\n",
    "sample_data=[178,177,176,177,178.2,178,175,179,180,175,178.9,176.2,177,172.5,178,176.5]"
   ]
  },
  {
   "cell_type": "code",
   "execution_count": 18,
   "id": "978e64dc-b817-469e-8a3e-6173d9e1279c",
   "metadata": {},
   "outputs": [
    {
     "data": {
      "text/plain": [
       "1.7885814036548633"
      ]
     },
     "execution_count": 18,
     "metadata": {},
     "output_type": "execute_result"
    }
   ],
   "source": [
    "np.std(sample_data)"
   ]
  },
  {
   "cell_type": "markdown",
   "id": "167a6eea-b4c4-4415-9916-8f0e1d1d605a",
   "metadata": {},
   "source": [
    "#5\n",
    "\n",
    "Range is the simplest measure of dispersion. It is the difference between the highest and lowest values in a dataset.\n",
    "\n",
    "Variance is a more complex measure of dispersion. It measures the average squared deviation of the data points from the mean.\n",
    "\n",
    "Standard deviation is the square root of the variance. It is a more interpretable measure of dispersion than variance because it is in the same units as the data points."
   ]
  },
  {
   "cell_type": "code",
   "execution_count": 26,
   "id": "53c4877f-2a66-4782-8f51-d79c6828b36f",
   "metadata": {},
   "outputs": [
    {
     "name": "stdout",
     "output_type": "stream",
     "text": [
      "5\n"
     ]
    }
   ],
   "source": [
    "var=[1,2,3,4,5,6]\n",
    "range=np.max(var)-np.min(var)\n",
    "print(range)"
   ]
  },
  {
   "cell_type": "code",
   "execution_count": 27,
   "id": "50efaa56-70bc-474e-bd04-9f91fabf540b",
   "metadata": {},
   "outputs": [
    {
     "data": {
      "text/plain": [
       "(1.707825127659933, 2.9166666666666665)"
      ]
     },
     "execution_count": 27,
     "metadata": {},
     "output_type": "execute_result"
    }
   ],
   "source": [
    "np.std(var),np.var(var)"
   ]
  },
  {
   "cell_type": "markdown",
   "id": "ad19eadc-e9ba-43f4-ac6b-403537bd6277",
   "metadata": {},
   "source": [
    "#6\n",
    "\n",
    "Venn diagram is a diagramatic way of porducing data inside circles or ellipses which represents sets and they  are intersecting each other under the rectangular box . It is popularized by John Venn in 1880s."
   ]
  },
  {
   "cell_type": "markdown",
   "id": "8ac7f861-c0a4-4d1d-95c4-6df936f6f7c0",
   "metadata": {},
   "source": [
    "#7\n",
    "\n",
    "A = (2,3,4,5,6,7) & B = (0,2,6,8,10)\n",
    "\n",
    "(i) A intersection B -- {2,6}\n",
    "\n",
    "(ii) A Union B -- {0,2,3,4,5,6,7,8,10}\n"
   ]
  },
  {
   "cell_type": "markdown",
   "id": "bac380b4-296e-4a1c-bfa0-4b10f0a3c061",
   "metadata": {},
   "source": [
    "#8\n",
    "\n",
    "Skewness is a measure of the asymmetry of a distribution. It is a statistical measure that describes the extent to which the data is distributed unevenly around the mean. A distribution is said to be skewed if the mean, median, and mode are not all equal.\n",
    "\n",
    "There are two types of skewness:\n",
    "\n",
    "Positive skewness: This occurs when the tail of the distribution is longer on the right side of the mean. This means that there are more data points on the right side of the mean than on the left.\n",
    "\n",
    "Negative skewness: This occurs when the tail of the distribution is longer on the left side of the mean. This means that there are more data points on the left side of the mean than on the right."
   ]
  },
  {
   "cell_type": "markdown",
   "id": "a1fdcd47-30a3-4a88-9a55-b1eb01a58eae",
   "metadata": {},
   "source": [
    "#9\n",
    "\n",
    "\n",
    "If a data is right skewed, then the median will be less than the mean. This is because the mean is affected by outliers, which are data points that are much larger or smaller than the rest of the data. In a right-skewed distribution, the outliers are located on the right side of the distribution, which means that they pull the mean towards the right. The median, on the other hand, is not affected by outliers, so it remains in the center of the distribution.\n",
    "\n",
    "mean>median>mode"
   ]
  },
  {
   "cell_type": "markdown",
   "id": "ef4b418a-8540-401a-adc1-4d723080fff2",
   "metadata": {},
   "source": [
    "#10\n",
    "\n",
    "Covariance measures the extent to which two variables change together. It is calculated by taking the average of the products of the deviations from the mean for each variable.\n",
    "\n",
    "Correlation measures the strength and direction of the linear relationship between two variables. It is calculated by dividing the covariance by the product of the standard deviations for each variable\n",
    "\n",
    "\n",
    "how covariance and correlation can be used in statistical analysis:\n",
    "    \n",
    "Regression analysis: Covariance can be used to calculate the slope of the regression line in a linear regression model.\n",
    "\n",
    "Factor analysis: Correlation can be used to identify the factors that underlie a set of variables.\n",
    "\n",
    "Investment analysis: Correlation can be used to assess the risk of a portfolio of investments."
   ]
  },
  {
   "cell_type": "markdown",
   "id": "4107761e-b5d9-4539-85f0-afdcd1b5e119",
   "metadata": {},
   "source": [
    "#11\n",
    "\n",
    "The formula for calculating the sample mean is:\n",
    "\n",
    "x̄ = ∑xi / n\n",
    "\n",
    "where:\n",
    "\n",
    "x̄ is the sample mean\n",
    "\n",
    "xi is the individual data point\n",
    "\n",
    "n is the number of data points\n",
    "\n",
    "for example :-\n",
    "\n",
    "x̄ = 1+2+3+4+5/5\n",
    "\n",
    "x̄ =3"
   ]
  },
  {
   "cell_type": "markdown",
   "id": "27d3481e-ce6a-4517-b4e8-a8006acd014d",
   "metadata": {},
   "source": [
    "#12\n",
    "\n",
    "\n",
    "In a normal distribution, the mean, median, and mode are all equal. This is because a normal distribution is symmetrical, meaning that the data is evenly distributed around the mean.\n",
    "\n",
    "mean=median=mode"
   ]
  },
  {
   "cell_type": "markdown",
   "id": "9f5d5632-5fc4-4db5-a584-063d4ecec59f",
   "metadata": {},
   "source": [
    "#13\n",
    "\n",
    "Covariance measures the extent to which two variables change together. It is calculated by taking the average of the products of the deviations from the mean for each variable.\n",
    "\n",
    "Correlation measures the strength and direction of the linear relationship between two variables. It is calculated by dividing the covariance by the product of the standard deviations for each variable.\n",
    "\n",
    "The main difference between covariance and correlation is that covariance can be any value, while correlation is always between -1 and 1. A covariance of 0 indicates that there is no relationship between the two variables, while a covariance of 1 indicates that there is a perfect positive relationship between the two variables. A covariance of -1 indicates that there is a perfect negative relationship between the two variables.\n",
    "\n",
    "\n",
    "Feature\t----------           Covariance|\t                                                        Correlation\n",
    "\n",
    "Range\t-----------             -∞ to ∞|\t                                                         -1 to 1\n",
    "\n",
    "\n",
    "Direction\t-------       No direction|\t                                                    Positive or negative\n",
    "\n",
    "\n",
    "\n",
    "Interpretation-------\tMeasures the extent to which two variableschange together |      \tMeasures the strength direction of                                                                       the linear relationship between two variables"
   ]
  },
  {
   "cell_type": "code",
   "execution_count": null,
   "id": "96cd5d2e-0cea-4413-bc28-22b6a448cf8b",
   "metadata": {},
   "outputs": [],
   "source": [
    "#14\n",
    "\n",
    "\n",
    "Outliers are data points that are much larger or smaller than the rest of the data. They can affect measures of central tendency and dispersion in different ways.\n",
    "\n",
    "Mean: The mean is the average of all the data points. Outliers can affect the mean by pulling it towards themselves. For example, if there is an outlier that is much larger than the rest of the data, the mean will be pulled towards the outlier.\n",
    "\n",
    "Median: The median is the middle value in the data set when all the values are ordered from least to greatest. Outliers do not affect the median because the median is not affected by extreme values.\n",
    "\n",
    "Mode: The mode is the most frequent value in the data set. Outliers do not affect the mode because the mode is not affected by extreme values.\n",
    "\n",
    "Variance: The variance is a measure of how spread out the data is. Outliers can affect the variance by increasing it. This is because outliers are far away from the mean, which means that they contribute more to the variance than other data points.\n",
    "\n",
    "Standard deviation: The standard deviation is the square root of the variance. Outliers can affect the standard deviation in the same way that they affect the variance.\n",
    "\n",
    "\n",
    "Here is an example of how outliers can affect measures of central tendency and dispersion:\n",
    "\n",
    "Data set 1: 1, 2, 3, 4, 5\n",
    "\n",
    "Mean: 3\n",
    "\n",
    "Median: 3\n",
    "\n",
    "Mode: 3\n",
    "\n",
    "Variance: 1\n",
    "\n",
    "Standard deviation: 1\n",
    "\n",
    "\n",
    "\n",
    "Data set 2: 1, 2, 3, 4, 5, 100\n",
    "\n",
    "Mean: 25\n",
    "\n",
    "Median: 3\n",
    "\n",
    "Mode: 3\n",
    "\n",
    "Variance: 225\n",
    "\n",
    "Standard deviation: 15"
   ]
  }
 ],
 "metadata": {
  "kernelspec": {
   "display_name": "Python 3 (ipykernel)",
   "language": "python",
   "name": "python3"
  },
  "language_info": {
   "codemirror_mode": {
    "name": "ipython",
    "version": 3
   },
   "file_extension": ".py",
   "mimetype": "text/x-python",
   "name": "python",
   "nbconvert_exporter": "python",
   "pygments_lexer": "ipython3",
   "version": "3.10.8"
  }
 },
 "nbformat": 4,
 "nbformat_minor": 5
}
