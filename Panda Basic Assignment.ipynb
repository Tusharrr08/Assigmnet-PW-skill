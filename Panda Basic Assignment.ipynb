{
 "cells": [
  {
   "cell_type": "code",
   "execution_count": 2,
   "id": "97f8d1c5-aee7-4e14-a0e5-09de5099cbb7",
   "metadata": {},
   "outputs": [
    {
     "name": "stdout",
     "output_type": "stream",
     "text": [
      "Requirement already satisfied: pandas in /opt/conda/lib/python3.10/site-packages (1.5.2)\n",
      "Requirement already satisfied: python-dateutil>=2.8.1 in /opt/conda/lib/python3.10/site-packages (from pandas) (2.8.2)\n",
      "Requirement already satisfied: pytz>=2020.1 in /opt/conda/lib/python3.10/site-packages (from pandas) (2022.6)\n",
      "Requirement already satisfied: numpy>=1.21.0 in /opt/conda/lib/python3.10/site-packages (from pandas) (1.23.5)\n",
      "Requirement already satisfied: six>=1.5 in /opt/conda/lib/python3.10/site-packages (from python-dateutil>=2.8.1->pandas) (1.16.0)\n",
      "Note: you may need to restart the kernel to use updated packages.\n"
     ]
    }
   ],
   "source": [
    "pip install pandas"
   ]
  },
  {
   "cell_type": "code",
   "execution_count": 159,
   "id": "77b15ad5-ccaf-4204-99a4-c4fee612037c",
   "metadata": {},
   "outputs": [],
   "source": [
    "#1\n",
    "import pandas as pd"
   ]
  },
  {
   "cell_type": "code",
   "execution_count": 160,
   "id": "7abb0b20-13ae-4833-83f1-e3a3a6a583ec",
   "metadata": {},
   "outputs": [],
   "source": [
    "df=pd.Series([4, 8, 15, 16, 23, 42])"
   ]
  },
  {
   "cell_type": "code",
   "execution_count": 161,
   "id": "822000ab-e7c2-4e5b-b6a7-dc6b3b5e7d06",
   "metadata": {},
   "outputs": [
    {
     "name": "stdout",
     "output_type": "stream",
     "text": [
      "0     4\n",
      "1     8\n",
      "2    15\n",
      "3    16\n",
      "4    23\n",
      "5    42\n",
      "dtype: int64\n"
     ]
    }
   ],
   "source": [
    "print(df)"
   ]
  },
  {
   "cell_type": "code",
   "execution_count": 162,
   "id": "8afbdf7d-930d-489d-8a29-261be26636d9",
   "metadata": {},
   "outputs": [],
   "source": [
    "#2\n",
    "var=[1,2,3,4,5,6,7,8,9,7787]\n",
    "\n",
    "df=pd.Series(var)"
   ]
  },
  {
   "cell_type": "code",
   "execution_count": 163,
   "id": "cd73724e-705c-465c-8d30-1d112b8807ed",
   "metadata": {},
   "outputs": [
    {
     "name": "stdout",
     "output_type": "stream",
     "text": [
      "0       1\n",
      "1       2\n",
      "2       3\n",
      "3       4\n",
      "4       5\n",
      "5       6\n",
      "6       7\n",
      "7       8\n",
      "8       9\n",
      "9    7787\n",
      "dtype: int64\n"
     ]
    }
   ],
   "source": [
    "print(df)"
   ]
  },
  {
   "cell_type": "code",
   "execution_count": 164,
   "id": "4d44c4d7-6e7b-4bce-9142-26972b574d72",
   "metadata": {},
   "outputs": [
    {
     "data": {
      "text/plain": [
       "list"
      ]
     },
     "execution_count": 164,
     "metadata": {},
     "output_type": "execute_result"
    }
   ],
   "source": [
    "type(var)"
   ]
  },
  {
   "cell_type": "code",
   "execution_count": 165,
   "id": "b397de40-d2a3-45d0-85c7-8e39d972e015",
   "metadata": {},
   "outputs": [],
   "source": [
    "#3\n",
    "table={\"Name\":[\"Alice\",\"Bob\",\"Claire\"],  \"Age\":[25,30,27],  \"Gender\":[\"Female\",\"Male\",\"Female\"]}\n",
    "df1=pd.DataFrame(table)"
   ]
  },
  {
   "cell_type": "code",
   "execution_count": 166,
   "id": "585f3944-0072-478f-85ef-1f322940203a",
   "metadata": {},
   "outputs": [
    {
     "data": {
      "text/html": [
       "<div>\n",
       "<style scoped>\n",
       "    .dataframe tbody tr th:only-of-type {\n",
       "        vertical-align: middle;\n",
       "    }\n",
       "\n",
       "    .dataframe tbody tr th {\n",
       "        vertical-align: top;\n",
       "    }\n",
       "\n",
       "    .dataframe thead th {\n",
       "        text-align: right;\n",
       "    }\n",
       "</style>\n",
       "<table border=\"1\" class=\"dataframe\">\n",
       "  <thead>\n",
       "    <tr style=\"text-align: right;\">\n",
       "      <th></th>\n",
       "      <th>Name</th>\n",
       "      <th>Age</th>\n",
       "      <th>Gender</th>\n",
       "    </tr>\n",
       "  </thead>\n",
       "  <tbody>\n",
       "    <tr>\n",
       "      <th>0</th>\n",
       "      <td>Alice</td>\n",
       "      <td>25</td>\n",
       "      <td>Female</td>\n",
       "    </tr>\n",
       "    <tr>\n",
       "      <th>1</th>\n",
       "      <td>Bob</td>\n",
       "      <td>30</td>\n",
       "      <td>Male</td>\n",
       "    </tr>\n",
       "    <tr>\n",
       "      <th>2</th>\n",
       "      <td>Claire</td>\n",
       "      <td>27</td>\n",
       "      <td>Female</td>\n",
       "    </tr>\n",
       "  </tbody>\n",
       "</table>\n",
       "</div>"
      ],
      "text/plain": [
       "     Name  Age  Gender\n",
       "0   Alice   25  Female\n",
       "1     Bob   30    Male\n",
       "2  Claire   27  Female"
      ]
     },
     "execution_count": 166,
     "metadata": {},
     "output_type": "execute_result"
    }
   ],
   "source": [
    "df1"
   ]
  },
  {
   "cell_type": "code",
   "execution_count": 167,
   "id": "dd569a28-3409-420a-b568-985333cec5c4",
   "metadata": {},
   "outputs": [],
   "source": [
    "#4\n",
    "#DataFrame in Pandas is a two-dimensional labeled data structure with columns of potentially different types. \n",
    "#It is similar to a spreadsheet or SQL table, with named columns and numbered rows."
   ]
  },
  {
   "cell_type": "code",
   "execution_count": 168,
   "id": "824a1a97-3751-4946-894f-5abe3712e596",
   "metadata": {},
   "outputs": [],
   "source": [
    "#A Pandas Series is a one-dimensional labeled array of data, while a DataFrame is a two-dimensional labeled array of data. This means that a Series can only have one column, while a DataFrame can have multiple columns"
   ]
  },
  {
   "cell_type": "code",
   "execution_count": 169,
   "id": "5d4a7042-0506-460f-a319-86921bacd6bc",
   "metadata": {},
   "outputs": [
    {
     "name": "stdout",
     "output_type": "stream",
     "text": [
      "0    1\n",
      "1    2\n",
      "2    3\n",
      "3    4\n",
      "dtype: int64\n"
     ]
    }
   ],
   "source": [
    "data1=[1,2,3,4]#this is 1-D data stored in series it has only one column\n",
    "df2=pd.Series(data1)\n",
    "print(df2)"
   ]
  },
  {
   "cell_type": "code",
   "execution_count": 170,
   "id": "a2b14a49-5e1a-4a34-8781-d0b87c99d2c5",
   "metadata": {},
   "outputs": [
    {
     "name": "stdout",
     "output_type": "stream",
     "text": [
      "      Name  Level      Player_Info\n",
      "0  ScoutOP     88        T1 Player\n",
      "1   Akshat     95        T1 Player\n",
      "2    Omega     93        T1 Player\n",
      "3     Snax     85  Content Creator\n"
     ]
    }
   ],
   "source": [
    "data2={\"Name\":[\"ScoutOP\",\"Akshat\",\"Omega\",\"Snax\"],  \"Level\":[88,95,93,85],  \"Player_Info\":[\"T1 Player\",\"T1 Player\",\"T1 Player\",\"Content Creator\"]}\n",
    "df3=pd.DataFrame(data2)#this represents 2-D data stored in the form of structured table format with many columns.\n",
    "print(df3)"
   ]
  },
  {
   "cell_type": "code",
   "execution_count": 171,
   "id": "b5db8028-b646-4d6a-8d8d-1bd27db49ba4",
   "metadata": {},
   "outputs": [],
   "source": [
    "#5\n",
    "#Function used to manipulate are:-\n",
    "#head() is used to see first five top data df.head()\n",
    "#tail() is used to see last five bottom data df.tail()\n",
    "#rename() is used to remane a column df.rename(columns={\"column_name\":\"New_columnName\"})\n",
    "#drop() is used to drop a row or column df.drop(0) \n",
    "#replace() is used to replace a value to new value df.replace(10,100)\n",
    "#loc() is used to access specific row or column data df.loc[0]"
   ]
  },
  {
   "cell_type": "code",
   "execution_count": 172,
   "id": "3ff23fd6-8e7c-40ba-979d-ae9e13a21e18",
   "metadata": {},
   "outputs": [],
   "source": [
    "#6\n",
    "#Series(1-D):- \n",
    "#Values are mutable but size of series is immutable this means values can be changed but we cannot add or remove element from series\n",
    "\n",
    "#DataFrame(2-D):-\n",
    "#Values are mutable and also size of dataframe is also mutable we can add or remove rows and columns from the DataFrame \n",
    "\n",
    "#Panel(3-D):-\n",
    "##Values are mutable and also size of Panel is also mutable we can add,remove and slice  rows and columns from the Panel\n"
   ]
  },
  {
   "cell_type": "code",
   "execution_count": 173,
   "id": "84318de6-d5f8-4acb-a6cb-c3c02f0481c8",
   "metadata": {},
   "outputs": [],
   "source": [
    "#7\n",
    "PlayerName=[\"Viper\",\"Mamba\",\"Binks\"]\n",
    "Games=[\"BGMI\",\"BGMI\",\"VALORANT\"]\n",
    "Type=[\"Moderate Player\",\"Moderate Player\",\"Pro Player\"]\n",
    "\n",
    "s1=pd.Series(PlayerName)\n",
    "s2=pd.Series(Games)\n",
    "s3=pd.Series(Type)\n"
   ]
  },
  {
   "cell_type": "code",
   "execution_count": 174,
   "id": "4af2bfec-8e6c-44dc-95c5-85e41e551190",
   "metadata": {},
   "outputs": [],
   "source": [
    "dff=pd.DataFrame({\"Players\":s1, \"Games\":s2,  \"Genere\":s3} )"
   ]
  },
  {
   "cell_type": "code",
   "execution_count": 176,
   "id": "d4bac7d0-8d6d-4cbb-bcd4-da44690c7c2a",
   "metadata": {},
   "outputs": [
    {
     "name": "stdout",
     "output_type": "stream",
     "text": [
      "  Players     Games           Genere\n",
      "0   Viper      BGMI  Moderate Player\n",
      "1   Mamba      BGMI  Moderate Player\n",
      "2   Binks  VALORANT       Pro Player\n"
     ]
    }
   ],
   "source": [
    "print(dff)"
   ]
  },
  {
   "cell_type": "code",
   "execution_count": null,
   "id": "c0dfa5d7-4e45-4258-985c-945027ed0f5f",
   "metadata": {},
   "outputs": [],
   "source": []
  },
  {
   "cell_type": "code",
   "execution_count": null,
   "id": "d8d63078-be5d-4867-b1b6-f8dee04d5e94",
   "metadata": {},
   "outputs": [],
   "source": []
  },
  {
   "cell_type": "code",
   "execution_count": null,
   "id": "ee2badd0-bc4e-4ef5-ba86-1928362c1a1b",
   "metadata": {},
   "outputs": [],
   "source": []
  },
  {
   "cell_type": "code",
   "execution_count": null,
   "id": "83cd212f-af05-4735-90da-9b1d7b0b96a8",
   "metadata": {},
   "outputs": [],
   "source": []
  },
  {
   "cell_type": "code",
   "execution_count": null,
   "id": "1413209c-f5a7-419f-b0cf-db7f8119c472",
   "metadata": {},
   "outputs": [],
   "source": []
  },
  {
   "cell_type": "code",
   "execution_count": null,
   "id": "c89f5e7c-97f8-4c6c-ba07-27ceb294f6b0",
   "metadata": {},
   "outputs": [],
   "source": []
  },
  {
   "cell_type": "code",
   "execution_count": null,
   "id": "df60034e-05b9-402c-88ab-d164294a5173",
   "metadata": {},
   "outputs": [],
   "source": []
  },
  {
   "cell_type": "code",
   "execution_count": null,
   "id": "6fa87069-c7c3-419a-a559-816c5805ba45",
   "metadata": {},
   "outputs": [],
   "source": []
  },
  {
   "cell_type": "code",
   "execution_count": null,
   "id": "236905b7-1c92-44e1-8ba2-3b7efcb10dc5",
   "metadata": {},
   "outputs": [],
   "source": []
  },
  {
   "cell_type": "code",
   "execution_count": null,
   "id": "278952b4-381c-414d-932e-9ee5a5905394",
   "metadata": {},
   "outputs": [],
   "source": []
  },
  {
   "cell_type": "code",
   "execution_count": null,
   "id": "4017ef62-c51e-4114-bc29-e9c72bce9379",
   "metadata": {},
   "outputs": [],
   "source": []
  },
  {
   "cell_type": "code",
   "execution_count": null,
   "id": "1fc9fbac-cb18-4e81-8931-109492c738cd",
   "metadata": {},
   "outputs": [],
   "source": []
  },
  {
   "cell_type": "code",
   "execution_count": null,
   "id": "cd7e93d5-a2ea-4114-8a9c-55f493b1ecf6",
   "metadata": {},
   "outputs": [],
   "source": []
  },
  {
   "cell_type": "code",
   "execution_count": null,
   "id": "c69cf39a-9358-419b-ac5b-3816815776f8",
   "metadata": {},
   "outputs": [],
   "source": []
  },
  {
   "cell_type": "code",
   "execution_count": null,
   "id": "ce7a7256-b8c7-4091-bc39-bbee3b14e772",
   "metadata": {},
   "outputs": [],
   "source": []
  },
  {
   "cell_type": "code",
   "execution_count": null,
   "id": "061f6027-c28e-41d3-8c21-751cc308a027",
   "metadata": {},
   "outputs": [],
   "source": []
  },
  {
   "cell_type": "code",
   "execution_count": null,
   "id": "59ee0ccd-b0b9-4cd7-bfa4-0b5aff98fc27",
   "metadata": {},
   "outputs": [],
   "source": []
  },
  {
   "cell_type": "code",
   "execution_count": null,
   "id": "c0524487-0bb7-4373-9f61-f1f597c79702",
   "metadata": {},
   "outputs": [],
   "source": []
  },
  {
   "cell_type": "code",
   "execution_count": null,
   "id": "cdfcf9df-1240-4e24-8a56-4e12a5c9f065",
   "metadata": {},
   "outputs": [],
   "source": []
  },
  {
   "cell_type": "code",
   "execution_count": null,
   "id": "bf3502c0-aac9-421e-8f79-32c83a97b4da",
   "metadata": {},
   "outputs": [],
   "source": []
  },
  {
   "cell_type": "code",
   "execution_count": null,
   "id": "c9dde2c9-64ae-4651-9ba3-229e5de4bc75",
   "metadata": {},
   "outputs": [],
   "source": []
  },
  {
   "cell_type": "code",
   "execution_count": null,
   "id": "86e5e3c4-65e2-4b97-8094-7611429e7a68",
   "metadata": {},
   "outputs": [],
   "source": []
  },
  {
   "cell_type": "code",
   "execution_count": null,
   "id": "b04aec0a-14b4-43d3-a12a-788bfbdfd091",
   "metadata": {},
   "outputs": [],
   "source": []
  },
  {
   "cell_type": "code",
   "execution_count": null,
   "id": "2d36085c-5ca5-4807-8008-9e7ccebe9469",
   "metadata": {},
   "outputs": [],
   "source": []
  },
  {
   "cell_type": "code",
   "execution_count": null,
   "id": "096b6412-5d5c-4204-a322-5ef4f2654356",
   "metadata": {},
   "outputs": [],
   "source": []
  },
  {
   "cell_type": "code",
   "execution_count": null,
   "id": "cef36514-0b16-429d-947d-c0c69085a5a4",
   "metadata": {},
   "outputs": [],
   "source": []
  },
  {
   "cell_type": "code",
   "execution_count": null,
   "id": "e779e1d1-89e7-4fcc-a321-3e88dc32625f",
   "metadata": {},
   "outputs": [],
   "source": []
  },
  {
   "cell_type": "code",
   "execution_count": null,
   "id": "01a85329-eea7-4b96-bc3c-7718c9979d40",
   "metadata": {},
   "outputs": [],
   "source": []
  },
  {
   "cell_type": "code",
   "execution_count": null,
   "id": "9278a0c9-e29f-4592-adb4-32a133441f18",
   "metadata": {},
   "outputs": [],
   "source": []
  },
  {
   "cell_type": "code",
   "execution_count": null,
   "id": "c4bf332f-0b5e-4e34-aeb2-94bcdefc9f38",
   "metadata": {},
   "outputs": [],
   "source": []
  },
  {
   "cell_type": "code",
   "execution_count": null,
   "id": "a676a8ce-ccae-4300-a451-c7c8bd109cb9",
   "metadata": {},
   "outputs": [],
   "source": []
  },
  {
   "cell_type": "code",
   "execution_count": null,
   "id": "5249a9cc-54f4-403b-b867-53a501664c2d",
   "metadata": {},
   "outputs": [],
   "source": []
  },
  {
   "cell_type": "code",
   "execution_count": null,
   "id": "20c2ef7d-86c2-4849-aeee-3d614da16cdd",
   "metadata": {},
   "outputs": [],
   "source": []
  },
  {
   "cell_type": "code",
   "execution_count": null,
   "id": "9cc9fc3a-d5f1-46a9-9f09-79f507dc53d5",
   "metadata": {},
   "outputs": [],
   "source": []
  },
  {
   "cell_type": "code",
   "execution_count": null,
   "id": "1f251ec4-80a8-4a8e-9899-5217e2f603d9",
   "metadata": {},
   "outputs": [],
   "source": []
  },
  {
   "cell_type": "code",
   "execution_count": null,
   "id": "7ff2d758-ec3c-42eb-a440-025604a65aeb",
   "metadata": {},
   "outputs": [],
   "source": []
  },
  {
   "cell_type": "code",
   "execution_count": null,
   "id": "c71c032c-ae83-4e8f-bcc6-5555cd662574",
   "metadata": {},
   "outputs": [],
   "source": []
  },
  {
   "cell_type": "code",
   "execution_count": null,
   "id": "cfa07ffd-558c-428a-901b-ff31640d8b91",
   "metadata": {},
   "outputs": [],
   "source": []
  },
  {
   "cell_type": "code",
   "execution_count": null,
   "id": "91c6b4f7-22a9-40ba-a8c3-4a95f6acc61f",
   "metadata": {},
   "outputs": [],
   "source": []
  },
  {
   "cell_type": "code",
   "execution_count": null,
   "id": "54466586-da58-4bbb-9dc1-db218085a4d1",
   "metadata": {},
   "outputs": [],
   "source": []
  },
  {
   "cell_type": "code",
   "execution_count": null,
   "id": "8d8052f4-f3a8-4306-94bd-7b0a5b90386b",
   "metadata": {},
   "outputs": [],
   "source": []
  },
  {
   "cell_type": "code",
   "execution_count": null,
   "id": "0dcddebe-282e-4a9c-b69d-78cac8c03567",
   "metadata": {},
   "outputs": [],
   "source": []
  },
  {
   "cell_type": "code",
   "execution_count": null,
   "id": "89083348-3b63-463e-b46c-6eaa75159a3c",
   "metadata": {},
   "outputs": [],
   "source": []
  },
  {
   "cell_type": "code",
   "execution_count": null,
   "id": "d38a1ae5-b6ca-4628-a571-5eaf8940e6e7",
   "metadata": {},
   "outputs": [],
   "source": []
  },
  {
   "cell_type": "code",
   "execution_count": null,
   "id": "7da5a1bb-92be-4e14-9d83-0dbc159f5112",
   "metadata": {},
   "outputs": [],
   "source": []
  },
  {
   "cell_type": "code",
   "execution_count": null,
   "id": "5624096a-bbfe-40e9-a9cb-fd2f0308dc66",
   "metadata": {},
   "outputs": [],
   "source": []
  },
  {
   "cell_type": "code",
   "execution_count": null,
   "id": "26773106-ef5f-48cb-8310-8e7dbbd5ec4a",
   "metadata": {},
   "outputs": [],
   "source": []
  },
  {
   "cell_type": "code",
   "execution_count": null,
   "id": "922a6eca-4086-40ea-8893-7124b685e1bb",
   "metadata": {},
   "outputs": [],
   "source": []
  },
  {
   "cell_type": "code",
   "execution_count": null,
   "id": "774b9ef4-2fb0-4a61-83f4-ac8f0294ac77",
   "metadata": {},
   "outputs": [],
   "source": []
  },
  {
   "cell_type": "code",
   "execution_count": null,
   "id": "86f4d677-83bb-46fc-adfe-d0d7473499a4",
   "metadata": {},
   "outputs": [],
   "source": []
  },
  {
   "cell_type": "code",
   "execution_count": null,
   "id": "7eb5ce7c-d516-42b0-a354-badac82d5b86",
   "metadata": {},
   "outputs": [],
   "source": []
  },
  {
   "cell_type": "code",
   "execution_count": null,
   "id": "b6e2284d-4058-4a23-9c9e-09fa723eba7f",
   "metadata": {},
   "outputs": [],
   "source": []
  },
  {
   "cell_type": "code",
   "execution_count": null,
   "id": "647ced2f-9fc8-4604-a929-37c44f5c479e",
   "metadata": {},
   "outputs": [],
   "source": []
  },
  {
   "cell_type": "code",
   "execution_count": null,
   "id": "f0d850e9-52ee-4988-82fd-904634dd746f",
   "metadata": {},
   "outputs": [],
   "source": []
  },
  {
   "cell_type": "code",
   "execution_count": null,
   "id": "0898fbf7-fe90-480d-85b3-d899ec81d1d4",
   "metadata": {},
   "outputs": [],
   "source": []
  },
  {
   "cell_type": "code",
   "execution_count": null,
   "id": "ace3afd0-b3b9-467a-a0d5-b5ec63103a03",
   "metadata": {},
   "outputs": [],
   "source": []
  },
  {
   "cell_type": "code",
   "execution_count": null,
   "id": "c15f2017-98e0-46df-8166-22c707697d31",
   "metadata": {},
   "outputs": [],
   "source": []
  },
  {
   "cell_type": "code",
   "execution_count": null,
   "id": "863aafda-1059-437b-8531-90044471c1bc",
   "metadata": {},
   "outputs": [],
   "source": []
  },
  {
   "cell_type": "code",
   "execution_count": null,
   "id": "8d9951c2-c50f-4828-bb52-76df45da1496",
   "metadata": {},
   "outputs": [],
   "source": []
  },
  {
   "cell_type": "code",
   "execution_count": null,
   "id": "74a306af-88b1-488f-84a9-28a79617b13d",
   "metadata": {},
   "outputs": [],
   "source": []
  },
  {
   "cell_type": "code",
   "execution_count": null,
   "id": "a9525890-d6b2-4179-8714-591a6c879117",
   "metadata": {},
   "outputs": [],
   "source": []
  },
  {
   "cell_type": "code",
   "execution_count": null,
   "id": "f9c82a7d-1ede-4b5f-a714-a1927bbafd88",
   "metadata": {},
   "outputs": [],
   "source": []
  },
  {
   "cell_type": "code",
   "execution_count": null,
   "id": "1f422c62-a9fb-4b64-aea3-a7a76b87f443",
   "metadata": {},
   "outputs": [],
   "source": []
  },
  {
   "cell_type": "code",
   "execution_count": null,
   "id": "33aaef43-fb08-4ed3-8fad-c542de6c385b",
   "metadata": {},
   "outputs": [],
   "source": []
  },
  {
   "cell_type": "code",
   "execution_count": null,
   "id": "b2dc2062-2445-4b08-877c-c33fb21a66d9",
   "metadata": {},
   "outputs": [],
   "source": []
  },
  {
   "cell_type": "code",
   "execution_count": null,
   "id": "2a980d2b-a6f9-4477-a394-1f027a846f60",
   "metadata": {},
   "outputs": [],
   "source": []
  },
  {
   "cell_type": "code",
   "execution_count": null,
   "id": "7a87e916-afc4-4213-99f4-6156fa947c61",
   "metadata": {},
   "outputs": [],
   "source": []
  },
  {
   "cell_type": "code",
   "execution_count": null,
   "id": "c0436d58-b1e3-4cd0-9e48-8bb764e0114b",
   "metadata": {},
   "outputs": [],
   "source": []
  }
 ],
 "metadata": {
  "kernelspec": {
   "display_name": "Python 3 (ipykernel)",
   "language": "python",
   "name": "python3"
  },
  "language_info": {
   "codemirror_mode": {
    "name": "ipython",
    "version": 3
   },
   "file_extension": ".py",
   "mimetype": "text/x-python",
   "name": "python",
   "nbconvert_exporter": "python",
   "pygments_lexer": "ipython3",
   "version": "3.10.8"
  }
 },
 "nbformat": 4,
 "nbformat_minor": 5
}
