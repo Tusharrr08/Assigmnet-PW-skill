{
 "cells": [
  {
   "cell_type": "code",
   "execution_count": 14,
   "id": "9e4386d9-f9f0-4aa3-b303-b168f9d9cbb6",
   "metadata": {},
   "outputs": [],
   "source": [
    "#1\n",
    "#An API, or Application Programming Interface, is a set of rules that allow two pieces of software to talk to each other. \n",
    "#APIs are used in a wide variety of applications, including web development, mobile development, and enterprise software.\n",
    "#One example of an API in real life is the Google Maps API\n",
    "#Another example of an API in real life is the Facebook Login API\n",
    "#The Twitter API allows developers to access Twitter data and functionality in their own applications."
   ]
  },
  {
   "cell_type": "code",
   "execution_count": 15,
   "id": "50739832-4e20-4610-aa49-0d38bbc1406f",
   "metadata": {},
   "outputs": [],
   "source": [
    "#2\n",
    "#Advantages\n",
    "#Increased interoperability , Improved efficiency , New revenue streams , Improved user experience\n",
    "\n",
    "#Disadvantages\n",
    "#Security concerns , Complexity , Compatibility issues , Dependency on third-party developers"
   ]
  },
  {
   "cell_type": "code",
   "execution_count": 16,
   "id": "56eae531-f600-4f06-99c2-32ca182f56dc",
   "metadata": {},
   "outputs": [],
   "source": [
    "#3\n",
    "#A Web API is a type of API that is accessed over the web using HTTP requests. \n",
    "#Web APIs are often used to expose data from a database or to provide functionality that can be used by other applications.\n",
    "#The main difference between an API and a Web API is that a Web API is accessed over the web using HTTP requests. \n",
    "#This means that Web APIs can be used by any application that can access the web, regardless of the programming language or platform that the application is written in.\n"
   ]
  },
  {
   "cell_type": "code",
   "execution_count": 17,
   "id": "4df47950-c69c-4e6c-87e2-8544476ecb31",
   "metadata": {},
   "outputs": [],
   "source": [
    "#4\n",
    "#REST is an architectural style that defines a set of constraints that must be followed when designing and implementing web services\n",
    "\n",
    "#SOAP is a protocol for exchanging structured information between applications.\n",
    "#It uses XML to represent data, and it uses HTTP as a transport protocol. \n",
    "#SOAP is a more complex protocol than REST, and it requires more development effort to implement. \n",
    "#However, SOAP offers some advantages over REST\n",
    "\n",
    "#Shortcomings of SOAP\n",
    "#Complexity: SOAP is a more complex protocol than REST, and it requires more development effort to implement\n",
    "#Performance: SOAP messages are typically larger than REST messages, which can impact performance.\n",
    "#Flexibility: SOAP is a more rigid protocol than REST, which can make it less flexible."
   ]
  },
  {
   "cell_type": "code",
   "execution_count": 18,
   "id": "cdd73e21-da81-40cb-b116-9e29e7ffdde6",
   "metadata": {},
   "outputs": [
    {
     "ename": "SyntaxError",
     "evalue": "invalid syntax (2891185639.py, line 2)",
     "output_type": "error",
     "traceback": [
      "\u001b[0;36m  Cell \u001b[0;32mIn[18], line 2\u001b[0;36m\u001b[0m\n\u001b[0;31m    Feature\t      REST\t                                      SOAP\u001b[0m\n\u001b[0m           \t      ^\u001b[0m\n\u001b[0;31mSyntaxError\u001b[0m\u001b[0;31m:\u001b[0m invalid syntax\n"
     ]
    }
   ],
   "source": [
    "#5\n",
    "Feature\t      REST\t                                      SOAP\n",
    "Protocol\t  HTTP\t                                       XML\n",
    "Data format\t  Any\t                                       XML\n",
    "Complexity\t  Simpler\t                                   More complex\n",
    "Flexibility\t  More flexible\t                               Less flexible\n",
    "Security\t  No built-in security features\t               Can be used to secure communications\n",
    "Transactions   No built-in support for transactions\t       Can be used to implement transactions"
   ]
  },
  {
   "cell_type": "markdown",
   "id": "c5a8b205-91df-448a-bbb1-4a524e5f8f41",
   "metadata": {},
   "source": []
  },
  {
   "cell_type": "code",
   "execution_count": null,
   "id": "1efa3e8d-15da-47e0-a4b1-1bbac1198998",
   "metadata": {},
   "outputs": [],
   "source": []
  },
  {
   "cell_type": "code",
   "execution_count": null,
   "id": "7ee0b0ea-9d4b-41de-a935-f945974c46d5",
   "metadata": {},
   "outputs": [],
   "source": []
  },
  {
   "cell_type": "code",
   "execution_count": null,
   "id": "3b5cf899-966f-4e1e-add0-83fb8c0197bb",
   "metadata": {},
   "outputs": [],
   "source": []
  },
  {
   "cell_type": "code",
   "execution_count": null,
   "id": "bf9c529e-0757-497e-85b8-722b87957594",
   "metadata": {},
   "outputs": [],
   "source": []
  },
  {
   "cell_type": "code",
   "execution_count": null,
   "id": "7a46d954-58b0-4402-91a8-a1e935d401db",
   "metadata": {},
   "outputs": [],
   "source": []
  },
  {
   "cell_type": "code",
   "execution_count": null,
   "id": "0b0e3c3d-630d-4dfc-8c97-0ef0caeb9781",
   "metadata": {},
   "outputs": [],
   "source": []
  },
  {
   "cell_type": "markdown",
   "id": "b5bc89c4-4180-4ce6-a284-d334b1b0f141",
   "metadata": {},
   "source": []
  },
  {
   "cell_type": "code",
   "execution_count": null,
   "id": "d8df7035-31d1-4b2d-99f4-082261142391",
   "metadata": {},
   "outputs": [],
   "source": []
  },
  {
   "cell_type": "code",
   "execution_count": null,
   "id": "1fa3d938-eea9-4d65-9df7-2ea27aadb6a2",
   "metadata": {},
   "outputs": [],
   "source": []
  },
  {
   "cell_type": "code",
   "execution_count": null,
   "id": "974ee86e-2491-4bd5-9828-6ac10249f3c8",
   "metadata": {},
   "outputs": [],
   "source": []
  },
  {
   "cell_type": "code",
   "execution_count": null,
   "id": "707b8b53-121f-4b84-9080-a78d979af0b3",
   "metadata": {},
   "outputs": [],
   "source": []
  },
  {
   "cell_type": "code",
   "execution_count": null,
   "id": "6764a44e-9390-4a66-b427-650491d7c99e",
   "metadata": {},
   "outputs": [],
   "source": []
  },
  {
   "cell_type": "code",
   "execution_count": null,
   "id": "855d8a28-4eeb-467e-ad83-0782e4519c60",
   "metadata": {},
   "outputs": [],
   "source": []
  },
  {
   "cell_type": "code",
   "execution_count": null,
   "id": "cbb79a39-3e4b-495e-8c18-4df263e8726a",
   "metadata": {},
   "outputs": [],
   "source": []
  },
  {
   "cell_type": "code",
   "execution_count": null,
   "id": "236d5bb1-175f-4955-b1df-35da5fcfc0cf",
   "metadata": {},
   "outputs": [],
   "source": []
  },
  {
   "cell_type": "code",
   "execution_count": null,
   "id": "bfa9f704-5a77-4e5d-93ab-97134c1897d9",
   "metadata": {},
   "outputs": [],
   "source": []
  },
  {
   "cell_type": "code",
   "execution_count": null,
   "id": "2c91f3ab-4700-4c58-b3db-e3b86713c202",
   "metadata": {},
   "outputs": [],
   "source": []
  },
  {
   "cell_type": "code",
   "execution_count": null,
   "id": "8f061fee-d982-4a9a-8e89-6bac41f32ab2",
   "metadata": {},
   "outputs": [],
   "source": []
  },
  {
   "cell_type": "code",
   "execution_count": null,
   "id": "5eda6612-22a8-4d4d-8336-e0bb6ab44e55",
   "metadata": {},
   "outputs": [],
   "source": []
  },
  {
   "cell_type": "code",
   "execution_count": null,
   "id": "dff862ef-9aee-4b0c-8b9f-85ff0149cf24",
   "metadata": {},
   "outputs": [],
   "source": []
  }
 ],
 "metadata": {
  "kernelspec": {
   "display_name": "Python 3 (ipykernel)",
   "language": "python",
   "name": "python3"
  },
  "language_info": {
   "codemirror_mode": {
    "name": "ipython",
    "version": 3
   },
   "file_extension": ".py",
   "mimetype": "text/x-python",
   "name": "python",
   "nbconvert_exporter": "python",
   "pygments_lexer": "ipython3",
   "version": "3.10.8"
  }
 },
 "nbformat": 4,
 "nbformat_minor": 5
}
