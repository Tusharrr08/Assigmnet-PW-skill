{
 "cells": [
  {
   "cell_type": "markdown",
   "id": "a34ad722-bfdd-4100-925f-627b21173365",
   "metadata": {},
   "source": [
    "#1 \n",
    "\n",
    "Statistics is the science of collecting, organizing and analysing data."
   ]
  },
  {
   "cell_type": "markdown",
   "id": "f0d56b97-9d72-47c8-a241-542f4187807a",
   "metadata": {},
   "source": [
    "#2\n",
    "\n",
    "There are two types of Statistics :-\n",
    "\n",
    "i.Discriptive Statistics - It summarize the characteristics of a data set\n",
    "\n",
    "Uses\n",
    "\n",
    "A company might use descriptive statistics to summarize the results of a customer satisfaction survey.\n",
    "\n",
    "A government agency might use descriptive statistics to describe the distribution of income in a country.\n",
    "\n",
    "A doctor might use descriptive statistics to summarize the results of a medical test\n",
    "\n",
    "ii.Inferential Statistics - It summarizes the conclusion of whole group(population data) by sample data.\n",
    "\n",
    "Uses \n",
    "\n",
    "A researcher might use inferential statistics to test the hypothesis that there is a difference in the average IQ of men and women.\n",
    "\n",
    "A marketing firm might use inferential statistics to determine whether there is a relationship between product awareness and brand loyalty.\n",
    "\n",
    "A pharmaceutical company might use inferential statistics to determine whether a new drug is effective in treating a particular disease."
   ]
  },
  {
   "cell_type": "markdown",
   "id": "210468f2-8996-42f2-a44c-33eb8865ae38",
   "metadata": {},
   "source": [
    "#3\n",
    "There are two main types of data: quantitative and qualitative.\n",
    "\n",
    "\n",
    "Quantitative data is data that can be measured and represented numerically. It can be either discrete or continuous\n",
    "It shows about quantity or amount of data like, no of bank acc, no of student , world population etc .\n",
    "\n",
    "Example-\n",
    "\n",
    "Discrete: The number of students in a class (10, 15, 20, etc.)\n",
    "\n",
    "Continuous: The heigh of a person (170.55 cm, 175.12 cm, 180.00 cm, etc.)\n",
    "\n",
    "Qualitative data is data that cannot be measured or represented numerically. It is often described in words or pictures. Qualitative data can be either nominal or ordinal.\n",
    "It shows about quality or nature of data how it being produce to everyone like, colour of eyes, feedbacks , Status etc.\n",
    "\n",
    "Example-\n",
    "\n",
    "Nominal: The color of a car (red, blue, green, etc.)\n",
    "\n",
    "Ordinal: The ranking of a team in a sporting competition (first, second, third, etc.)\n",
    "\n"
   ]
  },
  {
   "cell_type": "markdown",
   "id": "5b147d70-b55f-4e4e-ab01-1baa6082b1c5",
   "metadata": {},
   "source": [
    "#4\n",
    "\n",
    "\n",
    "(i) Grading in exam: A+, A, B+, B, C+, C, D, E --Qualitative Datatype\n",
    "\n",
    "\n",
    "(ii) Colour of mangoes: yellow, green, orange, red --Qualitative Datatype\n",
    "\n",
    "\n",
    "(iii) Height data of a class: [178.9, 179, 179.5, 176, 177.2, 178.3, 175.8,...] --Quantitative Datatype\n",
    "\n",
    "\n",
    "(iv) Number of mangoes exported by a farm: [500, 600, 478, 672, ...] --Quantitative Datatype"
   ]
  },
  {
   "cell_type": "markdown",
   "id": "e812054f-c62a-45c5-a541-ffd276707a96",
   "metadata": {},
   "source": [
    "#5\n",
    "\n",
    "Nominal: The values of a nominal variable are used to classify or categorize objects or people. The categories are mutually exclusive, meaning that each object or person can be assigned to only one category. The categories have no intrinsic order. For example, the variable \"color\" could be nominal, with the categories \"red,\" \"blue,\" \"green,\" and \"yellow.\"\n",
    "\n",
    "Ordinal: The values of an ordinal variable can be ranked or ordered. However, the intervals between the ranks are not necessarily equal. For example, the variable \"ranking in a sporting competition\" could be ordinal, with the ranks \"first,\" \"second,\" \"third,\" and so on.\n",
    "\n",
    "Interval: The values of an interval variable can be ranked or ordered, and the intervals between the ranks are equal. However, there is no absolute zero point on an interval scale. For example, the variable \"temperature\" could be interval, with the values \"0 degrees Celsius,\" \"10 degrees Celsius,\" \"20 degrees Celsius,\" and so on.\n",
    "\n",
    "Ratio: The values of a ratio variable can be ranked or ordered, the intervals between the ranks are equal, and there is an absolute zero point on the scale. For example, the variable \"distance\" could be ratio, with the values \"0 meters,\" \"1 meter,\" \"2 meters,\" and so on."
   ]
  },
  {
   "cell_type": "markdown",
   "id": "69d2b443-5212-4bbc-b585-e57df957ba3e",
   "metadata": {},
   "source": [
    "#6\n",
    "\n",
    "The level of measurement of a variable is important to understand when analyzing data because it determines the types of statistical analysis that can be performed on the data. For example, you cannot calculate the mean or standard deviation of a nominal variable, because the values of a nominal variable do not have any intrinsic order.\n",
    "\n",
    "Suppose you are interested in the relationship between the color of a car and the number of accidents that the car is involved in. You collect data on the color of a car and the number of accidents that the car has been involved in. You then want to calculate the mean number of accidents for each color of car. However, you cannot do this because the color of a car is a nominal variable. The values of a nominal variable (red, blue, green, yellow) do not have any intrinsic order, so you cannot rank them from lowest to highest. Therefore, you cannot calculate the mean number of accidents for each color of car.\n",
    "\n",
    "In this example, the level of measurement of the variable \"color\" prevents you from performing a certain type of statistical analysis. If you had instead used a variable with a higher level of measurement, such as \"ranking in a sporting competition,\" you would have been able to calculate the mean number of accidents for each ranking.\n"
   ]
  },
  {
   "cell_type": "markdown",
   "id": "9f2e5787-93be-4d38-99b0-367dac776e8d",
   "metadata": {},
   "source": [
    "#7\n",
    "\n",
    "Nominal data is used to classify or categorize objects or people while Ordinal data is similar to nominal data, but the categories have a natural order or rank\n",
    "\n",
    "Nomial data classify nature of data like colour, status, height etc, while Ordinal data classify basis on ranks of data like first,second,third etc."
   ]
  },
  {
   "cell_type": "markdown",
   "id": "00e49e87-bd8b-4f33-89f9-94d6f6c99ad6",
   "metadata": {},
   "source": [
    "#8\n",
    "\n",
    "Histogram and Box Plot can be used to diplay data in terms of range"
   ]
  },
  {
   "cell_type": "markdown",
   "id": "06d93091-0766-4cd9-8de9-51c37d68cedb",
   "metadata": {},
   "source": [
    "#9\n",
    "\n",
    "##DISCRIPTIVE STATISTICS\n",
    "\n",
    "Descriptive statistics are used to summarize data and describe its main features\n",
    "\n",
    "Some examples of descriptive statistics include:\n",
    "\n",
    "Measures of central tendency: These statistics describe the \"middle\" of a data set. The most common measures of central tendency are the mean, median, and mode.\n",
    "\n",
    "Measures of variation: These statistics describe how spread out a data set is. The most common measures of variation are the standard deviation and variance.\n",
    "\n",
    "Example of Discriptive Statistics can be used------\n",
    "\n",
    "A company might use descriptive statistics to summarize the results of a customer satisfaction survey. The company might calculate the average customer satisfaction score, the distribution of scores, and the most common reasons for dissatisfaction. This information would help the company to identify areas where it could improve its customer service.\n",
    "\n",
    "##INFERENTIAL STATISTICS\n",
    "\n",
    "Inferential statistics are used to make inferences about a population based on data from a sample.\n",
    "\n",
    "Some examples of inferential statistics include:\n",
    "\n",
    "Hypothesis testing: This is a statistical procedure used to determine whether there is enough evidence to reject the null hypothesis. The null hypothesis is a statement that there is no difference between two groups or that there is no relationship between two variables.\n",
    "\n",
    "Regression analysis: This is a statistical technique used to model the relationship between two or more variables.\n",
    "\n",
    "Surveys: Surveys are a type of inferential statistic that is used to collect data from a sample of a population.\n",
    "\n",
    "Example of Inferential Statistics can be used------\n",
    "\n",
    "A researcher might use inferential statistics to test the hypothesis that there is a difference in the average IQ of men and women. The researcher would collect data on the IQs of a sample of men and women and then use a statistical test to determine whether the difference in the sample means is statistically significant. If the difference is statistically significant, the researcher could conclude that there is a difference in the average IQ of men and women in the population."
   ]
  },
  {
   "cell_type": "code",
   "execution_count": null,
   "id": "0b0ca1bf-6726-4181-9244-78cadd3f6129",
   "metadata": {},
   "outputs": [],
   "source": [
    "#10\n",
    "\n",
    "Measures of central tendency\n",
    "\n",
    "Mean: The mean is the average of a data set. It is calculated by adding up all the values in the data set and then dividing by the number of values.\n",
    "\n",
    "Median: The median is the middle value in a data set that has been arranged in order from least to greatest.\n",
    "\n",
    "Mode: The mode is the most frequent value in a data set.\n",
    "\n",
    "\n",
    "Measures of variability\n",
    "\n",
    "Variance: The variance is a measure of how spread out a data set is. It is calculated by taking the squared deviations from the mean for each value in the data set and then averaging them.\n",
    "\n",
    "Standard deviation: The standard deviation is the square root of the variance. It is a measure of how spread out a data set is, but it is not as sensitive to outliers as the variance.\n",
    "\n",
    "\n"
   ]
  },
  {
   "cell_type": "code",
   "execution_count": null,
   "id": "ca45a626-f897-4ec5-bced-6bf2ae602e8b",
   "metadata": {},
   "outputs": [],
   "source": []
  },
  {
   "cell_type": "code",
   "execution_count": null,
   "id": "87ba7873-44e3-45b6-80ac-cddd97487005",
   "metadata": {},
   "outputs": [],
   "source": []
  },
  {
   "cell_type": "code",
   "execution_count": null,
   "id": "92e564f6-a2d3-49ca-8043-f0336c487b93",
   "metadata": {},
   "outputs": [],
   "source": []
  },
  {
   "cell_type": "code",
   "execution_count": null,
   "id": "4cab1543-cefd-43a6-9de7-0b3eea9bbbb4",
   "metadata": {},
   "outputs": [],
   "source": []
  },
  {
   "cell_type": "code",
   "execution_count": null,
   "id": "fd1799d1-d35a-4bde-a969-af4eb9ee4b4d",
   "metadata": {},
   "outputs": [],
   "source": []
  },
  {
   "cell_type": "code",
   "execution_count": null,
   "id": "12c9e44c-9b60-45bd-83fc-005f475be6b8",
   "metadata": {},
   "outputs": [],
   "source": []
  },
  {
   "cell_type": "code",
   "execution_count": null,
   "id": "3706238f-9161-4401-8200-cc7dcd6d8fa7",
   "metadata": {},
   "outputs": [],
   "source": []
  },
  {
   "cell_type": "code",
   "execution_count": null,
   "id": "43ba8eff-4c4b-4659-b4da-4227963ffb3b",
   "metadata": {},
   "outputs": [],
   "source": []
  },
  {
   "cell_type": "code",
   "execution_count": null,
   "id": "446f2fef-8bd3-43ef-89e7-defd49d7bd74",
   "metadata": {},
   "outputs": [],
   "source": []
  },
  {
   "cell_type": "code",
   "execution_count": null,
   "id": "21abb05e-791d-46a9-88f2-93302d39c6bd",
   "metadata": {},
   "outputs": [],
   "source": []
  },
  {
   "cell_type": "code",
   "execution_count": null,
   "id": "c21be0d4-54dd-40ad-a564-7fd1e2903b83",
   "metadata": {},
   "outputs": [],
   "source": []
  },
  {
   "cell_type": "code",
   "execution_count": null,
   "id": "f03bdb16-3b1d-437d-b49f-3623605e4bfe",
   "metadata": {},
   "outputs": [],
   "source": []
  },
  {
   "cell_type": "code",
   "execution_count": null,
   "id": "224f3eee-dea9-4a8a-a6e7-201586e92dc3",
   "metadata": {},
   "outputs": [],
   "source": []
  },
  {
   "cell_type": "code",
   "execution_count": null,
   "id": "ded60a5b-4776-4dcd-8dd6-23b859d32a94",
   "metadata": {},
   "outputs": [],
   "source": []
  },
  {
   "cell_type": "code",
   "execution_count": null,
   "id": "fcfb46ce-a66c-4689-acf7-86582a8b1985",
   "metadata": {},
   "outputs": [],
   "source": []
  },
  {
   "cell_type": "code",
   "execution_count": null,
   "id": "5d1a0363-898b-40d6-8d34-8e48d66dd8fd",
   "metadata": {},
   "outputs": [],
   "source": []
  },
  {
   "cell_type": "code",
   "execution_count": null,
   "id": "18433d8e-aca6-4dd4-8ad9-48cb38e32392",
   "metadata": {},
   "outputs": [],
   "source": []
  },
  {
   "cell_type": "code",
   "execution_count": null,
   "id": "cdc4bbd8-6cf5-45ab-b788-02e63a620e99",
   "metadata": {},
   "outputs": [],
   "source": []
  },
  {
   "cell_type": "code",
   "execution_count": null,
   "id": "dc40eb26-b9e3-4c96-912a-453704c5ecb0",
   "metadata": {},
   "outputs": [],
   "source": []
  },
  {
   "cell_type": "code",
   "execution_count": null,
   "id": "f8111548-623d-45b7-8495-460c30b2a477",
   "metadata": {},
   "outputs": [],
   "source": []
  },
  {
   "cell_type": "code",
   "execution_count": null,
   "id": "45c1d06f-c194-4bec-be6b-3c5a48fc2ce0",
   "metadata": {},
   "outputs": [],
   "source": []
  },
  {
   "cell_type": "code",
   "execution_count": null,
   "id": "33bc13bc-70e0-457e-9bd6-ffbbe741c4bb",
   "metadata": {},
   "outputs": [],
   "source": []
  },
  {
   "cell_type": "code",
   "execution_count": null,
   "id": "019db926-4031-471b-912a-271da71f6e17",
   "metadata": {},
   "outputs": [],
   "source": []
  },
  {
   "cell_type": "code",
   "execution_count": null,
   "id": "ade91161-1cd3-4ce3-960f-a1bfcaa01676",
   "metadata": {},
   "outputs": [],
   "source": []
  },
  {
   "cell_type": "code",
   "execution_count": null,
   "id": "3c968167-a1cd-4482-9069-54e0725018a7",
   "metadata": {},
   "outputs": [],
   "source": []
  },
  {
   "cell_type": "code",
   "execution_count": null,
   "id": "c345fb18-f156-4460-93ed-7afc92911d2e",
   "metadata": {},
   "outputs": [],
   "source": []
  },
  {
   "cell_type": "code",
   "execution_count": null,
   "id": "0150d013-72b0-403b-b3e5-ec698b772f81",
   "metadata": {},
   "outputs": [],
   "source": []
  },
  {
   "cell_type": "code",
   "execution_count": null,
   "id": "8609964e-39c0-40c4-93ae-898b1b898fee",
   "metadata": {},
   "outputs": [],
   "source": []
  },
  {
   "cell_type": "code",
   "execution_count": null,
   "id": "bca92bf2-a36e-4b71-86c3-79dab6c521fa",
   "metadata": {},
   "outputs": [],
   "source": []
  },
  {
   "cell_type": "code",
   "execution_count": null,
   "id": "2c7d1de8-a86d-498b-a372-02bf24c1e917",
   "metadata": {},
   "outputs": [],
   "source": []
  },
  {
   "cell_type": "code",
   "execution_count": null,
   "id": "72f450a4-a2ac-45b2-b8a2-b2cdbde2aa85",
   "metadata": {},
   "outputs": [],
   "source": []
  },
  {
   "cell_type": "code",
   "execution_count": null,
   "id": "fb8fb65d-d0c3-49a8-8a91-9de03de8fa70",
   "metadata": {},
   "outputs": [],
   "source": []
  },
  {
   "cell_type": "code",
   "execution_count": null,
   "id": "337d32b0-8a3c-45bd-bd4b-4a4798de357c",
   "metadata": {},
   "outputs": [],
   "source": []
  },
  {
   "cell_type": "code",
   "execution_count": null,
   "id": "5ca0985c-99e7-42aa-a3eb-9e9a25ecebbe",
   "metadata": {},
   "outputs": [],
   "source": []
  },
  {
   "cell_type": "code",
   "execution_count": null,
   "id": "4174c96a-135d-4ee1-8cfe-ad5dbd3748e6",
   "metadata": {},
   "outputs": [],
   "source": []
  },
  {
   "cell_type": "code",
   "execution_count": null,
   "id": "364e9b13-c215-4969-9b07-0ea593785240",
   "metadata": {},
   "outputs": [],
   "source": []
  },
  {
   "cell_type": "code",
   "execution_count": null,
   "id": "894d69c1-99cf-4e6c-8277-3c183051492f",
   "metadata": {},
   "outputs": [],
   "source": []
  },
  {
   "cell_type": "code",
   "execution_count": null,
   "id": "05130d67-3323-4e10-88f6-ed63b95b51ba",
   "metadata": {},
   "outputs": [],
   "source": []
  },
  {
   "cell_type": "code",
   "execution_count": null,
   "id": "fc0601ec-55d2-4fa4-9054-8a94192e41eb",
   "metadata": {},
   "outputs": [],
   "source": []
  },
  {
   "cell_type": "code",
   "execution_count": null,
   "id": "eb6f3008-7348-4fda-bca9-b25d681fdf15",
   "metadata": {},
   "outputs": [],
   "source": []
  },
  {
   "cell_type": "code",
   "execution_count": null,
   "id": "168c003f-af3b-4f71-a5bf-b1a185cfdaf4",
   "metadata": {},
   "outputs": [],
   "source": []
  },
  {
   "cell_type": "code",
   "execution_count": null,
   "id": "2c6b54e0-1857-45f1-85c5-a8497fa9956f",
   "metadata": {},
   "outputs": [],
   "source": []
  },
  {
   "cell_type": "code",
   "execution_count": null,
   "id": "a4def142-3f97-45d4-b3ae-f2938874e1b9",
   "metadata": {},
   "outputs": [],
   "source": []
  },
  {
   "cell_type": "code",
   "execution_count": null,
   "id": "5ae2bb6e-552a-4ce9-8a6f-d71e63f6bdfe",
   "metadata": {},
   "outputs": [],
   "source": []
  },
  {
   "cell_type": "code",
   "execution_count": null,
   "id": "af38d7f3-c0da-4507-bc8b-244b51ad51d1",
   "metadata": {},
   "outputs": [],
   "source": []
  },
  {
   "cell_type": "code",
   "execution_count": null,
   "id": "ba288ab5-babe-4f8e-a69e-eca36b1e46a9",
   "metadata": {},
   "outputs": [],
   "source": []
  },
  {
   "cell_type": "code",
   "execution_count": null,
   "id": "fef56d8b-f7a3-4b77-a78b-c89a9d4c0862",
   "metadata": {},
   "outputs": [],
   "source": []
  },
  {
   "cell_type": "code",
   "execution_count": null,
   "id": "3fd9b232-2e86-41f5-9154-1fffcceded25",
   "metadata": {},
   "outputs": [],
   "source": []
  },
  {
   "cell_type": "code",
   "execution_count": null,
   "id": "a4c69b51-ceae-4859-987f-9b03977f8e2f",
   "metadata": {},
   "outputs": [],
   "source": []
  },
  {
   "cell_type": "code",
   "execution_count": null,
   "id": "9c01d6c2-cc0e-4b32-a6f6-048766c6be58",
   "metadata": {},
   "outputs": [],
   "source": []
  },
  {
   "cell_type": "code",
   "execution_count": null,
   "id": "cee91cc4-99cc-4e15-a3ee-3c836b3aaba1",
   "metadata": {},
   "outputs": [],
   "source": []
  },
  {
   "cell_type": "code",
   "execution_count": null,
   "id": "fcb1e14c-bbae-4f5e-b4c8-522683e4903e",
   "metadata": {},
   "outputs": [],
   "source": []
  },
  {
   "cell_type": "code",
   "execution_count": null,
   "id": "ba64284e-f527-4570-af0a-c063a36e3f90",
   "metadata": {},
   "outputs": [],
   "source": []
  },
  {
   "cell_type": "code",
   "execution_count": null,
   "id": "667da223-74e2-41b5-b4f7-3f47c1d60ddb",
   "metadata": {},
   "outputs": [],
   "source": []
  },
  {
   "cell_type": "code",
   "execution_count": null,
   "id": "f12075f3-080b-418a-a799-1c501c7bc755",
   "metadata": {},
   "outputs": [],
   "source": []
  },
  {
   "cell_type": "code",
   "execution_count": null,
   "id": "0736d384-dbc7-42f9-bd11-12010d913302",
   "metadata": {},
   "outputs": [],
   "source": []
  },
  {
   "cell_type": "code",
   "execution_count": null,
   "id": "254e6903-6eb2-413e-8864-cce54468e181",
   "metadata": {},
   "outputs": [],
   "source": []
  },
  {
   "cell_type": "code",
   "execution_count": null,
   "id": "a94d9711-7cf8-4b29-98bc-e3674f27f042",
   "metadata": {},
   "outputs": [],
   "source": []
  },
  {
   "cell_type": "code",
   "execution_count": null,
   "id": "2ffb81c9-8e86-471d-82fe-2beccc4b687d",
   "metadata": {},
   "outputs": [],
   "source": []
  },
  {
   "cell_type": "code",
   "execution_count": null,
   "id": "8e884c4f-45da-4d75-a7ad-70187af2316d",
   "metadata": {},
   "outputs": [],
   "source": []
  },
  {
   "cell_type": "code",
   "execution_count": null,
   "id": "ba51ef58-c7f4-449b-a94e-d70b43458761",
   "metadata": {},
   "outputs": [],
   "source": []
  },
  {
   "cell_type": "code",
   "execution_count": null,
   "id": "4ec356c6-6819-43ec-b205-b692005eb4ff",
   "metadata": {},
   "outputs": [],
   "source": []
  },
  {
   "cell_type": "code",
   "execution_count": null,
   "id": "248b7398-90dc-42a2-9fca-b0cbc00de713",
   "metadata": {},
   "outputs": [],
   "source": []
  },
  {
   "cell_type": "code",
   "execution_count": null,
   "id": "77253458-3d16-4e14-9e7e-e9bbc1dc2888",
   "metadata": {},
   "outputs": [],
   "source": []
  },
  {
   "cell_type": "code",
   "execution_count": null,
   "id": "ff62c343-ce26-4f50-acd2-436d7167c995",
   "metadata": {},
   "outputs": [],
   "source": []
  },
  {
   "cell_type": "code",
   "execution_count": null,
   "id": "dcc4d712-f5fe-424a-96f3-908de470b4c7",
   "metadata": {},
   "outputs": [],
   "source": []
  },
  {
   "cell_type": "code",
   "execution_count": null,
   "id": "4e6409b3-c56f-40a1-85d4-b215c34e8988",
   "metadata": {},
   "outputs": [],
   "source": []
  },
  {
   "cell_type": "code",
   "execution_count": null,
   "id": "571e17f3-2795-4155-90a2-6e8a26839c04",
   "metadata": {},
   "outputs": [],
   "source": []
  },
  {
   "cell_type": "code",
   "execution_count": null,
   "id": "85387025-a03d-4e25-8117-5ced53933671",
   "metadata": {},
   "outputs": [],
   "source": []
  },
  {
   "cell_type": "code",
   "execution_count": null,
   "id": "ffc24fbc-1839-4ee2-a7a5-bff89f06a8ea",
   "metadata": {},
   "outputs": [],
   "source": []
  },
  {
   "cell_type": "code",
   "execution_count": null,
   "id": "604e7e45-ad1e-46bb-afa7-377645b05360",
   "metadata": {},
   "outputs": [],
   "source": []
  },
  {
   "cell_type": "code",
   "execution_count": null,
   "id": "f825da03-59e9-4281-ab82-50d3f8fb0c37",
   "metadata": {},
   "outputs": [],
   "source": []
  },
  {
   "cell_type": "code",
   "execution_count": null,
   "id": "32324875-d1d7-4bc6-af32-214dff22a0dd",
   "metadata": {},
   "outputs": [],
   "source": []
  },
  {
   "cell_type": "code",
   "execution_count": null,
   "id": "829565c4-8a2a-44b6-81d6-654e76f63b4c",
   "metadata": {},
   "outputs": [],
   "source": []
  },
  {
   "cell_type": "code",
   "execution_count": null,
   "id": "41cd920e-e868-4238-96cc-bea78ccf4256",
   "metadata": {},
   "outputs": [],
   "source": []
  },
  {
   "cell_type": "code",
   "execution_count": null,
   "id": "20e948dc-de46-4cdb-9b8c-857fa348581d",
   "metadata": {},
   "outputs": [],
   "source": []
  },
  {
   "cell_type": "code",
   "execution_count": null,
   "id": "907b2f96-bb05-425a-9b08-e42e33ea58c2",
   "metadata": {},
   "outputs": [],
   "source": []
  },
  {
   "cell_type": "code",
   "execution_count": null,
   "id": "944f1b68-5d51-4857-ad8c-cfc979856222",
   "metadata": {},
   "outputs": [],
   "source": []
  },
  {
   "cell_type": "code",
   "execution_count": null,
   "id": "ddd37305-50ac-4e14-85d3-0d4645d376fb",
   "metadata": {},
   "outputs": [],
   "source": []
  },
  {
   "cell_type": "code",
   "execution_count": null,
   "id": "957795d7-327a-45e4-bb45-fc6d80c0043f",
   "metadata": {},
   "outputs": [],
   "source": []
  },
  {
   "cell_type": "code",
   "execution_count": null,
   "id": "7a9c98a8-1be7-4c45-8564-a0dd8fe17c9a",
   "metadata": {},
   "outputs": [],
   "source": []
  },
  {
   "cell_type": "code",
   "execution_count": null,
   "id": "690345bd-ca2a-4ac3-a67e-ad191eab3d35",
   "metadata": {},
   "outputs": [],
   "source": []
  },
  {
   "cell_type": "code",
   "execution_count": null,
   "id": "e32b202b-640f-4e84-af08-0215bbe8e534",
   "metadata": {},
   "outputs": [],
   "source": []
  },
  {
   "cell_type": "code",
   "execution_count": null,
   "id": "1864524c-9337-4d4c-8c48-81f8d4fdbb4c",
   "metadata": {},
   "outputs": [],
   "source": []
  },
  {
   "cell_type": "code",
   "execution_count": null,
   "id": "21e8f5a1-b295-4708-b122-65818bd64ceb",
   "metadata": {},
   "outputs": [],
   "source": []
  },
  {
   "cell_type": "code",
   "execution_count": null,
   "id": "a1865c9d-7a4c-43db-8296-d54775351b09",
   "metadata": {},
   "outputs": [],
   "source": []
  },
  {
   "cell_type": "code",
   "execution_count": null,
   "id": "ab0e2064-365c-498b-afdb-0586e15bcbcd",
   "metadata": {},
   "outputs": [],
   "source": []
  },
  {
   "cell_type": "code",
   "execution_count": null,
   "id": "1c306f58-6d4a-41d7-99a7-47dc8b223d77",
   "metadata": {},
   "outputs": [],
   "source": []
  },
  {
   "cell_type": "code",
   "execution_count": null,
   "id": "7f026a3f-a240-4f47-9ea8-a59881cf5749",
   "metadata": {},
   "outputs": [],
   "source": []
  },
  {
   "cell_type": "code",
   "execution_count": null,
   "id": "732a1a02-6474-4ae9-bdeb-956da40723d5",
   "metadata": {},
   "outputs": [],
   "source": []
  },
  {
   "cell_type": "code",
   "execution_count": null,
   "id": "94211886-6941-4b53-850e-e021fce929e9",
   "metadata": {},
   "outputs": [],
   "source": []
  },
  {
   "cell_type": "code",
   "execution_count": null,
   "id": "50ca2788-bdd7-4674-bdc6-3f5c2985ee3e",
   "metadata": {},
   "outputs": [],
   "source": []
  },
  {
   "cell_type": "code",
   "execution_count": null,
   "id": "5ec17a87-8bb6-418f-b6f1-1812970e93bc",
   "metadata": {},
   "outputs": [],
   "source": []
  },
  {
   "cell_type": "code",
   "execution_count": null,
   "id": "729c1cb0-2517-4eac-bf81-b8ca8c1de613",
   "metadata": {},
   "outputs": [],
   "source": []
  },
  {
   "cell_type": "code",
   "execution_count": null,
   "id": "b950b27b-bf85-45dd-b850-aa5fc30b66eb",
   "metadata": {},
   "outputs": [],
   "source": []
  },
  {
   "cell_type": "code",
   "execution_count": null,
   "id": "062d9be8-bca3-414c-953d-269cc8143b06",
   "metadata": {},
   "outputs": [],
   "source": []
  },
  {
   "cell_type": "code",
   "execution_count": null,
   "id": "8886a06c-f0d2-4d46-8441-667c74d55597",
   "metadata": {},
   "outputs": [],
   "source": []
  },
  {
   "cell_type": "code",
   "execution_count": null,
   "id": "22ccea13-eef4-46b6-88ad-1b1272e36ab8",
   "metadata": {},
   "outputs": [],
   "source": []
  },
  {
   "cell_type": "code",
   "execution_count": null,
   "id": "3f9be75b-1a45-456d-8eb9-802c131e0c68",
   "metadata": {},
   "outputs": [],
   "source": []
  },
  {
   "cell_type": "code",
   "execution_count": null,
   "id": "d4cc7c56-113a-4448-a493-075b140fa139",
   "metadata": {},
   "outputs": [],
   "source": []
  },
  {
   "cell_type": "code",
   "execution_count": null,
   "id": "303944ed-55cf-496f-b8f4-17446426a6f7",
   "metadata": {},
   "outputs": [],
   "source": []
  },
  {
   "cell_type": "code",
   "execution_count": null,
   "id": "154f83ce-8d0f-4350-82a3-b4e2dc30993a",
   "metadata": {},
   "outputs": [],
   "source": []
  },
  {
   "cell_type": "code",
   "execution_count": null,
   "id": "76f79423-469b-4d4b-a94d-352932a46348",
   "metadata": {},
   "outputs": [],
   "source": []
  },
  {
   "cell_type": "code",
   "execution_count": null,
   "id": "56974abd-8c18-4d46-aa97-d9040eb2107e",
   "metadata": {},
   "outputs": [],
   "source": []
  },
  {
   "cell_type": "code",
   "execution_count": null,
   "id": "6db0eba4-cdab-4ad8-b15d-8302d21dd50e",
   "metadata": {},
   "outputs": [],
   "source": []
  },
  {
   "cell_type": "code",
   "execution_count": null,
   "id": "58dac70f-378c-45b5-a501-ca069f48db0c",
   "metadata": {},
   "outputs": [],
   "source": []
  },
  {
   "cell_type": "code",
   "execution_count": null,
   "id": "8f38b8b9-1e08-4f0f-92d0-711555783c3a",
   "metadata": {},
   "outputs": [],
   "source": []
  },
  {
   "cell_type": "code",
   "execution_count": null,
   "id": "7c96e8d9-00e2-43eb-b961-fd26abbad248",
   "metadata": {},
   "outputs": [],
   "source": []
  },
  {
   "cell_type": "code",
   "execution_count": null,
   "id": "ce67c561-d5dc-43d2-b3c7-2f1be52e4113",
   "metadata": {},
   "outputs": [],
   "source": []
  },
  {
   "cell_type": "code",
   "execution_count": null,
   "id": "131c5e3b-250d-40d1-9343-0e969ac086ad",
   "metadata": {},
   "outputs": [],
   "source": []
  },
  {
   "cell_type": "code",
   "execution_count": null,
   "id": "20746509-33bc-4945-b0fd-4b2582ef81c7",
   "metadata": {},
   "outputs": [],
   "source": []
  },
  {
   "cell_type": "code",
   "execution_count": null,
   "id": "e9eb3359-cdb1-4d86-a19e-f9a57bb06754",
   "metadata": {},
   "outputs": [],
   "source": []
  },
  {
   "cell_type": "code",
   "execution_count": null,
   "id": "866a3437-b062-4a3b-9164-7c02173cd0fc",
   "metadata": {},
   "outputs": [],
   "source": []
  },
  {
   "cell_type": "code",
   "execution_count": null,
   "id": "299774ce-b918-4046-a419-e6366c5144c5",
   "metadata": {},
   "outputs": [],
   "source": [
    "\n"
   ]
  }
 ],
 "metadata": {
  "kernelspec": {
   "display_name": "Python 3 (ipykernel)",
   "language": "python",
   "name": "python3"
  },
  "language_info": {
   "codemirror_mode": {
    "name": "ipython",
    "version": 3
   },
   "file_extension": ".py",
   "mimetype": "text/x-python",
   "name": "python",
   "nbconvert_exporter": "python",
   "pygments_lexer": "ipython3",
   "version": "3.10.8"
  }
 },
 "nbformat": 4,
 "nbformat_minor": 5
}
