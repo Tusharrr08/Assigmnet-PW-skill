{
 "cells": [
  {
   "cell_type": "markdown",
   "id": "841bad3c-b919-4163-897d-c547ba036354",
   "metadata": {},
   "source": [
    "\n",
    "{1}Web scraping is the process of extracting data from websites. This data can be in the form of text, images, tables, or other formats. Web scraping is used for a variety of purposes, including:\n",
    "\n",
    "Price monitoring :- Businesses can use web scraping to track the prices of their competitors' products. This information can be used to set competitive prices and make informed business decisions.\n",
    "\n",
    "Lead generation :- Web scraping can be used to collect contact information for potential customers. This information can then be used to market products or services to potential customers.\n",
    "\n",
    "Market research :- Web scraping can be used to collect data about a particular industry or market. This information can be used to identify trends, identify new opportunities, and make informed business decisions.\n",
    "\n",
    "\n",
    " Areas where web scraping is used to get data are :\n",
    "\n",
    "Social media,  News ,  E-commerce"
   ]
  },
  {
   "cell_type": "markdown",
   "id": "3daae320-7d9c-4463-89db-d8a32b564f28",
   "metadata": {},
   "source": [
    "{2}  \n",
    "\n",
    "Different Method used for Web Scrapping\n",
    "\n",
    "HTML parsing: This is the most basic method of web scraping, and it involves parsing the HTML code of a web page to extract the desired data. This method is relatively simple to implement, but it can be difficult to extract data from complex or dynamic web pages.\n",
    "DOM parsing: This method is a more advanced form of HTML parsing, and it involves using the Document Object Model (DOM) to extract data from a web page. The DOM is a hierarchical representation of the HTML code of a web page, and it makes it easier to extract specific elements of data.\n",
    "\n",
    "\n",
    "APIs: Many websites offer APIs that allow you to access their data programmatically. This is a very efficient way to extract data from websites, as it eliminates the need to parse the HTML code. However, not all websites offer APIs, and the APIs that are available may not provide access to all of the data that you need.\n",
    "\n",
    "\n",
    "Browser automation: This method involves using a browser automation tool, such as Selenium or Puppeteer, to interact with a web page and extract data. This method is very powerful, as it allows you to do things like click buttons, fill out forms, and scroll through pages. However, it can also be the most complex method of web scraping, and it requires some programming knowledge."
   ]
  },
  {
   "cell_type": "markdown",
   "id": "77e0bd82-6e09-425c-85ab-37e2cb54aacd",
   "metadata": {},
   "source": [
    "{3}\n",
    "\n",
    "Beautiful Soup is a Python library that makes it easy to parse HTML and XML documents. It provides a few simple methods and Pythonic idioms for navigating, searching, and modifying the parse tree. It commonly saves programmers hours or days of work.\n",
    "\n",
    "Beautiful Soup is used for a variety of purposes :- \n",
    "\n",
    "Web scraping: Beautiful Soup is a popular tool for web scraping, as it allows you to extract data from HTML and XML documents in a very efficient way.\n",
    "\n",
    "\n",
    "Data cleaning: Beautiful Soup can also be used to clean up HTML and XML documents, removing unwanted elements and formatting the data in a consistent way.\n",
    "\n",
    "\n",
    "Data analysis: Beautiful Soup can be used to analyze data that is stored in HTML and XML documents. This can be useful for tasks such as market research, sentiment analysis, and product tracking."
   ]
  },
  {
   "cell_type": "markdown",
   "id": "9d9bc77a-dc18-420c-ba4b-d3e067680343",
   "metadata": {},
   "source": [
    "{4}\n",
    "\n",
    "\n",
    "Flask is a lightweight Python framework that is often used for web scraping projects. There are several reasons why Flask is a good choice for web scraping:\n",
    "\n",
    "Easy to learn: Flask is a very easy framework to learn, even for beginners. The documentation is clear and concise, and there are many tutorials available online.\n",
    "\n",
    "\n",
    "Lightweight: Flask is a very lightweight framework, which means that it is easy to deploy and scale. This is important for web scraping projects, as they can often be resource-intensive.\n",
    "\n",
    "\n",
    "Flexible: Flask is a very flexible framework, which means that it can be used for a variety of different web scraping tasks. This makes it a good choice for projects that require a custom solution.\n",
    "\n",
    "\n",
    "Community: There is a large and active community of Flask users, which means that there is plenty of support available if you need help with your project.\n",
    "\n",
    "\n",
    "Flask is also a good choice for web scraping projects because it allows you to:\n",
    "\n",
    "Create a web application that allows you to interact with the data that you have scraped.\n",
    "\n",
    "Deploy your web application to a cloud server so that you can access the data from anywhere.\n",
    "\n",
    "Use Flask's built-in tools to debug your web scraping code."
   ]
  },
  {
   "cell_type": "markdown",
   "id": "3b04bdc5-1112-4677-986e-c373f9447af2",
   "metadata": {},
   "source": [
    "{5}\n",
    "\n",
    "Services that is used in this project are :-\n",
    "\n",
    "i) CodePipline :- AWS CodePipeline is a continuous delivery service that can be used to automate the deployment of the web scraping project. This makes it easy to ensure that the project is always up-to-date, and it also makes it easy to roll back changes if necessary.\n",
    "\n",
    "ii) Elastic Beanstalk :-\n",
    "AWS Elastic Beanstalk is a fully managed platform that makes it easy to deploy and scale web applications and services. It takes care of provisioning the underlying infrastructure, such as Amazon EC2 instances, load balancers, and auto scaling groups, so you can focus on your application code.\n",
    "\n",
    "Both can be used to deploy a wide variety of applications, including:\n",
    "\n",
    "Web applications: Elastic Beanstalk can be used to deploy web applications written in a variety of languages, including Java, Python, PHP, Ruby, and Node.js.\n",
    "\n",
    "\n",
    "APIs: Elastic Beanstalk can be used to deploy APIs that are used to interact with other applications or services.\n",
    "\n",
    "\n",
    "Batch processing: Elastic Beanstalk can be used to deploy batch processing applications that process large amounts of data.\n",
    "\n",
    "Microservices: Elastic Beanstalk can be used to deploy microservices that are part of a larger application."
   ]
  },
  {
   "cell_type": "code",
   "execution_count": null,
   "id": "4fed3c83-6596-43a8-8c4d-2dffa50167bc",
   "metadata": {},
   "outputs": [],
   "source": []
  },
  {
   "cell_type": "code",
   "execution_count": null,
   "id": "0a2e1bc3-8468-4d31-ad0c-48edbcab2b71",
   "metadata": {},
   "outputs": [],
   "source": []
  },
  {
   "cell_type": "code",
   "execution_count": null,
   "id": "64c08fb9-4041-4b33-b4e3-96785cf9a562",
   "metadata": {},
   "outputs": [],
   "source": []
  },
  {
   "cell_type": "code",
   "execution_count": null,
   "id": "8e4adfc1-71ed-43ca-befb-3a5d27a2d55b",
   "metadata": {},
   "outputs": [],
   "source": []
  },
  {
   "cell_type": "code",
   "execution_count": null,
   "id": "552b45c8-fb8e-4fa7-b6fd-6950ba173c84",
   "metadata": {},
   "outputs": [],
   "source": []
  },
  {
   "cell_type": "code",
   "execution_count": null,
   "id": "79542a5b-bf58-42a0-8806-579d80999dfe",
   "metadata": {},
   "outputs": [],
   "source": []
  },
  {
   "cell_type": "code",
   "execution_count": null,
   "id": "fd753d69-0edc-4036-bf30-58c8f8383582",
   "metadata": {},
   "outputs": [],
   "source": []
  },
  {
   "cell_type": "code",
   "execution_count": null,
   "id": "869fb4d6-30cb-4310-abb6-0c66e8483326",
   "metadata": {},
   "outputs": [],
   "source": []
  },
  {
   "cell_type": "code",
   "execution_count": null,
   "id": "a4d682c8-04e4-419f-9284-ad03e0398fe6",
   "metadata": {},
   "outputs": [],
   "source": []
  },
  {
   "cell_type": "code",
   "execution_count": null,
   "id": "4a331389-fb5f-4634-bcb4-bcd4eefadbe9",
   "metadata": {},
   "outputs": [],
   "source": []
  },
  {
   "cell_type": "code",
   "execution_count": null,
   "id": "b9881040-02ee-4be2-a3a5-b279b1060c4f",
   "metadata": {},
   "outputs": [],
   "source": []
  },
  {
   "cell_type": "code",
   "execution_count": null,
   "id": "9fa97036-3f80-4115-a02e-30c13864bfc0",
   "metadata": {},
   "outputs": [],
   "source": []
  },
  {
   "cell_type": "code",
   "execution_count": null,
   "id": "b0ef55d1-f9a8-4ac4-a27b-2d602888db98",
   "metadata": {},
   "outputs": [],
   "source": []
  },
  {
   "cell_type": "code",
   "execution_count": null,
   "id": "ebbb861d-4f6d-4380-8a90-c35e5afb6f27",
   "metadata": {},
   "outputs": [],
   "source": []
  },
  {
   "cell_type": "code",
   "execution_count": null,
   "id": "b023d3eb-ec95-4ea6-94d7-00196057c35c",
   "metadata": {},
   "outputs": [],
   "source": []
  },
  {
   "cell_type": "code",
   "execution_count": null,
   "id": "509ce375-04e4-44bf-89fa-8fee9142aaaf",
   "metadata": {},
   "outputs": [],
   "source": []
  },
  {
   "cell_type": "code",
   "execution_count": null,
   "id": "d929a832-afce-4e1a-a4a6-f17d1e391479",
   "metadata": {},
   "outputs": [],
   "source": []
  },
  {
   "cell_type": "code",
   "execution_count": null,
   "id": "9c25243b-95f5-4d23-aec0-b85c1ff13838",
   "metadata": {},
   "outputs": [],
   "source": []
  },
  {
   "cell_type": "code",
   "execution_count": null,
   "id": "5cfa2aef-d4d4-4439-b88c-3692df02c32e",
   "metadata": {},
   "outputs": [],
   "source": []
  },
  {
   "cell_type": "code",
   "execution_count": null,
   "id": "fa6b394b-50ad-4d1a-ada2-f10fc78c2f1e",
   "metadata": {},
   "outputs": [],
   "source": []
  },
  {
   "cell_type": "code",
   "execution_count": null,
   "id": "f6510e21-ae5b-4576-b9fd-1df6bcc7bca8",
   "metadata": {},
   "outputs": [],
   "source": []
  }
 ],
 "metadata": {
  "kernelspec": {
   "display_name": "Python 3 (ipykernel)",
   "language": "python",
   "name": "python3"
  },
  "language_info": {
   "codemirror_mode": {
    "name": "ipython",
    "version": 3
   },
   "file_extension": ".py",
   "mimetype": "text/x-python",
   "name": "python",
   "nbconvert_exporter": "python",
   "pygments_lexer": "ipython3",
   "version": "3.10.8"
  }
 },
 "nbformat": 4,
 "nbformat_minor": 5
}
