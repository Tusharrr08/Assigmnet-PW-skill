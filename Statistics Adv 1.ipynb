{
 "cells": [
  {
   "cell_type": "markdown",
   "id": "6eff8f0d-ab4f-4cdd-8b74-0c9c8c2bb3ae",
   "metadata": {},
   "source": [
    "#1\n",
    "\n",
    "\n",
    "In probability theory, a probability density function (PDF) is a function that describes the probability of a continuous random variable taking on a certain value. The PDF is often graphed as a curve, with the height of the curve at a particular value indicating the probability of the random variable taking on that value."
   ]
  },
  {
   "cell_type": "markdown",
   "id": "0825e1de-67fa-46a1-a849-e711b65affad",
   "metadata": {},
   "source": [
    "#2\n",
    "\n",
    "Bernoulli distribution is a discrete probability distribution. It describes the probability of achieving a “success” or “failure” from a Bernoulli trial. A Bernoulli trial is an event that has only two possible outcomes (success or failure).\n",
    "\n",
    "Binomial distribution: This distribution describes the probability of getting a certain number of successes in a fixed number of trials, where each trial has only two possible outcomes (success or failure).\n",
    "\n",
    "Poisson distribution: This distribution describes the probability of observing a certain number of events in a fixed period of time, where the events occur independently of each other.\n",
    "\n",
    "Normal distribution: This distribution is bell-shaped and is often used to model real-world data.\n",
    "\n",
    "Uniform distribution: This distribution describes the probability of observing any value within a certain range.\n",
    "\n",
    "Discrete probability distributions are those in which the random variable can only take on a finite number of values. For example, the number of heads in 3 coin flips is a discrete random variable, since it can only take on the values 0, 1, 2, or 3.\n",
    "\n",
    "Continuous probability distributions are those in which the random variable can take on any value within a certain range. For example, the height of a randomly selected person is a continuous random variable, since it can take on any value between the minimum and maximum possible heights."
   ]
  },
  {
   "cell_type": "code",
   "execution_count": 4,
   "id": "129ff9af-3d6b-48e2-8f28-2132e2401055",
   "metadata": {},
   "outputs": [],
   "source": [
    "#3\n",
    "import math\n",
    "def normpdf(x, mean, sd):\n",
    "    var = float(sd)**2\n",
    "    denom = (2*math.pi*var)**.5\n",
    "    num = math.exp(-(float(x)-float(mean))**2/(2*var))\n",
    "    return num/denom"
   ]
  },
  {
   "cell_type": "code",
   "execution_count": 5,
   "id": "f0127f64-f7cb-40fd-84f2-fbd2c2aaa562",
   "metadata": {},
   "outputs": [
    {
     "data": {
      "text/plain": [
       "0.07365402806066466"
      ]
     },
     "execution_count": 5,
     "metadata": {},
     "output_type": "execute_result"
    }
   ],
   "source": [
    "normpdf(7,5,5)"
   ]
  },
  {
   "cell_type": "markdown",
   "id": "7e49f1dc-affa-484f-bb4c-a6fe4a22ebee",
   "metadata": {},
   "source": [
    "#4\n",
    "\n",
    "The properties of the binomial distribution are:\n",
    "    \n",
    "    \n",
    "It is a probability mass function\n",
    "\n",
    "The number of trials, n, is fixed.\n",
    "\n",
    "The trials are independent of each other.\n",
    "\n",
    "The probability of success, p, remains the same for each trial.\n",
    "\n",
    "The probability of failure, q, is equal to 1 - p.\n",
    "\n",
    "The binomial distribution can be applied\n",
    "\n",
    "\n",
    "The number of heads in 10 coin flips.\n",
    "\n",
    "The number of people who pass a test out of 100 people who take the test."
   ]
  },
  {
   "cell_type": "code",
   "execution_count": 7,
   "id": "235179da-fd6f-45da-90f2-61478a84f3b3",
   "metadata": {},
   "outputs": [
    {
     "data": {
      "image/png": "[encoded data removed]",
      "text/plain": [
       "<Figure size 640x480 with 1 Axes>"
      ]
     },
     "metadata": {},
     "output_type": "display_data"
    }
   ],
   "source": [
    "#5\n",
    "\n",
    "import numpy as np\n",
    "import matplotlib.pyplot as plt\n",
    "\n",
    "sample = np.random.binomial(n=1000, p=0.4, size=1000)\n",
    "\n",
    "\n",
    "plt.hist(sample, bins=20, density=True)\n",
    "plt.xlabel('Number of successes')\n",
    "plt.ylabel('Probability')\n",
    "plt.show()"
   ]
  },
  {
   "cell_type": "code",
   "execution_count": 13,
   "id": "e42cfa2d-27d0-48dd-8973-04d83659c32e",
   "metadata": {},
   "outputs": [
    {
     "name": "stdout",
     "output_type": "stream",
     "text": [
      "0.1353352832366127\n"
     ]
    }
   ],
   "source": [
    "#6\n",
    "\n",
    "import math\n",
    "\n",
    "def poisson_cdf(x, mean):\n",
    "    cdf = 0\n",
    "    for k in range(x + 1):\n",
    "        exponent = -math.pow(mean, k) / math.factorial(k)\n",
    "    cdf += math.exp(exponent)\n",
    "    return cdf\n",
    "\n",
    "if __name__ == \"__main__\":\n",
    "    mean = 2\n",
    "    x = 1\n",
    "    cdf = poisson_cdf(x, mean)\n",
    "    print(cdf)"
   ]
  },
  {
   "cell_type": "markdown",
   "id": "a8cbe060-0697-455c-be63-f248d7844251",
   "metadata": {},
   "source": [
    "#7\n",
    "\n",
    "The binomial distribution has a fixed number of trials, while the Poisson distribution does not.\n",
    "\n",
    "The binomial distribution has two possible outcomes, success or failure, while the Poisson distribution can have any number of possible outcomes"
   ]
  },
  {
   "cell_type": "code",
   "execution_count": 14,
   "id": "3cd05801-e36c-45d0-9fed-45d3a885831c",
   "metadata": {},
   "outputs": [
    {
     "name": "stdout",
     "output_type": "stream",
     "text": [
      "Sample mean: 5.029\n",
      "Sample variance: 5.200158999999999\n"
     ]
    }
   ],
   "source": [
    "#8\n",
    "\n",
    "import numpy as np\n",
    "\n",
    "sample = np.random.poisson(5, size=1000)\n",
    "\n",
    "mean = np.mean(sample)\n",
    "\n",
    "variance = np.var(sample)\n",
    "\n",
    "print(\"Sample mean:\", mean)\n",
    "print(\"Sample variance:\", variance)"
   ]
  },
  {
   "cell_type": "markdown",
   "id": "558a106e-bdb0-4113-a79e-0f4dd165d36f",
   "metadata": {},
   "source": [
    "#9\n",
    "\n",
    "\n",
    "In both the binomial and Poisson distributions, the mean and variance are equal. This is because both distributions are discrete probability distributions that are used to model the number of successes in a fixed number of trials.\n",
    "\n",
    "In the binomial distribution, the mean is equal to the number of trials multiplied by the probability of success. The variance is equal to the number of trials multiplied by the probability of success multiplied by the probability of failure.\n",
    "\n",
    "In the Poisson distribution, the mean is equal to the parameter lambda. The variance is also equal to the parameter lambda.\n",
    "\n",
    "The reason why the mean and variance are equal in both the binomial and Poisson distributions is because these distributions are both memoryless. This means that the probability of success on any given trial does not depend on the results of previous trials."
   ]
  },
  {
   "cell_type": "markdown",
   "id": "428c97d4-0cb9-4110-90b9-646c391f8ea8",
   "metadata": {},
   "source": [
    "#10\n",
    "\n",
    "In a normal distribution, the least frequent data points appear in the tails of the distribution, which are the areas that are furthest away from the mean. This is because the normal distribution is symmetrical, so the most frequent data points are always the ones that are closest to the mean."
   ]
  },
  {
   "cell_type": "code",
   "execution_count": null,
   "id": "4603fba7-ac74-42d0-b9fa-8706b1b35d45",
   "metadata": {},
   "outputs": [],
   "source": []
  },
  {
   "cell_type": "code",
   "execution_count": null,
   "id": "0c8991a8-8b6b-449f-928f-442621ba7365",
   "metadata": {},
   "outputs": [],
   "source": []
  },
  {
   "cell_type": "code",
   "execution_count": null,
   "id": "783f9113-a274-4d3d-9cbd-deadf2502b2a",
   "metadata": {},
   "outputs": [],
   "source": []
  },
  {
   "cell_type": "code",
   "execution_count": null,
   "id": "3bd764df-9d49-46d5-9b86-0b7e3734d8e5",
   "metadata": {},
   "outputs": [],
   "source": []
  },
  {
   "cell_type": "code",
   "execution_count": null,
   "id": "e65fd1b2-b8fe-45ff-8021-470286cab82f",
   "metadata": {},
   "outputs": [],
   "source": []
  },
  {
   "cell_type": "code",
   "execution_count": null,
   "id": "93663145-92d1-44ea-a188-edbe453ce342",
   "metadata": {},
   "outputs": [],
   "source": []
  }
 ],
 "metadata": {
  "kernelspec": {
   "display_name": "Python 3 (ipykernel)",
   "language": "python",
   "name": "python3"
  },
  "language_info": {
   "codemirror_mode": {
    "name": "ipython",
    "version": 3
   },
   "file_extension": ".py",
   "mimetype": "text/x-python",
   "name": "python",
   "nbconvert_exporter": "python",
   "pygments_lexer": "ipython3",
   "version": "3.10.8"
  }
 },
 "nbformat": 4,
 "nbformat_minor": 5
}
