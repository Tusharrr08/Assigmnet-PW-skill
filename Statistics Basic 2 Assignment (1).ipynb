{
 "cells": [
  {
   "cell_type": "markdown",
   "id": "c4c07745-eadb-416b-943c-574585b4b3e8",
   "metadata": {},
   "source": [
    "#1\n",
    "\n",
    "The three measures of central tendency are the mean, median, and mode.\n",
    "\n",
    "Mean is the average of all the values in a dataset. It is calculated by adding up all the values and dividing by the number of values.\n",
    "\n",
    "Median is the middle value in a dataset when all the values are ordered from least to greatest. If there is an even number of values, the median is the average of the two middle values.\n",
    "\n",
    "Mode is the most frequent value in a dataset."
   ]
  },
  {
   "cell_type": "markdown",
   "id": "022fcfd4-5a8d-4d73-b9ec-0f5342ffc758",
   "metadata": {},
   "source": [
    "#2\n",
    "\n",
    "Mean is use to take out average of sample data while median use to take out middle of the data and mode is use to take out frequency of most repeated data in sample data\n",
    "\n",
    "The mean, median, and mode can all be used to measure the central tendency of a dataset :-\n",
    "\n",
    "The mean is the most commonly used measure of central tendency, but it can be sensitive to outliers. Outliers are values that are much larger or smaller than the rest of the data. If a dataset has a few outliers, the mean can be misleading.\n",
    "\n",
    "The median is not sensitive to outliers, but it can be misleading if the dataset is not symmetrical. A symmetrical dataset is one where the values are distributed evenly around the mean. If a dataset is not symmetrical, the median may not be a good representation of the central tendency.\n",
    "\n",
    "The mode is the least sensitive to outliers, but it is not always a good measure of central tendency if there are multiple modes. A mode is a value that appears more often than any other value in a dataset. If a dataset has multiple modes, it means that there are two or more values that appear equally often. In this case, the mode is not a good representation of the central tendency."
   ]
  },
  {
   "cell_type": "code",
   "execution_count": 8,
   "id": "8bc52968-8ff3-43f0-bd4e-0fabe01088c7",
   "metadata": {},
   "outputs": [
    {
     "data": {
      "text/plain": [
       "177.01875"
      ]
     },
     "execution_count": 8,
     "metadata": {},
     "output_type": "execute_result"
    }
   ],
   "source": [
    "#3\n",
    "import numpy as np\n",
    "data=[178,177,176,177,178.2,178,175,179,180,175,178.9,176.2,177,172.5,178,176.5]\n",
    "\n",
    "#Mean\n",
    "np.mean(data)\n",
    "\n"
   ]
  },
  {
   "cell_type": "code",
   "execution_count": 9,
   "id": "bd30e230-6a74-4920-8b72-8fb417b47055",
   "metadata": {},
   "outputs": [
    {
     "data": {
      "text/plain": [
       "177.0"
      ]
     },
     "execution_count": 9,
     "metadata": {},
     "output_type": "execute_result"
    }
   ],
   "source": [
    "#Median\n",
    "np.median(data)"
   ]
  },
  {
   "cell_type": "code",
   "execution_count": 14,
   "id": "3ef52c40-c937-4297-9081-d81596b71443",
   "metadata": {},
   "outputs": [],
   "source": [
    "from scipy import stats"
   ]
  },
  {
   "cell_type": "code",
   "execution_count": 16,
   "id": "7dd018e4-d029-4471-b492-a26bc0753db9",
   "metadata": {},
   "outputs": [
    {
     "name": "stderr",
     "output_type": "stream",
     "text": [
      "/tmp/ipykernel_70/579156357.py:2: FutureWarning: Unlike other reduction functions (e.g. `skew`, `kurtosis`), the default behavior of `mode` typically preserves the axis it acts along. In SciPy 1.11.0, this behavior will change: the default value of `keepdims` will become False, the `axis` over which the statistic is taken will be eliminated, and the value None will no longer be accepted. Set `keepdims` to True or False to avoid this warning.\n",
      "  stats.mode(data)\n"
     ]
    },
    {
     "data": {
      "text/plain": [
       "ModeResult(mode=array([177.]), count=array([3]))"
      ]
     },
     "execution_count": 16,
     "metadata": {},
     "output_type": "execute_result"
    }
   ],
   "source": [
    "data=[178,177,176,177,178.2,178,175,179,180,175,178.9,176.2,177,172.5,178,176.5]\n",
    "stats.mode(data)"
   ]
  },
  {
   "cell_type": "code",
   "execution_count": 17,
   "id": "4c76247d-5058-4966-9ee3-80afe0933fa3",
   "metadata": {},
   "outputs": [],
   "source": [
    "#4\n",
    "import numpy as np\n",
    "\n",
    "sample_data=[178,177,176,177,178.2,178,175,179,180,175,178.9,176.2,177,172.5,178,176.5]"
   ]
  },
  {
   "cell_type": "code",
   "execution_count": 18,
   "id": "978e64dc-b817-469e-8a3e-6173d9e1279c",
   "metadata": {},
   "outputs": [
    {
     "data": {
      "text/plain": [
       "1.7885814036548633"
      ]
     },
     "execution_count": 18,
     "metadata": {},
     "output_type": "execute_result"
    }
   ],
   "source": [
    "np.std(sample_data)"
   ]
  },
  {
   "cell_type": "markdown",
   "id": "167a6eea-b4c4-4415-9916-8f0e1d1d605a",
   "metadata": {},
   "source": [
    "#5\n",
    "\n",
    "Range is the simplest measure of dispersion. It is the difference between the highest and lowest values in a dataset.\n",
    "\n",
    "Variance is a more complex measure of dispersion. It measures the average squared deviation of the data points from the mean.\n",
    "\n",
    "Standard deviation is the square root of the variance. It is a more interpretable measure of dispersion than variance because it is in the same units as the data points."
   ]
  },
  {
   "cell_type": "code",
   "execution_count": 26,
   "id": "53c4877f-2a66-4782-8f51-d79c6828b36f",
   "metadata": {},
   "outputs": [
    {
     "name": "stdout",
     "output_type": "stream",
     "text": [
      "5\n"
     ]
    }
   ],
   "source": [
    "var=[1,2,3,4,5,6]\n",
    "range=np.max(var)-np.min(var)\n",
    "print(range)"
   ]
  },
  {
   "cell_type": "code",
   "execution_count": 27,
   "id": "50efaa56-70bc-474e-bd04-9f91fabf540b",
   "metadata": {},
   "outputs": [
    {
     "data": {
      "text/plain": [
       "(1.707825127659933, 2.9166666666666665)"
      ]
     },
     "execution_count": 27,
     "metadata": {},
     "output_type": "execute_result"
    }
   ],
   "source": [
    "np.std(var),np.var(var)"
   ]
  },
  {
   "cell_type": "markdown",
   "id": "ad19eadc-e9ba-43f4-ac6b-403537bd6277",
   "metadata": {},
   "source": [
    "#6\n",
    "\n",
    "Venn diagram is a diagramatic way of porducing data inside circles or ellipses which represents sets and they  are intersecting each other under the rectangular box . It is popularized by John Venn in 1880s."
   ]
  },
  {
   "cell_type": "markdown",
   "id": "8ac7f861-c0a4-4d1d-95c4-6df936f6f7c0",
   "metadata": {},
   "source": [
    "#7\n",
    "\n",
    "A = (2,3,4,5,6,7) & B = (0,2,6,8,10)\n",
    "\n",
    "(i) A intersection B -- {2,6}\n",
    "\n",
    "(ii) A Union B -- {0,2,3,4,5,6,7,8,10}\n"
   ]
  },
  {
   "cell_type": "markdown",
   "id": "bac380b4-296e-4a1c-bfa0-4b10f0a3c061",
   "metadata": {},
   "source": [
    "#8\n",
    "\n",
    "Skewness is a measure of the asymmetry of a distribution. It is a statistical measure that describes the extent to which the data is distributed unevenly around the mean. A distribution is said to be skewed if the mean, median, and mode are not all equal.\n",
    "\n",
    "There are two types of skewness:\n",
    "\n",
    "Positive skewness: This occurs when the tail of the distribution is longer on the right side of the mean. This means that there are more data points on the right side of the mean than on the left.\n",
    "\n",
    "Negative skewness: This occurs when the tail of the distribution is longer on the left side of the mean. This means that there are more data points on the left side of the mean than on the right."
   ]
  },
  {
   "cell_type": "markdown",
   "id": "a1fdcd47-30a3-4a88-9a55-b1eb01a58eae",
   "metadata": {},
   "source": [
    "#9\n",
    "\n",
    "\n",
    "If a data is right skewed, then the median will be less than the mean. This is because the mean is affected by outliers, which are data points that are much larger or smaller than the rest of the data. In a right-skewed distribution, the outliers are located on the right side of the distribution, which means that they pull the mean towards the right. The median, on the other hand, is not affected by outliers, so it remains in the center of the distribution.\n",
    "\n",
    "mean>median>mode"
   ]
  },
  {
   "cell_type": "markdown",
   "id": "ef4b418a-8540-401a-adc1-4d723080fff2",
   "metadata": {},
   "source": [
    "#10\n",
    "\n",
    "Covariance measures the extent to which two variables change together. It is calculated by taking the average of the products of the deviations from the mean for each variable.\n",
    "\n",
    "Correlation measures the strength and direction of the linear relationship between two variables. It is calculated by dividing the covariance by the product of the standard deviations for each variable\n",
    "\n",
    "\n",
    "how covariance and correlation can be used in statistical analysis:\n",
    "    \n",
    "Regression analysis: Covariance can be used to calculate the slope of the regression line in a linear regression model.\n",
    "\n",
    "Factor analysis: Correlation can be used to identify the factors that underlie a set of variables.\n",
    "\n",
    "Investment analysis: Correlation can be used to assess the risk of a portfolio of investments."
   ]
  },
  {
   "cell_type": "markdown",
   "id": "4107761e-b5d9-4539-85f0-afdcd1b5e119",
   "metadata": {},
   "source": [
    "#11\n",
    "\n",
    "The formula for calculating the sample mean is:\n",
    "\n",
    "x̄ = ∑xi / n\n",
    "\n",
    "where:\n",
    "\n",
    "x̄ is the sample mean\n",
    "\n",
    "xi is the individual data point\n",
    "\n",
    "n is the number of data points\n",
    "\n",
    "for example :-\n",
    "\n",
    "x̄ = 1+2+3+4+5/5\n",
    "\n",
    "x̄ =3"
   ]
  },
  {
   "cell_type": "markdown",
   "id": "27d3481e-ce6a-4517-b4e8-a8006acd014d",
   "metadata": {},
   "source": [
    "#12\n",
    "\n",
    "\n",
    "In a normal distribution, the mean, median, and mode are all equal. This is because a normal distribution is symmetrical, meaning that the data is evenly distributed around the mean.\n",
    "\n",
    "mean=median=mode"
   ]
  },
  {
   "cell_type": "markdown",
   "id": "9f5d5632-5fc4-4db5-a584-063d4ecec59f",
   "metadata": {},
   "source": [
    "#13\n",
    "\n",
    "Covariance measures the extent to which two variables change together. It is calculated by taking the average of the products of the deviations from the mean for each variable.\n",
    "\n",
    "Correlation measures the strength and direction of the linear relationship between two variables. It is calculated by dividing the covariance by the product of the standard deviations for each variable.\n",
    "\n",
    "The main difference between covariance and correlation is that covariance can be any value, while correlation is always between -1 and 1. A covariance of 0 indicates that there is no relationship between the two variables, while a covariance of 1 indicates that there is a perfect positive relationship between the two variables. A covariance of -1 indicates that there is a perfect negative relationship between the two variables.\n",
    "\n",
    "\n",
    "Feature\t----------           Covariance|\t                                                        Correlation\n",
    "\n",
    "Range\t-----------             -∞ to ∞|\t                                                         -1 to 1\n",
    "\n",
    "\n",
    "Direction\t-------       No direction|\t                                                    Positive or negative\n",
    "\n",
    "\n",
    "\n",
    "Interpretation-------\tMeasures the extent to which two variableschange together |      \tMeasures the strength direction of                                                                       the linear relationship between two variables"
   ]
  },
  {
   "cell_type": "markdown",
   "id": "09575656-d2c1-427b-b3f9-dd5f2dd6ab92",
   "metadata": {},
   "source": [
    "#14\n",
    "\n",
    "\n",
    "Outliers are data points that are much larger or smaller than the rest of the data. They can affect measures of central tendency and dispersion in different ways.\n",
    "\n",
    "Mean: The mean is the average of all the data points. Outliers can affect the mean by pulling it towards themselves. For example, if there is an outlier that is much larger than the rest of the data, the mean will be pulled towards the outlier.\n",
    "\n",
    "Median: The median is the middle value in the data set when all the values are ordered from least to greatest. Outliers do not affect the median because the median is not affected by extreme values.\n",
    "\n",
    "Mode: The mode is the most frequent value in the data set. Outliers do not affect the mode because the mode is not affected by extreme values.\n",
    "\n",
    "Variance: The variance is a measure of how spread out the data is. Outliers can affect the variance by increasing it. This is because outliers are far away from the mean, which means that they contribute more to the variance than other data points.\n",
    "\n",
    "Standard deviation: The standard deviation is the square root of the variance. Outliers can affect the standard deviation in the same way that they affect the variance.\n",
    "\n",
    "\n",
    "Here is an example of how outliers can affect measures of central tendency and dispersion:\n",
    "\n",
    "Data set 1: 1, 2, 3, 4, 5\n",
    "\n",
    "Mean: 3\n",
    "\n",
    "Median: 3\n",
    "\n",
    "Mode: 3\n",
    "\n",
    "Variance: 1\n",
    "\n",
    "Standard deviation: 1\n",
    "\n",
    "\n",
    "\n",
    "Data set 2: 1, 2, 3, 4, 5, 100\n",
    "\n",
    "Mean: 25\n",
    "\n",
    "Median: 3\n",
    "\n",
    "Mode: 3\n",
    "\n",
    "Variance: 225\n",
    "\n",
    "Standard deviation: 15\n",
    "\n"
   ]
  },
  {
   "cell_type": "code",
   "execution_count": null,
   "id": "c5789c7f-a1ac-4c5c-8408-5bb712466cc7",
   "metadata": {},
   "outputs": [],
   "source": []
  },
  {
   "cell_type": "code",
   "execution_count": null,
   "id": "f6594550-3f2a-4491-9d1e-ff78d868d554",
   "metadata": {},
   "outputs": [],
   "source": []
  },
  {
   "cell_type": "code",
   "execution_count": null,
   "id": "f1d0bfd4-efdd-4bd5-a5cc-c66344468fd0",
   "metadata": {},
   "outputs": [],
   "source": []
  },
  {
   "cell_type": "code",
   "execution_count": null,
   "id": "294b9fc8-38db-4cb9-96f1-2ffd53c86f1b",
   "metadata": {},
   "outputs": [],
   "source": []
  },
  {
   "cell_type": "code",
   "execution_count": null,
   "id": "0a18c3a6-2ab4-469c-b97b-4d7424380386",
   "metadata": {},
   "outputs": [],
   "source": []
  },
  {
   "cell_type": "code",
   "execution_count": null,
   "id": "5f16d89b-0047-406d-97df-f9ef59b2fa73",
   "metadata": {},
   "outputs": [],
   "source": []
  },
  {
   "cell_type": "code",
   "execution_count": null,
   "id": "cfc3a2bc-bd11-44c0-9f25-f4750b6b0323",
   "metadata": {},
   "outputs": [],
   "source": []
  },
  {
   "cell_type": "code",
   "execution_count": null,
   "id": "847083f4-db60-4510-aa7e-45ca556faea5",
   "metadata": {},
   "outputs": [],
   "source": []
  },
  {
   "cell_type": "code",
   "execution_count": null,
   "id": "572c49ca-4feb-47c4-a1ac-7222cd111e5f",
   "metadata": {},
   "outputs": [],
   "source": []
  },
  {
   "cell_type": "code",
   "execution_count": null,
   "id": "da1ddd22-b4c9-442c-9a32-1efe4160866b",
   "metadata": {},
   "outputs": [],
   "source": []
  },
  {
   "cell_type": "code",
   "execution_count": null,
   "id": "296abb59-1bfe-4de1-9eae-89fa47006771",
   "metadata": {},
   "outputs": [],
   "source": []
  },
  {
   "cell_type": "code",
   "execution_count": null,
   "id": "6ef08957-d14c-45f7-aa87-827c586e9622",
   "metadata": {},
   "outputs": [],
   "source": []
  },
  {
   "cell_type": "code",
   "execution_count": null,
   "id": "65e29a09-0245-45b9-859b-da531166a887",
   "metadata": {},
   "outputs": [],
   "source": []
  },
  {
   "cell_type": "code",
   "execution_count": null,
   "id": "80730017-b0b4-4538-8c53-72d2805d280e",
   "metadata": {},
   "outputs": [],
   "source": []
  },
  {
   "cell_type": "code",
   "execution_count": null,
   "id": "7f7b23f5-77e0-47cd-82ce-fa353f083b7a",
   "metadata": {},
   "outputs": [],
   "source": []
  },
  {
   "cell_type": "code",
   "execution_count": null,
   "id": "4f97227f-5486-496d-aa82-2da798bacc0c",
   "metadata": {},
   "outputs": [],
   "source": []
  },
  {
   "cell_type": "code",
   "execution_count": null,
   "id": "9c205c97-c140-4d50-9e69-7282533fd4a4",
   "metadata": {},
   "outputs": [],
   "source": []
  },
  {
   "cell_type": "code",
   "execution_count": null,
   "id": "afd4e91b-9ebb-4149-ab4d-458abdb74c19",
   "metadata": {},
   "outputs": [],
   "source": []
  },
  {
   "cell_type": "code",
   "execution_count": null,
   "id": "12400d03-a20c-4184-98e9-b168287a94b5",
   "metadata": {},
   "outputs": [],
   "source": []
  },
  {
   "cell_type": "code",
   "execution_count": null,
   "id": "846d4f0b-e7c9-4cac-9108-78c81664d7cd",
   "metadata": {},
   "outputs": [],
   "source": []
  },
  {
   "cell_type": "code",
   "execution_count": null,
   "id": "d96518b8-2a2e-493d-bbc1-228b905fb06f",
   "metadata": {},
   "outputs": [],
   "source": []
  },
  {
   "cell_type": "code",
   "execution_count": null,
   "id": "3b2a66b6-56ae-4a24-9ca5-25dbaab3e07d",
   "metadata": {},
   "outputs": [],
   "source": []
  },
  {
   "cell_type": "code",
   "execution_count": null,
   "id": "ff6e1e56-b91e-4c2e-ab4e-0e768106b792",
   "metadata": {},
   "outputs": [],
   "source": []
  },
  {
   "cell_type": "code",
   "execution_count": null,
   "id": "e53aa65d-f6f9-4b43-b909-1ba6537da171",
   "metadata": {},
   "outputs": [],
   "source": []
  },
  {
   "cell_type": "code",
   "execution_count": null,
   "id": "b3e7c377-57f2-482d-a3a1-d22dadda6b29",
   "metadata": {},
   "outputs": [],
   "source": []
  },
  {
   "cell_type": "code",
   "execution_count": null,
   "id": "f8691808-fef3-46ad-be1e-3223ead4b929",
   "metadata": {},
   "outputs": [],
   "source": []
  },
  {
   "cell_type": "code",
   "execution_count": null,
   "id": "46e8acaf-c98e-41ce-8f89-739787134ed2",
   "metadata": {},
   "outputs": [],
   "source": []
  },
  {
   "cell_type": "code",
   "execution_count": null,
   "id": "b272daff-8d1d-4279-893d-50a5669d9bff",
   "metadata": {},
   "outputs": [],
   "source": []
  },
  {
   "cell_type": "code",
   "execution_count": null,
   "id": "0cf38e41-dfc6-4df0-9576-a2b2472b23d4",
   "metadata": {},
   "outputs": [],
   "source": []
  },
  {
   "cell_type": "code",
   "execution_count": null,
   "id": "3a9a9057-8ad5-49cc-b898-725b47e5d894",
   "metadata": {},
   "outputs": [],
   "source": []
  },
  {
   "cell_type": "code",
   "execution_count": null,
   "id": "f1c7b65d-1b84-4659-a8ab-fa8edbdb904b",
   "metadata": {},
   "outputs": [],
   "source": []
  },
  {
   "cell_type": "code",
   "execution_count": null,
   "id": "b702aff7-c831-403c-b95f-04e0b22f0567",
   "metadata": {},
   "outputs": [],
   "source": []
  },
  {
   "cell_type": "code",
   "execution_count": null,
   "id": "107bebf1-0824-4bf1-8ed8-61f0d81c2e64",
   "metadata": {},
   "outputs": [],
   "source": []
  },
  {
   "cell_type": "code",
   "execution_count": null,
   "id": "4f58c0a4-adc7-417c-8ef6-c6abf2fbde81",
   "metadata": {},
   "outputs": [],
   "source": []
  },
  {
   "cell_type": "code",
   "execution_count": null,
   "id": "7c3dc2f6-b17e-4894-8421-154f3389b2bc",
   "metadata": {},
   "outputs": [],
   "source": []
  },
  {
   "cell_type": "code",
   "execution_count": null,
   "id": "ac464d46-7dd4-4f9f-ab93-9d387983e463",
   "metadata": {},
   "outputs": [],
   "source": []
  },
  {
   "cell_type": "code",
   "execution_count": null,
   "id": "f297649d-f151-4aef-9b10-2e76dded8333",
   "metadata": {},
   "outputs": [],
   "source": []
  },
  {
   "cell_type": "code",
   "execution_count": null,
   "id": "2af9ff34-9454-4986-8ac9-7102718e1ad7",
   "metadata": {},
   "outputs": [],
   "source": []
  },
  {
   "cell_type": "code",
   "execution_count": null,
   "id": "d39a8653-9a12-4a19-ba4c-6ca8e112f7b1",
   "metadata": {},
   "outputs": [],
   "source": []
  },
  {
   "cell_type": "code",
   "execution_count": null,
   "id": "083f0b02-a7e2-4783-907f-584614fd7f55",
   "metadata": {},
   "outputs": [],
   "source": []
  },
  {
   "cell_type": "code",
   "execution_count": null,
   "id": "e681ae3e-c655-4580-8491-181917cd4f79",
   "metadata": {},
   "outputs": [],
   "source": []
  },
  {
   "cell_type": "code",
   "execution_count": null,
   "id": "962d790a-c8c9-4a6c-94b6-5c672add9317",
   "metadata": {},
   "outputs": [],
   "source": []
  },
  {
   "cell_type": "code",
   "execution_count": null,
   "id": "a978ee01-af28-427f-9cd4-84983bf0f951",
   "metadata": {},
   "outputs": [],
   "source": []
  },
  {
   "cell_type": "code",
   "execution_count": null,
   "id": "c4154115-91bd-48d5-ae80-dfbde4fef9a5",
   "metadata": {},
   "outputs": [],
   "source": []
  },
  {
   "cell_type": "code",
   "execution_count": null,
   "id": "ac28864e-f7f0-4664-9ef2-a773af5a508b",
   "metadata": {},
   "outputs": [],
   "source": []
  },
  {
   "cell_type": "code",
   "execution_count": null,
   "id": "8da6f4f7-5b87-44c2-9179-ebe4ed49c85d",
   "metadata": {},
   "outputs": [],
   "source": []
  },
  {
   "cell_type": "code",
   "execution_count": null,
   "id": "9dbe435d-6cda-4b5a-872b-35e2d3a03493",
   "metadata": {},
   "outputs": [],
   "source": []
  },
  {
   "cell_type": "code",
   "execution_count": null,
   "id": "414b1354-4e96-4932-8b8b-63b4a6b7a9f7",
   "metadata": {},
   "outputs": [],
   "source": []
  },
  {
   "cell_type": "code",
   "execution_count": null,
   "id": "7a69f7eb-add5-4edc-965b-828061d5be6b",
   "metadata": {},
   "outputs": [],
   "source": []
  },
  {
   "cell_type": "code",
   "execution_count": null,
   "id": "8fdbdc65-d017-4c38-9f15-f479d5abc1dd",
   "metadata": {},
   "outputs": [],
   "source": []
  },
  {
   "cell_type": "code",
   "execution_count": null,
   "id": "6ac79b27-71d8-490f-8868-e557a9210b57",
   "metadata": {},
   "outputs": [],
   "source": []
  },
  {
   "cell_type": "code",
   "execution_count": null,
   "id": "7fcc9365-6b89-4deb-a6e2-9cf1c0f68867",
   "metadata": {},
   "outputs": [],
   "source": []
  },
  {
   "cell_type": "code",
   "execution_count": null,
   "id": "b7e0a0d6-5b33-4234-8c93-26f85eb7d47b",
   "metadata": {},
   "outputs": [],
   "source": []
  },
  {
   "cell_type": "code",
   "execution_count": null,
   "id": "310573f4-27d1-4257-a1be-a76d545d57da",
   "metadata": {},
   "outputs": [],
   "source": []
  },
  {
   "cell_type": "code",
   "execution_count": null,
   "id": "d49ef228-0e6f-4152-9b5b-4606d1b54e31",
   "metadata": {},
   "outputs": [],
   "source": []
  },
  {
   "cell_type": "code",
   "execution_count": null,
   "id": "da728d69-7dca-4fce-b84d-11278ce17552",
   "metadata": {},
   "outputs": [],
   "source": []
  },
  {
   "cell_type": "code",
   "execution_count": null,
   "id": "7b92a218-1126-4742-b357-cff25d6a0bdd",
   "metadata": {},
   "outputs": [],
   "source": []
  },
  {
   "cell_type": "code",
   "execution_count": null,
   "id": "ffcb5552-be2f-4213-b8a5-b6352cc675e3",
   "metadata": {},
   "outputs": [],
   "source": []
  },
  {
   "cell_type": "code",
   "execution_count": null,
   "id": "f3d2e098-7644-45e5-b091-9101bcf97c6d",
   "metadata": {},
   "outputs": [],
   "source": []
  },
  {
   "cell_type": "code",
   "execution_count": null,
   "id": "1735aac0-69c3-482a-93a7-dbba972a6b7a",
   "metadata": {},
   "outputs": [],
   "source": []
  },
  {
   "cell_type": "code",
   "execution_count": null,
   "id": "73cf4291-0056-4b13-8bf0-248a0409a7ae",
   "metadata": {},
   "outputs": [],
   "source": []
  },
  {
   "cell_type": "code",
   "execution_count": null,
   "id": "abc76792-3f4c-45fa-b7e7-ebb21881561e",
   "metadata": {},
   "outputs": [],
   "source": []
  },
  {
   "cell_type": "code",
   "execution_count": null,
   "id": "04dfece4-b62f-4c21-9dc9-ac40f4963cbd",
   "metadata": {},
   "outputs": [],
   "source": []
  },
  {
   "cell_type": "code",
   "execution_count": null,
   "id": "e1e7551f-fd93-4e98-9283-89b7bfb834ab",
   "metadata": {},
   "outputs": [],
   "source": []
  },
  {
   "cell_type": "code",
   "execution_count": null,
   "id": "7517c7f0-ab39-476f-8d7d-8b8cc5e32e52",
   "metadata": {},
   "outputs": [],
   "source": []
  },
  {
   "cell_type": "code",
   "execution_count": null,
   "id": "c1614522-ce3d-468e-a391-be7215b81267",
   "metadata": {},
   "outputs": [],
   "source": []
  },
  {
   "cell_type": "code",
   "execution_count": null,
   "id": "bfd20b7d-b8e4-4780-8405-4f355a0a27ee",
   "metadata": {},
   "outputs": [],
   "source": []
  },
  {
   "cell_type": "code",
   "execution_count": null,
   "id": "f08b7941-233a-4072-9a46-51950aaa13ed",
   "metadata": {},
   "outputs": [],
   "source": []
  },
  {
   "cell_type": "code",
   "execution_count": null,
   "id": "b0cdd7c9-7309-411b-95c6-3516ce62fa91",
   "metadata": {},
   "outputs": [],
   "source": []
  },
  {
   "cell_type": "code",
   "execution_count": null,
   "id": "9bff4277-f1b8-48ab-b79b-495fe425f5e4",
   "metadata": {},
   "outputs": [],
   "source": []
  },
  {
   "cell_type": "code",
   "execution_count": null,
   "id": "d8b2d39a-f859-4719-8564-17d64d102850",
   "metadata": {},
   "outputs": [],
   "source": []
  },
  {
   "cell_type": "code",
   "execution_count": null,
   "id": "8b7fc883-0599-47ef-9220-d0e1becff40a",
   "metadata": {},
   "outputs": [],
   "source": []
  },
  {
   "cell_type": "code",
   "execution_count": null,
   "id": "c6c4fad0-27eb-450a-ba34-2dc2e505dde2",
   "metadata": {},
   "outputs": [],
   "source": []
  },
  {
   "cell_type": "code",
   "execution_count": null,
   "id": "adead5cf-dc93-4d3a-94e5-5e7f0048890e",
   "metadata": {},
   "outputs": [],
   "source": []
  },
  {
   "cell_type": "code",
   "execution_count": null,
   "id": "8d4b20aa-8cf4-4500-a6c8-a897306a1d05",
   "metadata": {},
   "outputs": [],
   "source": []
  },
  {
   "cell_type": "code",
   "execution_count": null,
   "id": "33cd6b28-f1e4-453f-b492-6c673d2bfbad",
   "metadata": {},
   "outputs": [],
   "source": []
  },
  {
   "cell_type": "code",
   "execution_count": null,
   "id": "d85d8eaf-f420-4cb0-b431-267dd9e22859",
   "metadata": {},
   "outputs": [],
   "source": []
  },
  {
   "cell_type": "code",
   "execution_count": null,
   "id": "81bec749-5b06-48ee-a646-7ecaf18aff9a",
   "metadata": {},
   "outputs": [],
   "source": []
  },
  {
   "cell_type": "code",
   "execution_count": null,
   "id": "e8e9c231-870a-40c4-adf2-0693c90f9322",
   "metadata": {},
   "outputs": [],
   "source": []
  },
  {
   "cell_type": "code",
   "execution_count": null,
   "id": "28676397-9a41-47ce-a26d-895a12e32d1c",
   "metadata": {},
   "outputs": [],
   "source": []
  },
  {
   "cell_type": "code",
   "execution_count": null,
   "id": "d08304e4-7475-449a-a560-7faf0c117589",
   "metadata": {},
   "outputs": [],
   "source": []
  },
  {
   "cell_type": "code",
   "execution_count": null,
   "id": "3cef6c89-f597-4a9b-8fb2-8b779b966c18",
   "metadata": {},
   "outputs": [],
   "source": []
  },
  {
   "cell_type": "code",
   "execution_count": null,
   "id": "5484b557-032d-4295-9a0d-fe3a83dd297e",
   "metadata": {},
   "outputs": [],
   "source": []
  },
  {
   "cell_type": "code",
   "execution_count": null,
   "id": "456fdd42-86e3-4f54-a252-36c7078dbdb5",
   "metadata": {},
   "outputs": [],
   "source": []
  },
  {
   "cell_type": "code",
   "execution_count": null,
   "id": "fa5fa35f-73c1-4978-8128-53361cedeeaf",
   "metadata": {},
   "outputs": [],
   "source": []
  },
  {
   "cell_type": "code",
   "execution_count": null,
   "id": "aa94013e-b090-4115-8bca-b0df566f20b6",
   "metadata": {},
   "outputs": [],
   "source": []
  },
  {
   "cell_type": "code",
   "execution_count": null,
   "id": "98b307ba-1f32-40a8-8f27-9d30dbaf40ad",
   "metadata": {},
   "outputs": [],
   "source": []
  },
  {
   "cell_type": "code",
   "execution_count": null,
   "id": "f7d1ffe5-3351-4f69-a0de-570feaff9d3f",
   "metadata": {},
   "outputs": [],
   "source": []
  },
  {
   "cell_type": "code",
   "execution_count": null,
   "id": "45a3c6ed-7cd7-49b3-9eff-3e0b5c35c883",
   "metadata": {},
   "outputs": [],
   "source": []
  },
  {
   "cell_type": "code",
   "execution_count": null,
   "id": "9aa9171a-e9ed-466f-86fd-000ad5ec09f6",
   "metadata": {},
   "outputs": [],
   "source": []
  },
  {
   "cell_type": "code",
   "execution_count": null,
   "id": "a8826fc4-0a5d-48e5-b7c5-8ab93f7eb1b9",
   "metadata": {},
   "outputs": [],
   "source": []
  },
  {
   "cell_type": "code",
   "execution_count": null,
   "id": "04349b43-0a92-401d-a2b6-1f1f90d4239c",
   "metadata": {},
   "outputs": [],
   "source": []
  },
  {
   "cell_type": "code",
   "execution_count": null,
   "id": "7706cfa2-4951-4d68-a885-7e0dee8e6806",
   "metadata": {},
   "outputs": [],
   "source": []
  },
  {
   "cell_type": "code",
   "execution_count": null,
   "id": "fb8a3134-5353-43d5-94e8-8288da5bfeff",
   "metadata": {},
   "outputs": [],
   "source": []
  },
  {
   "cell_type": "code",
   "execution_count": null,
   "id": "757ee5ea-e7df-47e0-8bc1-bcf9747f60ea",
   "metadata": {},
   "outputs": [],
   "source": []
  },
  {
   "cell_type": "code",
   "execution_count": null,
   "id": "5786a0f7-669f-494d-8616-1d742d7bf88c",
   "metadata": {},
   "outputs": [],
   "source": []
  },
  {
   "cell_type": "code",
   "execution_count": null,
   "id": "fcd2009a-0891-421a-b12f-ffe424be71ba",
   "metadata": {},
   "outputs": [],
   "source": []
  },
  {
   "cell_type": "code",
   "execution_count": null,
   "id": "66c12c29-0abe-4623-b31b-fa36b6e2aa92",
   "metadata": {},
   "outputs": [],
   "source": []
  },
  {
   "cell_type": "code",
   "execution_count": null,
   "id": "0f8561ae-8c1f-4ecd-8717-87fab5da996c",
   "metadata": {},
   "outputs": [],
   "source": []
  }
 ],
 "metadata": {
  "kernelspec": {
   "display_name": "Python 3 (ipykernel)",
   "language": "python",
   "name": "python3"
  },
  "language_info": {
   "codemirror_mode": {
    "name": "ipython",
    "version": 3
   },
   "file_extension": ".py",
   "mimetype": "text/x-python",
   "name": "python",
   "nbconvert_exporter": "python",
   "pygments_lexer": "ipython3",
   "version": "3.10.8"
  }
 },
 "nbformat": 4,
 "nbformat_minor": 5
}
