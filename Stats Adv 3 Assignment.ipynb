{
 "cells": [
  {
   "cell_type": "markdown",
   "id": "10a492b0-81b6-4376-a54a-c8942458e596",
   "metadata": {},
   "source": [
    "#1\n",
    "\n",
    "Estimation statistics is a data analysis framework that uses a combination of effect sizes, confidence intervals, precision planning, and meta-analysis to plan experiments, analyze data and interpret results. It complements hypothesis testing approaches such as null hypothesis significance testing (NHST), by going beyond the question is an effect present or not, and provides information about how large an effect is. Estimation statistics is sometimes referred to as the new statistics.\n",
    "\n",
    "A point estimate is a single value that is used to estimate the value of a population parameter. For example, if you are interested in estimating the average height of all adult males in the United States, you could take a sample of adult males and calculate the average height of the sample. This average height would be your point estimate of the population mean height.\n",
    "\n",
    "An interval estimate is a range of values that is likely to contain the true value of a population parameter. For example, you could use the sample mean and the standard error of the mean to calculate a confidence interval for the population mean height. This confidence interval would tell you that there is a certain probability that the true population mean height lies within the specified range."
   ]
  },
  {
   "cell_type": "markdown",
   "id": "01ce248f-61e4-4375-a74c-ca086bc15ab8",
   "metadata": {},
   "source": [
    "#2"
   ]
  },
  {
   "cell_type": "code",
   "execution_count": 17,
   "id": "a8c38834-f910-4126-b35c-c82b1d1e60d1",
   "metadata": {},
   "outputs": [
    {
     "name": "stdout",
     "output_type": "stream",
     "text": [
      "10.2\n"
     ]
    }
   ],
   "source": [
    "\n",
    "\n",
    "import numpy as np\n",
    "\n",
    "sample_mean = 10\n",
    "sample_std_dev = 2\n",
    "sample_size = 100\n",
    "\n",
    "estimated_population_mean = estimate_population_mean(sample_mean, sample_std_dev, sample_size)\n",
    "\n",
    "print(estimated_population_mean)\n"
   ]
  },
  {
   "cell_type": "markdown",
   "id": "f45ab4b6-b2a2-4ffd-af2a-1b9d550d1c10",
   "metadata": {},
   "source": [
    "#3\n",
    "\n",
    "Hypothesis testing is a statistical method used to determine whether there is sufficient evidence to support a claim about a population. It is a way of making inferences about populations from samples.\n",
    "\n",
    "It is used in ---\n",
    "\n",
    "Scientific research\n",
    "\n",
    "Business\n",
    "\n",
    "Government\n",
    "\n",
    "\n",
    "Its Importances--\n",
    "\n",
    "\n",
    "It allows us to make inferences about populations from samples\n",
    "\n",
    "It helps us to avoid making decisions based on intuition or gut feeling\n",
    "\n",
    "It allows us to quantify the uncertainty of our inferences"
   ]
  },
  {
   "cell_type": "markdown",
   "id": "c2c99dbd-d89b-40ad-b415-83b5fff5e021",
   "metadata": {},
   "source": [
    "#4\n",
    "\n",
    "Null hypothesis----The average weight of male college students is greater than the average weight of female college students.\n",
    "\n",
    "Alternate hypothesis----The average weight of male college students is equal to the average weight of female college students."
   ]
  },
  {
   "cell_type": "code",
   "execution_count": 18,
   "id": "b6fb9b07-5aa7-449f-9d7d-ed13bb89ad6b",
   "metadata": {},
   "outputs": [],
   "source": [
    "#5"
   ]
  },
  {
   "cell_type": "markdown",
   "id": "6f7a6912-1a79-4c86-bf41-d095721ed37e",
   "metadata": {},
   "source": [
    "import numpy as np\n",
    "from scipy.stats import ttest_ind\n",
    "\n",
    "\n",
    "sample_1 = np.array([10, 12, 14, 16, 18])\n",
    "sample_2 = np.array([8, 10, 12, 14, 16])\n",
    "\n",
    "\n",
    "mean_1 = np.mean(sample_1)\n",
    "mean_2 = np.mean(sample_2)\n",
    "\n",
    "\n",
    "t_statistic = (mean_1 - mean_2) / np.sqrt((np.std(sample_1) ** 2) / len(sample_1) + (np.std(sample_2) ** 2) / len(sample_2))\n",
    "\n",
    "\n",
    "p_value = ttest_ind(sample_1, sample_2).pvalue\n",
    "\n",
    "\n",
    "print(\"t-statistic:\", t_statistic)\n",
    "print(\"p-value:\", p_value)"
   ]
  },
  {
   "cell_type": "markdown",
   "id": "002f0500-420d-4cd3-be03-92b150efc8ac",
   "metadata": {},
   "source": [
    "#6\n",
    "\n",
    "Null hypothesis & Alternate hypothesis is mutually connected with each other.Null hypothesis is the statement of the true value or true facts whereas Alternate  hypothesis is just opposite to Null hypothesis it denied whatever Null Statement states\n",
    "\n",
    "Example---\n",
    "\n",
    "Null hypothesis--Average height of student is equal to 190\n",
    "\n",
    "Alternate hypothesis--  Average height of student is not equal to 190"
   ]
  },
  {
   "cell_type": "markdown",
   "id": "32ac97af-cf6e-48c3-bf16-43529630a8e3",
   "metadata": {},
   "source": [
    "#7\n",
    "\n",
    "Steps are----\n",
    "\n",
    "1.State the null hypothesis and the alternative hypothesis\n",
    "\n",
    "2.Choose a significance level\n",
    "\n",
    "3.Calculate the test statistic\n",
    "\n",
    "4.Determine the p-value\n",
    "\n",
    "5.Make a decision"
   ]
  },
  {
   "cell_type": "markdown",
   "id": "77cf2397-bebf-4450-9492-8aa7bf5968e2",
   "metadata": {},
   "source": [
    "#8\n",
    "\n",
    "The p-value is a statistical measure that is used to determine whether the results of a hypothesis test are statistically significant. It is the probability of getting the results that were observed, or more extreme results, if the null hypothesis is true.\n",
    "\n",
    "The p-value is used to make a decision about whether to reject the null hypothesis. If the p-value is less than the significance level, then the null hypothesis is rejected. This means that there is enough evidence to support the alternative hypothesis. If the p-value is greater than the significance level, then the null hypothesis is not rejected. This means that there is not enough evidence to support the alternative hypothesis.\n",
    "\n",
    "The significance level is a pre-determined probability that is used to determine whether the p-value is statistically significant. The most common significance level is 0.05, which means that there is a 5% chance of rejecting the null hypothesis when it is true."
   ]
  },
  {
   "cell_type": "code",
   "execution_count": 25,
   "id": "e3699913-66b4-46a0-bddc-18b5f00d34c1",
   "metadata": {},
   "outputs": [
    {
     "data": {
      "image/png": "[encoded data removed]",
      "text/plain": [
       "<Figure size 640x480 with 1 Axes>"
      ]
     },
     "metadata": {},
     "output_type": "display_data"
    }
   ],
   "source": [
    "#9\n",
    "\n",
    "import numpy as np\n",
    "import matplotlib.pyplot as plt\n",
    "\n",
    "\n",
    "df = 10\n",
    "\n",
    "t_distribution = np.random.standard_t(df)\n",
    "\n",
    "\n",
    "plt.plot(t_distribution)\n",
    "plt.title(\"Student's t-distribution with df = 10\")\n",
    "plt.show()\n"
   ]
  },
  {
   "cell_type": "code",
   "execution_count": 27,
   "id": "599e4fa9-256d-4475-acc6-1726e9d1ffed",
   "metadata": {},
   "outputs": [
    {
     "name": "stdout",
     "output_type": "stream",
     "text": [
      "t-statistic: -0.5392499736718236\n",
      "p-value: 0.596322200536066\n"
     ]
    }
   ],
   "source": [
    "#10\n",
    "\n",
    "import numpy as np\n",
    "from scipy.stats import ttest_ind\n",
    "\n",
    "\n",
    "sample_1 = np.random.randint(0, 100, 10)\n",
    "sample_2 = np.random.randint(0, 100, 10)\n",
    "\n",
    "\n",
    "t_statistic, p_value = ttest_ind(sample_1, sample_2, equal_var=True)\n",
    "\n",
    "\n",
    "print(\"t-statistic:\", t_statistic)\n",
    "print(\"p-value:\", p_value)\n"
   ]
  },
  {
   "cell_type": "markdown",
   "id": "dbb67913-2320-4625-a957-e9637f64af8b",
   "metadata": {},
   "source": [
    "#11\n",
    "\n",
    "Student's t-distribution is a probability distribution that is used in statistical inference. It is a bell-shaped curve, like the normal distribution, but it has fatter tails. This means that the t-distribution is more likely to produce extreme values than the normal distribution.\n",
    "\n",
    "It is used in ---\n",
    "\n",
    "Independent t-tests: These tests are used to compare the means of two independent samples.\n",
    "\n",
    "Paired t-tests: These tests are used to compare the means of two dependent samples.\n",
    "\n",
    "One-sample t-tests: These tests are used to compare the mean of a sample to a known population mean.\n",
    "\n",
    "some of the situations where you might use the t-distribution:\n",
    "\n",
    " have a small sample size.\n",
    "\n",
    " do not know the population standard deviation.\n",
    "\n",
    " want to make inferences about the mean of a population."
   ]
  },
  {
   "cell_type": "markdown",
   "id": "0a30a161-9a01-4ede-97b6-a27547119962",
   "metadata": {},
   "source": [
    "#12\n",
    "\n",
    "The t-statistic is a statistical test that is used to compare the means of two independent samples. It is a measure of how far apart the two sample means are, relative to the standard error of the difference between the means\n",
    "\n",
    "The t-statistic is calculated using the following formula:\n",
    "\n",
    "t = (x̄1 - x̄2) / ŝ\n",
    "where:\n",
    "\n",
    "x̄1 is the mean of the first sample\n",
    "\n",
    "x̄2 is the mean of the second sample\n",
    "\n",
    "ŝ is the standard error of the difference between the means\n",
    "\n",
    "The standard error of the difference between the means is calculated using the following formula:\n",
    "\n",
    "ŝ = √(s₁²/n₁ + s₂²/n₂)\n",
    "\n",
    "where:\n",
    "\n",
    "\n",
    "s₁ is the standard deviation of the first sample\n",
    "\n",
    "s₂ is the standard deviation of the second sample\n",
    "\n",
    "n₁ is the size of the first sample\n",
    "\n",
    "n₂ is the size of the second sample\n"
   ]
  },
  {
   "cell_type": "code",
   "execution_count": 29,
   "id": "844f73de-9e5a-4a07-b9ab-94467975468b",
   "metadata": {},
   "outputs": [
    {
     "name": "stdout",
     "output_type": "stream",
     "text": [
      "Confidence interval: (399.52123827553953, 600.4787617244605)\n"
     ]
    }
   ],
   "source": [
    "#13\n",
    "\n",
    "import numpy as np\n",
    "from scipy.stats import t\n",
    "\n",
    "sample_mean = 500\n",
    "sample_std_dev = 50\n",
    "\n",
    "t_statistic = sample_mean / sample_std_dev * np.sqrt(50 / 50)\n",
    "\n",
    "critical_value = t.ppf(0.975, 49)\n",
    "\n",
    "\n",
    "confidence_interval = (sample_mean - critical_value * sample_std_dev, sample_mean + critical_value * sample_std_dev)\n",
    "\n",
    "print(\"Confidence interval:\", confidence_interval)"
   ]
  },
  {
   "cell_type": "code",
   "execution_count": 37,
   "id": "989f39a3-46ea-4d9b-a3c8-011421b1d06e",
   "metadata": {},
   "outputs": [
    {
     "name": "stdout",
     "output_type": "stream",
     "text": [
      "Fail to reject the null hypothesis\n"
     ]
    },
    {
     "name": "stderr",
     "output_type": "stream",
     "text": [
      "/tmp/ipykernel_1138/3121206536.py:15: RuntimeWarning: Precision loss occurred in moment calculation due to catastrophic cancellation. This occurs when the data are nearly identical. Results may be unreliable.\n",
      "  t_statistic, p_value = ttest_1samp(sample_mean, null_hypothesis)\n"
     ]
    }
   ],
   "source": [
    "#14\n",
    "import numpy as np\n",
    "from scipy.stats import ttest_1samp\n",
    "\n",
    "\n",
    "null_hypothesis = 10\n",
    "alternative_hypothesis = 'less'\n",
    "\n",
    "\n",
    "sample_mean = 8\n",
    "sample_std_dev = 3\n",
    "sample_size = 100\n",
    "\n",
    "\n",
    "t_statistic, p_value = ttest_1samp(sample_mean, null_hypothesis)\n",
    "\n",
    "\n",
    "if p_value < 0.05:\n",
    "    print(\"Reject the null hypothesis\")\n",
    "else:\n",
    "    print(\"Fail to reject the null hypothesis\")"
   ]
  },
  {
   "cell_type": "code",
   "execution_count": 40,
   "id": "387387dc-3062-40fc-8b81-9e91b5802047",
   "metadata": {},
   "outputs": [
    {
     "name": "stdout",
     "output_type": "stream",
     "text": [
      "Fail to reject the null hypothesis\n"
     ]
    },
    {
     "name": "stderr",
     "output_type": "stream",
     "text": [
      "/tmp/ipykernel_1138/627405464.py:16: RuntimeWarning: Precision loss occurred in moment calculation due to catastrophic cancellation. This occurs when the data are nearly identical. Results may be unreliable.\n",
      "  t_statistic, p_value = ttest_1samp(sample_mean, null_hypothesis)\n"
     ]
    }
   ],
   "source": [
    "#15\n",
    "\n",
    "import numpy as np\n",
    "from scipy.stats import ttest_1samp\n",
    "\n",
    "\n",
    "null_hypothesis = 5\n",
    "alternative_hypothesis = 'less'\n",
    "\n",
    "\n",
    "sample_mean = 4.8\n",
    "sample_std_dev = 0.5\n",
    "sample_size = 25\n",
    "\n",
    "\n",
    "t_statistic, p_value = ttest_1samp(sample_mean, null_hypothesis)\n",
    "\n",
    "\n",
    "if p_value < 0.01:\n",
    "    print(\"Reject the null hypothesis\")\n",
    "else:\n",
    "    print(\"Fail to reject the null hypothesis\")\n"
   ]
  },
  {
   "cell_type": "code",
   "execution_count": 42,
   "id": "b13d70e1-bc4b-4802-b471-e44badf0e07a",
   "metadata": {},
   "outputs": [
    {
     "name": "stdout",
     "output_type": "stream",
     "text": [
      "Fail to reject the null hypothesis\n"
     ]
    }
   ],
   "source": [
    "#16\n",
    "\n",
    "import numpy as np\n",
    "from scipy.stats import ttest_ind\n",
    "\n",
    "\n",
    "null_hypothesis = 'equal'\n",
    "alternative_hypothesis = 'not equal'\n",
    "\n",
    "\n",
    "sample_mean_1 = 80\n",
    "sample_std_dev_1 = 10\n",
    "sample_size_1 = 30\n",
    "sample_mean_2 = 75\n",
    "sample_std_dev_2 = 8\n",
    "sample_size_2 = 40\n",
    "\n",
    "\n",
    "t_statistic, p_value = ttest_ind(\n",
    "    (sample_mean_1, sample_std_dev_1, sample_size_1),\n",
    "    (sample_mean_2, sample_std_dev_2, sample_size_2),\n",
    ")\n",
    "\n",
    "\n",
    "if p_value < 0.01:\n",
    "    print(\"Reject the null hypothesis\")\n",
    "else:\n",
    "    print(\"Fail to reject the null hypothesis\")"
   ]
  },
  {
   "cell_type": "code",
   "execution_count": 45,
   "id": "a07250d1-23eb-4d9c-bcfb-3cfd7df12e2a",
   "metadata": {},
   "outputs": [
    {
     "name": "stdout",
     "output_type": "stream",
     "text": [
      "Confidence interval: (-0.019927960447325255, 8.019927960447326)\n"
     ]
    }
   ],
   "source": [
    "#17\n",
    "\n",
    "import numpy as np\n",
    "from scipy.stats import t\n",
    "\n",
    "\n",
    "sample_mean = 4\n",
    "sample_std_dev = 1.5\n",
    "sample_size = 50\n",
    "\n",
    "\n",
    "t_statistic = sample_mean / sample_std_dev * np.sqrt(50 / 50)\n",
    "\n",
    "\n",
    "critical_value = t.ppf(0.995, 49)\n",
    "\n",
    "\n",
    "confidence_interval = (sample_mean - critical_value * sample_std_dev, sample_mean + critical_value * sample_std_dev)\n",
    "\n",
    "print(\"Confidence interval:\", confidence_interval)"
   ]
  },
  {
   "cell_type": "code",
   "execution_count": null,
   "id": "166e499c-d348-4778-9fd5-b15422e67d23",
   "metadata": {},
   "outputs": [],
   "source": []
  },
  {
   "cell_type": "code",
   "execution_count": null,
   "id": "21a1455e-6384-4fec-addb-5b77c61af82f",
   "metadata": {},
   "outputs": [],
   "source": []
  },
  {
   "cell_type": "code",
   "execution_count": null,
   "id": "a1d8a555-d70b-4947-8553-d451205138fd",
   "metadata": {},
   "outputs": [],
   "source": []
  },
  {
   "cell_type": "code",
   "execution_count": null,
   "id": "56979838-c377-48f9-8b37-736105723e2d",
   "metadata": {},
   "outputs": [],
   "source": []
  },
  {
   "cell_type": "code",
   "execution_count": null,
   "id": "34c78593-58be-4deb-bef1-75524e018224",
   "metadata": {},
   "outputs": [],
   "source": []
  },
  {
   "cell_type": "code",
   "execution_count": null,
   "id": "55280dbc-a62e-43cf-b5f0-ffb5752488a0",
   "metadata": {},
   "outputs": [],
   "source": []
  },
  {
   "cell_type": "code",
   "execution_count": null,
   "id": "50460a68-3489-4e55-af7a-01a34d78d4da",
   "metadata": {},
   "outputs": [],
   "source": []
  }
 ],
 "metadata": {
  "kernelspec": {
   "display_name": "Python 3 (ipykernel)",
   "language": "python",
   "name": "python3"
  },
  "language_info": {
   "codemirror_mode": {
    "name": "ipython",
    "version": 3
   },
   "file_extension": ".py",
   "mimetype": "text/x-python",
   "name": "python",
   "nbconvert_exporter": "python",
   "pygments_lexer": "ipython3",
   "version": "3.10.8"
  }
 },
 "nbformat": 4,
 "nbformat_minor": 5
}
