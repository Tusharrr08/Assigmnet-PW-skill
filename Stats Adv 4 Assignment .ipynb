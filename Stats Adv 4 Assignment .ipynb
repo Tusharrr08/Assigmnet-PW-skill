{
 "cells": [
  {
   "cell_type": "markdown",
   "id": "c938dded-166c-4b55-807d-b0f8207d082c",
   "metadata": {},
   "source": [
    "#1\n",
    "\n",
    "Z-test: If you know the population variance and you want to test the difference between two population means, you would use a z-test. For example, you could use a z-test to test whether the average height of men is different from the average height of women.\n",
    "\n",
    "T-test: If you don't know the population variance and you want to test the difference between two population means, you would use a t-test. For example, you could use a t-test to test whether the average weight of newborn babies in a hospital is different from the average weight of newborn babies in another hospital."
   ]
  },
  {
   "cell_type": "markdown",
   "id": "8b4e3514-5b4e-44e1-8e65-57f9fd778c91",
   "metadata": {},
   "source": [
    "#2\n",
    "\n",
    "One-tailed tests are used when the alternative hypothesis specifies a direction. For example, you might want to test whether the average height of men is greater than the average height of women. In this case, you would use a one-tailed test with the alternative hypothesis that the mean of the men's population is greater than the mean of the women's population.\n",
    "\n",
    "Two-tailed tests are used when the alternative hypothesis does not specify a direction. For example, you might want to test whether the average height of men is different from the average height of women. In this case, you would use a two-tailed test with the alternative hypothesis that the means of the two populations are not equal.\n",
    "\n"
   ]
  },
  {
   "cell_type": "markdown",
   "id": "11f24428-fdb8-4e7e-953a-83e7f60d1e2a",
   "metadata": {},
   "source": [
    "#3\n",
    "\n",
    "Type 1 error is the type of error when null hypothesis is reject but in reality it is True \n",
    "\n",
    "Ex---A pharmaceutical company conducts a clinical trial to test the effectiveness of a new drug. The null hypothesis is that the drug is no more effective than a placebo. The company rejects the null hypothesis and concludes that the drug is effective. However, the drug is actually no more effective than a placebo. This is a Type I error.\n",
    "\n",
    "Type 2 error is the type of error when null hypothesis is accepted but in reality it is False\n",
    "\n",
    "Ex---A medical researcher conducts a study to test whether a new treatment is effective in reducing the risk of heart disease. The null hypothesis is that the treatment is no more effective than a placebo. The researcher does not reject the null hypothesis and concludes that the treatment is not effective. However, the treatment is actually effective in reducing the risk of heart disease. This is a Type II error."
   ]
  },
  {
   "cell_type": "markdown",
   "id": "b80eaca3-6d48-49f5-9ca0-10535a3d1506",
   "metadata": {},
   "source": [
    "#4\n",
    "\n",
    "Bayes'theorem is a mathematical formula that is used to update our beliefs about the probability of an event based on new information. The theorem is named after Thomas Bayes, an English mathematician who first published it in 1763.\n",
    "\n",
    "Ex---The probability of a patient having cancer given that they have a positive test result. The prior probability of the patient having cancer is 1%, and the probability of a positive test result for a patient who does not have cancer is 10%. The probability of a positive test result for a patient who does have cancer is 90%.\n",
    "\n",
    "We can use Bayes' theorem to calculate the probability of the patient having cancer given that they have a positive test result:\n",
    " \n",
    "P(Cancer|Positive Test) = (P(Positive Test|Cancer) * P(Cancer)) / P(Positive Test)\n",
    "= (0.9 * 0.01) / (0.9 * 0.01 + 0.1 * 0.1)\n",
    "= 9%"
   ]
  },
  {
   "cell_type": "markdown",
   "id": "a598d1ec-41bf-477d-84dd-5a1fa9f903e9",
   "metadata": {},
   "source": [
    "#5\n",
    "\n",
    "A confidence interval is a range of values that is likely to include the true value of a population parameter. The confidence interval is calculated from a sample of data, and it is expressed as a range of values with a certain probability, or confidence level.\n",
    "\n",
    "Ex--- 95% confidence interval means that there is a 95% probability that the true value of the population parameter is within the range of values.\n",
    "\n",
    "The confidence interval is calculated using the following formula:\n",
    "\n",
    "confidence interval = sample mean ± margin of error"
   ]
  },
  {
   "cell_type": "markdown",
   "id": "8376d8e4-74d5-4a5b-948b-0df42eea8aef",
   "metadata": {},
   "source": [
    "#6\n",
    "\n",
    "Suppose the prior probability of a patient having cancer is 1%. The probability of a positive test result for a patient who does not have cancer is 10%. The probability of a positive test result for a patient who does have cancer is 90%.\n",
    "\n",
    "A patient has a positive test result. What is the probability that the patient has cancer?\n",
    "\n",
    "Solution:\n",
    "\n",
    "We can use Bayes' theorem to calculate the probability of the patient having cancer given that they have a positive test result:\n",
    "\n",
    "P(Cancer|Positive Test) = (P(Positive Test|Cancer) * P(Cancer)) / P(Positive Test)\n",
    "= (0.9 * 0.01) / (0.9 * 0.01 + 0.1 * 0.1)\n",
    "= 9%"
   ]
  },
  {
   "cell_type": "markdown",
   "id": "6d5b1dfb-0d23-488c-ae3d-ca499e4f8b90",
   "metadata": {},
   "source": [
    "#7\n",
    "\n",
    "The 95% confidence interval for a sample of data with a mean of 50 and a standard deviation of 5 is calculated as follows:\n",
    "\n",
    "confidence interval = sample mean ± 1.96 * standard deviation\n",
    "= 50 ± 1.96 * 5\n",
    "= 43.04 to 56.96\n",
    "\n",
    "Therefore, the 95% confidence interval for the true mean of the population is 43.04 to 56.96. This means that there is a 95% probability that the true mean of the population is within this range."
   ]
  },
  {
   "cell_type": "markdown",
   "id": "727c17c0-6ef2-4d6b-b9b0-65cabf53c401",
   "metadata": {},
   "source": [
    "#8\n",
    "\n",
    "The margin of error in a confidence interval is the amount of uncertainty that is associated with the estimate. It is the range of values that is likely to include the true value of the population parameter. The margin of error is calculated based on the standard deviation of the sample data and the confidence level\n",
    "\n",
    "For example, a 95% confidence interval with a margin of error of 2 means that there is a 95% probability that the true value of the population parameter is within 2 units of the sample estimate.\n",
    "\n",
    "In other words, a larger sample size will result in a smaller margin of error, which means that the estimate is more precise."
   ]
  },
  {
   "cell_type": "markdown",
   "id": "a8379817-90b2-47aa-970f-cf4e5e68e9d9",
   "metadata": {},
   "source": [
    "#9\n",
    "\n",
    "The z-score for a data point with a value of 75, a population mean of 70, and a population standard deviation of 5 is calculated as follows:\n",
    "\n",
    "z = (data point - mean) / standard deviation\n",
    "\n",
    "z = (75 - 70) / 5\n",
    "\n",
    "z = 1\n",
    "\n",
    "Therefore, the z-score for the data point is 1. This means that the data point is 1 standard deviation above the mean.\n",
    "\n",
    "we can say that the data point is 1 standard deviation above the average value for the population. This means that the data point is higher than 68% of the data points in the population."
   ]
  },
  {
   "cell_type": "markdown",
   "id": "208ec793-72a6-45ad-b15a-894306672ccb",
   "metadata": {},
   "source": [
    "#10\n",
    "\n",
    "Null hypothesis is that the drug is not significantly effective, meaning that the average weight loss is equal to 0 pounds\n",
    "\n",
    "Alternative hypothesis is that the drug is significantly effective, meaning that the average weight loss is greater than 0 pounds.\n",
    "\n",
    "The significance level is the probability of making a Type I error, which is rejecting the null hypothesis when it is actually true. We set the significance level at 0.05, which means that we are willing to accept a 5% risk of making a Type I error.\n",
    "\n",
    "t = (sample mean - hypothesized mean) / standard error of the mean\n",
    "\n",
    "t = (6 - 0) / 2.5\n",
    "\n",
    "t = 2.4\n",
    "\n",
    "The critical value is the value of the t-statistic that we would need to see in order to reject the null hypothesis. The critical value is calculated based on the significance level and the degrees of freedom. The degrees of freedom are the number of samples minus 1, so in this case the degrees of freedom are 50 - 1 = 49.\n",
    "\n",
    "The critical value for a two-tailed t-test with a significance level of 0.05 and 49 degrees of freedom is 1.96.\n",
    "\n",
    "We compare the test statistic to the critical value. Since the test statistic (2.4) is greater than the critical value (1.96), we reject the null hypothesis.\n",
    "\n"
   ]
  },
  {
   "cell_type": "markdown",
   "id": "c87fbb65-61c6-4d24-bbc7-c6b1615ae139",
   "metadata": {},
   "source": [
    "#11\n",
    "\n",
    "The 95% confidence interval for the true proportion of people who are satisfied with their job is calculated as follows:\n",
    "\n",
    "confidence interval = sample proportion ± 1.96 * standard error of the proportion\n",
    "\n",
    "= 0.65 ± 1.96 * sqrt(0.65 * 0.35) / 500\n",
    "\n",
    "= 0.65 ± 0.06\n",
    "\n",
    "= 0.59 to 0.71"
   ]
  },
  {
   "cell_type": "markdown",
   "id": "6658363d-0cd3-45ba-99c2-6a26b26715cd",
   "metadata": {},
   "source": [
    "#12\n",
    "\n",
    "Null hypothesis is that the two teaching methods have the same effect on student performance, meaning that the mean scores of the two samples are equal.\n",
    "\n",
    "Alternative hypothesis is that the two teaching methods have different effects on student performance, meaning that the mean scores of the two samples are not equal.\n",
    "\n",
    "The significance level is the probability of making a Type I error, which is rejecting the null hypothesis when it is actually true. We set the significance level at 0.01, which means that we are willing to accept a 1% risk of making a Type I error.\n",
    "\n",
    "t = (mean of sample A - mean of sample B) / pooled standard deviation\n",
    "\n",
    "t = (85 - 82) / sqrt((6^2 + 5^2) / 2)\n",
    "\n",
    "t = 1.4\n",
    "\n",
    "The critical value is the value of the t-statistic that we would need to see in order to reject the null hypothesis. The critical value is calculated based on the significance level and the degrees of freedom. The degrees of freedom are the number of samples minus 2, so in this case the degrees of freedom are 50 - 2 = 48.\n",
    "\n",
    "The critical value for a two-tailed t-test with a significance level of 0.01 and 48 degrees of freedom is 3.25\n",
    "\n",
    "We compare the test statistic to the critical value. Since the test statistic (1.4) is less than the critical value (3.25), we fail to reject the null hypothesis."
   ]
  },
  {
   "cell_type": "markdown",
   "id": "c8f64a14-baca-44ab-9b53-b45042271119",
   "metadata": {},
   "source": [
    "#13\n",
    "\n",
    "The 90% confidence interval for the true population mean is calculated as follows:\n",
    "\n",
    "confidence interval = sample mean ± 1.645 * standard error of the mean\n",
    "\n",
    "= 65 ± 1.645 * 8 / sqrt(50)\n",
    "\n",
    "= 65 ± 2.71\n",
    "\n",
    "= 62.29 to 67.71"
   ]
  },
  {
   "cell_type": "markdown",
   "id": "9d71201a-0f64-49b6-b8d7-a6edebd53427",
   "metadata": {},
   "source": [
    "#14\n",
    "\n",
    "Null hypothesis is that caffeine has no significant effect on reaction time, meaning that the mean reaction time of the population is 0.2 seconds\n",
    "\n",
    "Alternative hypothesis is that caffeine has a significant effect on reaction time, meaning that the mean reaction time of the population is not 0.2 seconds.\n",
    "\n",
    "The significance level is the probability of making a Type I error, which is rejecting the null hypothesis when it is actually true. We set the significance level at 0.10, which means that we are willing to accept a 10% risk of making a Type I error.\n",
    "\n",
    "t = (sample mean - hypothesized mean) / standard error of the mean\n",
    "\n",
    "t = (0.25 - 0.2) / 0.05\n",
    "\n",
    "t = 2\n",
    "\n",
    "The critical value is the value of the t-statistic that we would need to see in order to reject the null hypothesis. The critical value is calculated based on the significance level and the degrees of freedom. The degrees of freedom are the number of samples minus 1, so in this case the degrees of freedom are 30 - 1 = 29.\n",
    "\n",
    "The critical value for a two-tailed t-test with a significance level of 0.10 and 29 degrees of freedom is 1.697.\n",
    "\n",
    "We compare the test statistic to the critical value. Since the test statistic (2) is greater than the critical value (1.697), we reject the null hypothesis."
   ]
  },
  {
   "cell_type": "code",
   "execution_count": null,
   "id": "911863cd-73cf-4cec-8ec0-fdfa5e81d2e1",
   "metadata": {},
   "outputs": [],
   "source": []
  },
  {
   "cell_type": "code",
   "execution_count": null,
   "id": "cc7dcbf8-f9de-44b7-9bb4-9736fcdd6765",
   "metadata": {},
   "outputs": [],
   "source": []
  },
  {
   "cell_type": "code",
   "execution_count": null,
   "id": "6d0786cb-4d62-4456-b9f8-1a5afea815aa",
   "metadata": {},
   "outputs": [],
   "source": []
  },
  {
   "cell_type": "code",
   "execution_count": null,
   "id": "d7143845-d982-4b4c-966a-3709c49e8912",
   "metadata": {},
   "outputs": [],
   "source": []
  },
  {
   "cell_type": "code",
   "execution_count": null,
   "id": "3b05053e-272f-4cbf-8d22-ac8976704987",
   "metadata": {},
   "outputs": [],
   "source": []
  },
  {
   "cell_type": "code",
   "execution_count": null,
   "id": "1863efc5-93be-495d-aee4-238d90e7f290",
   "metadata": {},
   "outputs": [],
   "source": []
  }
 ],
 "metadata": {
  "kernelspec": {
   "display_name": "Python 3 (ipykernel)",
   "language": "python",
   "name": "python3"
  },
  "language_info": {
   "codemirror_mode": {
    "name": "ipython",
    "version": 3
   },
   "file_extension": ".py",
   "mimetype": "text/x-python",
   "name": "python",
   "nbconvert_exporter": "python",
   "pygments_lexer": "ipython3",
   "version": "3.10.8"
  }
 },
 "nbformat": 4,
 "nbformat_minor": 5
}
