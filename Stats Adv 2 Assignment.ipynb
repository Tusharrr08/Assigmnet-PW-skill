{
 "cells": [
  {
   "cell_type": "markdown",
   "id": "aa2b21d2-5805-4e29-8c93-0668ce163c8d",
   "metadata": {},
   "source": [
    "#1\n",
    "\n",
    "The probability mass function (PMF) and the probability density function (PDF) are two functions that are used to describe the probability distribution of a random variable. The PMF is used for discrete random variables, while the PDF is used for continuous random variables.\n",
    "\n",
    "The PMF is a function that assigns a probability to each possible outcome of a discrete random variable. For example, if we have a coin that is flipped once, the possible outcomes are heads (H) and tails (T). The PMF for this random variable would be a table that shows the probability of each outcome. The probability of heads would be 1/2, and the probability of tails would also be 1/2.\n",
    "\n",
    "The PDF is a function that assigns a probability to each possible value of a continuous random variable. For example, if we have a random variable that represents the height of a person, the PDF would be a function that shows the probability of a person having a particular height. The PDF would be a smooth curve, and the area under the curve would represent the total probability of all possible heights."
   ]
  },
  {
   "cell_type": "markdown",
   "id": "f22d6425-4db5-4bc9-bff1-6a696d327671",
   "metadata": {},
   "source": [
    "#2\n",
    "\n",
    "The cumulative distribution function (CDF) is a function that describes the probability that a random variable will be less than or equal to a certain value. It is a non-decreasing function that starts at 0 and approaches 1 as the value of the random variable approaches infinity.\n",
    "\n",
    "Example--The CDF for this random variable would be a function that shows the probability of a person being less than or equal to a certain height. For example, the CDF at a height of 6 feet would be the probability that a randomly selected person is less than or equal to 6 feet tall.\n",
    "\n",
    "The CDF is a useful tool for describing the probability distribution of a random variable. It is especially useful for continuous random variables, where the PDF is not as easy to interpret. The CDF can also be used to calculate the probability of a particular outcome, or to find the probability that a random variable will fall within a certain range of values."
   ]
  },
  {
   "cell_type": "markdown",
   "id": "2e5c408c-eb27-4337-a3f1-23058c244082",
   "metadata": {},
   "source": [
    "#3\n",
    "\n",
    "The normal distribution is a very common probability distribution, and it is often used as a model for many different situations are -----\n",
    "\n",
    "Heights of people\n",
    "\n",
    "Test scores\n",
    "\n",
    "Measurement errors\n",
    "\n",
    "Distribution of income\n",
    "\n",
    "The parameters of the normal distribution are the mean and the standard deviation.\n"
   ]
  },
  {
   "cell_type": "markdown",
   "id": "c312266d-602c-4849-a95c-65232f464a95",
   "metadata": {},
   "source": [
    "#4\n",
    "\n",
    "The normal distribution is one of the most important probability distributions in statistics. It is often called the Gaussian distribution, after the German mathematician Carl Friedrich Gauss, who first studied it. The normal distribution is a bell-shaped curve that is symmetrical around the mean. The mean, median, and mode of a normal distribution are all equal.\n",
    "\n",
    "Some real life examples are---\n",
    "\n",
    "Heights of people\n",
    "\n",
    "Test scores\n",
    "\n",
    "Measurement errors\n",
    "\n",
    "Distribution of income\n",
    "\n",
    "The speed of cars"
   ]
  },
  {
   "cell_type": "markdown",
   "id": "0705387e-ad05-476d-a1c0-806c89dddd1b",
   "metadata": {},
   "source": [
    "#5\n",
    "\n",
    "\n",
    "The Bernoulli distribution is a discrete probability distribution that can take on only two possible values: 0 or 1. The probability of a 0 is denoted by p, and the probability of a 1 is denoted by 1 - p. The Bernoulli distribution is a special case of the binomial distribution, where n = 1.\n",
    "\n",
    "Example of a Bernoulli distribution is the outcome of flipping a coin. The probability of getting a head is p, and the probability of getting a tail is 1 - p.\n",
    "\n",
    "Property-----------------\t       Bernoulli distribution\t     -------   Binomial distribution\n",
    "\n",
    "Number of possible values\t-----------------                       [2]\t--------------                          [n]\n",
    "\n",
    "Probability of a success\t      ------------                   [   p ]     -----------                      [ p]\n",
    "\n",
    "Probability of a failure\t    -------------                   [  1 - p\t ]   ------------                  [  1 - p]\n",
    "\n",
    "Number of trials\t                --------------                 [   1\t  ]      ------------                   [n]"
   ]
  },
  {
   "cell_type": "markdown",
   "id": "572bf376-eb20-4bf1-85ba-de080d8423de",
   "metadata": {},
   "source": [
    "#6\n",
    "\n",
    "z = (x - μ) / σ\n",
    "where x is the value, μ is the mean, and σ is the standard deviation.\n",
    "\n",
    "z = (60 - 50) / 10 = 1\n",
    "\n",
    "The z-score of 1 means that 60 is one standard deviation above the mean.\n",
    "\n",
    "The probability that a randomly selected observation will be greater than 60 is equal to the probability that the z-score will be greater than 1. We can look up this probability in a z-table. The z-table shows the probability that a z-score will be less than or equal to a particular value.\n",
    "\n",
    "The probability that a z-score will be greater than 1 is 0.1587. \n",
    "\n",
    "This means that there is a 15.87% chance that a randomly selected observation will be greater than 60."
   ]
  },
  {
   "cell_type": "markdown",
   "id": "85055a29-b86e-4200-96ec-42237c3e7274",
   "metadata": {},
   "source": [
    "#7\n",
    "\n",
    "A uniform distribution is a probability distribution in which all outcomes are equally likely. This means that the probability of any particular outcome is the same as the probability of any other outcome. The uniform distribution is a continuous distribution, which means that it can take on any value within a certain range.\n",
    "\n",
    "An example of a uniform distribution is the roll of a die"
   ]
  },
  {
   "cell_type": "markdown",
   "id": "5f4ffdc4-38a8-4ada-bbe6-6aefd7f9616e",
   "metadata": {},
   "source": [
    "#8\n",
    "\n",
    "z-score is a statistical measure that describes how far a particular value is from the mean, in terms of standard deviations. It is a dimensionless quantity, and it is calculated by subtracting the mean from a value and then dividing by the standard deviation.\n",
    "\n",
    "The z-score is important because it allows us to compare values that are on different scales. For example, if we have two sets of data, one with a mean of 100 and a standard deviation of 10, and the other with a mean of 50 and a standard deviation of 5, we can compare the two sets of data by calculating the z-scores for each value in the two sets.\n",
    "\n",
    "z-score is also important because it can be used to calculate the probability of a particular value occurring"
   ]
  },
  {
   "cell_type": "markdown",
   "id": "4e7e8221-eb68-4b76-aee7-162e8b9d5c47",
   "metadata": {},
   "source": [
    "#9\n",
    "\n",
    "Central limit theorem (CLT) is a theorem in probability theory that states that, given certain conditions, the arithmetic mean of a sufficiently large number of iterates of independent random variables, each with a well-defined expected value and well-defined variance, will be approximately normally distributed, regardless of the underlying distribution.\n",
    "\n",
    "CLT is a very important theorem in statistics, as it allows us to make inferences about populations based on samples. The CLT states that, as the sample size increases, the distribution of the sample means will become more and more normally distributed, regardless of the distribution of the population. This means that we can use the normal distribution to calculate probabilities and make inferences about the population, even if we don't know the exact distribution of the population."
   ]
  },
  {
   "cell_type": "markdown",
   "id": "6eb541c9-8013-4a6d-8784-8e412e3d274c",
   "metadata": {},
   "source": [
    "#10\n",
    "\n",
    "Assumptions are -----\n",
    "\n",
    "Random sampling: The data must be randomly sampled from the population. This means that each member of the population must have an equal chance of being selected for the sample.\n",
    "\n",
    "Independent observations: The observations in the sample must be independent of each other. This means that the value of one observation cannot affect the value of another observation.\n",
    "\n",
    "Large enough sample size: The sample size must be large enough for the CLT to apply. The exact size of the sample required depends on the distribution of the population."
   ]
  },
  {
   "cell_type": "code",
   "execution_count": null,
   "id": "c5d1965c-e27f-4403-849f-aa99ee8e018d",
   "metadata": {},
   "outputs": [],
   "source": []
  },
  {
   "cell_type": "code",
   "execution_count": null,
   "id": "2af52e11-7e52-48ff-af11-abc4b4e0c7e7",
   "metadata": {},
   "outputs": [],
   "source": []
  },
  {
   "cell_type": "code",
   "execution_count": null,
   "id": "8fb46961-dd32-4ad5-a46a-d7369cc01a7e",
   "metadata": {},
   "outputs": [],
   "source": []
  },
  {
   "cell_type": "code",
   "execution_count": null,
   "id": "d789b57f-cd65-4a34-9610-f91b8b010ca2",
   "metadata": {},
   "outputs": [],
   "source": []
  },
  {
   "cell_type": "code",
   "execution_count": null,
   "id": "d8d50333-ef08-4912-8584-5d32e6c47c9a",
   "metadata": {},
   "outputs": [],
   "source": []
  },
  {
   "cell_type": "code",
   "execution_count": null,
   "id": "86733aac-52ba-49bf-9160-260c03c95e86",
   "metadata": {},
   "outputs": [],
   "source": []
  },
  {
   "cell_type": "code",
   "execution_count": null,
   "id": "c94ec98b-c1d5-4f37-94b9-014ca6691fe4",
   "metadata": {},
   "outputs": [],
   "source": []
  }
 ],
 "metadata": {
  "kernelspec": {
   "display_name": "Python 3 (ipykernel)",
   "language": "python",
   "name": "python3"
  },
  "language_info": {
   "codemirror_mode": {
    "name": "ipython",
    "version": 3
   },
   "file_extension": ".py",
   "mimetype": "text/x-python",
   "name": "python",
   "nbconvert_exporter": "python",
   "pygments_lexer": "ipython3",
   "version": "3.10.8"
  }
 },
 "nbformat": 4,
 "nbformat_minor": 5
}
