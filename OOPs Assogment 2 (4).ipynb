{
 "cells": [
  {
   "cell_type": "code",
   "execution_count": 1,
   "id": "eafd0423-ba4b-44be-9ae1-3207ad328ef8",
   "metadata": {},
   "outputs": [],
   "source": [
    "1\n",
    "# Abstraction is one of the pillar of OOPs which is used to hide relevant data about an object \n",
    "#in order to reduce its complexity and increase efficiency \n",
    "\n",
    "import abc\n",
    "class car_company(abc.ABC):\n",
    "    @abc.abstractmethod\n",
    "    def model(self):\n",
    "        pass\n",
    "    @abc.abstractmethod\n",
    "    def name(self):\n",
    "        pass\n",
    "    @abc.abstractmethod\n",
    "    def price(self):\n",
    "        pass"
   ]
  },
  {
   "cell_type": "code",
   "execution_count": 2,
   "id": "79c4da45-308f-4356-ba38-c6ae2f9a8b1a",
   "metadata": {},
   "outputs": [],
   "source": [
    "class car1(car_company):\n",
    "    def model(self):\n",
    "        return \"This is 001 Model\"\n",
    "    def name(self):\n",
    "        return \"This is URUS LAMBORGHINI\"\n",
    "    def price(self):\n",
    "        return\"Price=10000000\"\n",
    "        "
   ]
  },
  {
   "cell_type": "code",
   "execution_count": 3,
   "id": "9e65ac44-adab-4f57-bd22-0a35af756229",
   "metadata": {},
   "outputs": [],
   "source": [
    "class car2(car_company):\n",
    "    def model(self):\n",
    "        return \"This is 002 Model\"\n",
    "    def name(self):\n",
    "        return \"This is White Gini LAMBO\"\n",
    "    def price(self):\n",
    "        return\"Price=150000000\""
   ]
  },
  {
   "cell_type": "code",
   "execution_count": 4,
   "id": "21fa424b-4b2e-4983-8cea-0f30fafd2c3b",
   "metadata": {},
   "outputs": [],
   "source": [
    "Urus=car1()"
   ]
  },
  {
   "cell_type": "code",
   "execution_count": 5,
   "id": "f9241a5c-dd04-4fbf-91f3-de66f435f93a",
   "metadata": {},
   "outputs": [],
   "source": [
    "White_gini=car2()"
   ]
  },
  {
   "cell_type": "code",
   "execution_count": 6,
   "id": "2749bf90-30a1-47e6-bc2b-6c75087b7d5c",
   "metadata": {},
   "outputs": [
    {
     "data": {
      "text/plain": [
       "'This is 001 Model'"
      ]
     },
     "execution_count": 6,
     "metadata": {},
     "output_type": "execute_result"
    }
   ],
   "source": [
    "Urus.model()"
   ]
  },
  {
   "cell_type": "code",
   "execution_count": 7,
   "id": "2f78e514-4c13-4675-9e0e-7d51f906b1e2",
   "metadata": {},
   "outputs": [
    {
     "data": {
      "text/plain": [
       "'This is White Gini LAMBO'"
      ]
     },
     "execution_count": 7,
     "metadata": {},
     "output_type": "execute_result"
    }
   ],
   "source": [
    "White_gini.name()"
   ]
  },
  {
   "cell_type": "code",
   "execution_count": 8,
   "id": "49334794-f957-401c-a26d-3bbdccf3b0ca",
   "metadata": {},
   "outputs": [
    {
     "data": {
      "text/plain": [
       "'Price=10000000'"
      ]
     },
     "execution_count": 8,
     "metadata": {},
     "output_type": "execute_result"
    }
   ],
   "source": [
    "Urus.price()"
   ]
  },
  {
   "cell_type": "code",
   "execution_count": 9,
   "id": "147d98aa-cd77-49d2-a5ac-01a7e21ec7a0",
   "metadata": {},
   "outputs": [],
   "source": [
    "\n",
    "#2\n",
    "#Abstraction - Hides the implementation details to reduce the code complexity\n",
    "#Encapsulation - Hides data for the purpose of the data protection \n",
    "\n"
   ]
  },
  {
   "cell_type": "code",
   "execution_count": 10,
   "id": "54372b5b-ab8d-4081-8e18-e98f63247d4c",
   "metadata": {},
   "outputs": [],
   "source": [
    "#Abstraction Example\n",
    "import abc \n",
    "class plot(abc.ABC):\n",
    "    @abc.abstractmethod\n",
    "    def price(self):\n",
    "        pass\n",
    "    @abc.abstractmethod\n",
    "    def area(self):\n",
    "        pass"
   ]
  },
  {
   "cell_type": "code",
   "execution_count": 76,
   "id": "b37d1bf5-e2af-4c82-afe6-4e0c2f3ee9ac",
   "metadata": {},
   "outputs": [],
   "source": [
    "class raipur_plot(plot):\n",
    "    def price(self):\n",
    "        return \"Price = 100000\"\n",
    "    def area(self):\n",
    "        return \"Area= 1600 sqft\""
   ]
  },
  {
   "cell_type": "code",
   "execution_count": 77,
   "id": "f34db833-0978-4b90-9292-af5c65ccc331",
   "metadata": {},
   "outputs": [],
   "source": [
    "class jaipur_plot(plot):\n",
    "    def price(self):\n",
    "        return \"Price = 900000\"\n",
    "    def area(self):\n",
    "        return \"Area = 1500 sqft\""
   ]
  },
  {
   "cell_type": "code",
   "execution_count": 78,
   "id": "08b0c799-932a-48e1-afb7-0b390c5d67f4",
   "metadata": {},
   "outputs": [],
   "source": [
    "party1=raipur_plot()"
   ]
  },
  {
   "cell_type": "code",
   "execution_count": 79,
   "id": "5365e375-edd7-4fa5-95cf-97fecd0dbf42",
   "metadata": {},
   "outputs": [],
   "source": [
    "party2=jaipur_plot()"
   ]
  },
  {
   "cell_type": "code",
   "execution_count": 80,
   "id": "ba40084b-43eb-4014-9f53-084fc5ba8b85",
   "metadata": {},
   "outputs": [
    {
     "data": {
      "text/plain": [
       "'Price = 100000'"
      ]
     },
     "execution_count": 80,
     "metadata": {},
     "output_type": "execute_result"
    }
   ],
   "source": [
    "party1.price()"
   ]
  },
  {
   "cell_type": "code",
   "execution_count": 81,
   "id": "acba77fc-af4b-4887-a2a7-f741fd67c976",
   "metadata": {},
   "outputs": [
    {
     "data": {
      "text/plain": [
       "'Price = 900000'"
      ]
     },
     "execution_count": 81,
     "metadata": {},
     "output_type": "execute_result"
    }
   ],
   "source": [
    "party2.price()"
   ]
  },
  {
   "cell_type": "code",
   "execution_count": 82,
   "id": "ae638284-22b5-4f8a-97e5-a34b59bec6bd",
   "metadata": {},
   "outputs": [],
   "source": [
    "#Encapsulation Example\n",
    "class acc:\n",
    "    def balance1(self,balance):\n",
    "        self.__balance=balance # hiding balance object from user so that he/she unable to modify data\n",
    "    def get_balance(self):\n",
    "        return self.__balance"
   ]
  },
  {
   "cell_type": "code",
   "execution_count": 83,
   "id": "f8f322cc-0de8-4ba6-9da0-73eb2a6b5f59",
   "metadata": {},
   "outputs": [],
   "source": [
    "obj=acc()"
   ]
  },
  {
   "cell_type": "code",
   "execution_count": 84,
   "id": "7cd8f926-117e-4df6-8cf8-eb2f866374ac",
   "metadata": {},
   "outputs": [],
   "source": [
    "obj.balance1(3600000)"
   ]
  },
  {
   "cell_type": "code",
   "execution_count": 85,
   "id": "fabe783d-dafe-4c39-9a06-9a853c3f7778",
   "metadata": {},
   "outputs": [
    {
     "data": {
      "text/plain": [
       "3600000"
      ]
     },
     "execution_count": 85,
     "metadata": {},
     "output_type": "execute_result"
    }
   ],
   "source": [
    "obj.get_balance()"
   ]
  },
  {
   "cell_type": "code",
   "execution_count": 94,
   "id": "7604027b-5ba0-49e4-83aa-2565d72b1fa7",
   "metadata": {},
   "outputs": [],
   "source": [
    "3\n",
    "#This module provides the infrastructure for defining abstract base classes {ABCs} in Python.\n",
    "##abc' works by marking methods of the base class as abstract. This is done by @absttractmethod decorator.\n"
   ]
  },
  {
   "cell_type": "code",
   "execution_count": 95,
   "id": "7195f4d8-7274-4c72-983c-4c3d9e979bef",
   "metadata": {},
   "outputs": [],
   "source": [
    "4\n",
    "#We can achieve data abstraction by importing abc module which furthur import abstract class\n",
    "#later inherit them with parent class \n"
   ]
  },
  {
   "cell_type": "code",
   "execution_count": 11,
   "id": "12021027-a3e9-4a38-8e0b-f622dba90f55",
   "metadata": {},
   "outputs": [],
   "source": [
    "# Abstraction Example\n",
    "import abc\n",
    "class car_company(abc.ABC):\n",
    "    @abc.abstractmethod\n",
    "    def model(self):\n",
    "        pass\n",
    "    @abc.abstractmethod\n",
    "    def name(self):\n",
    "        pass\n",
    "    @abc.abstractmethod\n",
    "    def price(self):\n",
    "        pass"
   ]
  },
  {
   "cell_type": "code",
   "execution_count": 12,
   "id": "ced22e7f-341b-4120-b264-28f2c8bc9619",
   "metadata": {},
   "outputs": [],
   "source": [
    "class car1(car_company):\n",
    "    def model(self):\n",
    "        return \"This is 001 Model\"\n",
    "    def name(self):\n",
    "        return \"This is URUS LAMBORGHINI\"\n",
    "    def price(self):\n",
    "        return\"Price=10000000\""
   ]
  },
  {
   "cell_type": "code",
   "execution_count": 13,
   "id": "cf694220-e5e8-4ca1-862d-438e75acc0fe",
   "metadata": {},
   "outputs": [],
   "source": [
    "class car2(car_company):\n",
    "    def model(self):\n",
    "        return \"This is 002 Model\"\n",
    "    def name(self):\n",
    "        return \"This is White Gini LAMBO\"\n",
    "    def price(self):\n",
    "        return\"Price=150000000\""
   ]
  },
  {
   "cell_type": "code",
   "execution_count": 14,
   "id": "49029ca1-bcc3-4c85-beb2-9e78a43074bf",
   "metadata": {},
   "outputs": [],
   "source": [
    "a=car1()"
   ]
  },
  {
   "cell_type": "code",
   "execution_count": 15,
   "id": "0339746a-71ca-46f8-94dc-c90de6912e7f",
   "metadata": {},
   "outputs": [],
   "source": [
    "b=car2()"
   ]
  },
  {
   "cell_type": "code",
   "execution_count": 16,
   "id": "0938ef3c-dbfa-427d-9490-5b2f42d1bbdc",
   "metadata": {},
   "outputs": [
    {
     "data": {
      "text/plain": [
       "('This is URUS LAMBORGHINI',\n",
       " 'Price=10000000',\n",
       " 'This is White Gini LAMBO',\n",
       " 'Price=150000000')"
      ]
     },
     "execution_count": 16,
     "metadata": {},
     "output_type": "execute_result"
    }
   ],
   "source": [
    "a.name(),a.price(),b.name(),b.price()"
   ]
  },
  {
   "cell_type": "code",
   "execution_count": 17,
   "id": "d427dd12-6554-432d-b096-34b98926ab31",
   "metadata": {},
   "outputs": [
    {
     "data": {
      "text/plain": [
       "5"
      ]
     },
     "execution_count": 17,
     "metadata": {},
     "output_type": "execute_result"
    }
   ],
   "source": [
    "5\n",
    "#Abstract classes are not complete, as they may have some methods that are not defined. \n",
    "#So we cannot create an instance or object of an abstract class in Python.\"\"\"\n"
   ]
  },
  {
   "cell_type": "code",
   "execution_count": 18,
   "id": "554f49d1-ce70-43d8-b7e4-78dfd890276f",
   "metadata": {},
   "outputs": [],
   "source": [
    "#But they can be subclassed. When an abstract class is subclassed, the subclass usually provides implementations for all of the abstract methods in its parent class. \n",
    "#However, if it does not, then the subclass must also be declared abstract\"\"\""
   ]
  },
  {
   "cell_type": "code",
   "execution_count": null,
   "id": "a3c7582b-95d8-4824-8177-4f6b82ba846f",
   "metadata": {},
   "outputs": [],
   "source": []
  }
 ],
 "metadata": {
  "kernelspec": {
   "display_name": "Python 3 (ipykernel)",
   "language": "python",
   "name": "python3"
  },
  "language_info": {
   "codemirror_mode": {
    "name": "ipython",
    "version": 3
   },
   "file_extension": ".py",
   "mimetype": "text/x-python",
   "name": "python",
   "nbconvert_exporter": "python",
   "pygments_lexer": "ipython3",
   "version": "3.10.8"
  }
 },
 "nbformat": 4,
 "nbformat_minor": 5
}
