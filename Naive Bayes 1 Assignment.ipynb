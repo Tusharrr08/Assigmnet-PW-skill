{
 "cells": [
  {
   "cell_type": "code",
   "execution_count": 1,
   "id": "67e22d83-06f7-4580-80fa-3a10c425f6d8",
   "metadata": {},
   "outputs": [],
   "source": [
    "#1"
   ]
  },
  {
   "cell_type": "markdown",
   "id": "b1be8e39-a64f-4ff0-87c2-adf7051f1ec4",
   "metadata": {},
   "source": [
    "Bayes' theorem is a mathematical formula that describes the probability of an event, based on prior knowledge of conditions that might be related to the event. It can be used to update our beliefs about the world in the light of new evidence."
   ]
  },
  {
   "cell_type": "code",
   "execution_count": 2,
   "id": "405c97ec-025b-4946-9027-135cafe4eff0",
   "metadata": {},
   "outputs": [],
   "source": [
    "#2"
   ]
  },
  {
   "cell_type": "markdown",
   "id": "3ecae606-078d-409e-a71c-602335a4805b",
   "metadata": {},
   "source": [
    "P(A|B) = P(B|A) * P(A) / P(B)\n"
   ]
  },
  {
   "cell_type": "code",
   "execution_count": 4,
   "id": "80bfa458-bebe-4570-a2ee-afbac8333097",
   "metadata": {},
   "outputs": [],
   "source": [
    "#3"
   ]
  },
  {
   "cell_type": "markdown",
   "id": "3044ac3e-5c69-4e95-a037-88d2b2229102",
   "metadata": {},
   "source": [
    "Bayes theorem is used in a wide variety of practical applications, including:\n",
    "\n",
    "Medicine: Bayes theorem can be used to calculate the probability of a patient having a disease given the results of a diagnostic test. For example, a doctor might use Bayes' theorem to calculate the probability of a patient having cancer given the results of a biopsy.\n",
    "\n",
    "Spam filtering: Bayes theorem is used by spam filters to classify emails as spam or not spam. Spam filters learn from a dataset of labeled emails, and then use Bayes' theorem to calculate the probability of a new email being spam given the words and phrases it contains.\n",
    "\n",
    "Fraud detection: Bayes theorem can be used to detect fraudulent transactions. For example, a credit card company might use Bayes' theorem to calculate the probability of a transaction being fraudulent given the amount of the transaction, the location of the transaction, and the time of day.\n",
    "\n",
    "Recommendation systems: Bayes theorem can be used to recommend products or services to users. For example, a Netflix might use Bayes' theorem to recommend movies to users based on their viewing history.\n",
    "\n",
    "Natural language processing: Bayes theorem can be used to solve a variety of natural language processing tasks, such as machine translation and sentiment analysis."
   ]
  },
  {
   "cell_type": "code",
   "execution_count": 5,
   "id": "1911c743-bfe3-4dee-9a6e-b65b71a92165",
   "metadata": {},
   "outputs": [],
   "source": [
    "#4"
   ]
  },
  {
   "cell_type": "markdown",
   "id": "14d04797-66e5-4254-ae3e-cdd22f91cca9",
   "metadata": {},
   "source": [
    "\n",
    "Bayes theorem is a mathematical formula that describes the relationship between conditional probabilities. Conditional probability is the probability of an event happening, given that another event has already happened. For example, the conditional probability of it raining tomorrow given that it is overcast today is the probability of it raining tomorrow, assuming that it is overcast today.\n",
    "\n",
    "Bayes theorem can be expressed as follows:\n",
    "\n",
    "P(A|B) = P(B|A) * P(A) / P(B)\n",
    "where:\n",
    "\n",
    "P(A|B) is the conditional probability of event A happening, given that event B has already happened.\n",
    "\n",
    "P(B|A) is the conditional probability of event B happening, given that event A has already happened.\n",
    "\n",
    "P(A) is the probability of event A happening, regardless of whether event B has happened.\n",
    "\n",
    "P(B) is the probability of event B happening, regardless of whether event A has happened.\n",
    "\n",
    "Bayes theorem can be used to calculate conditional probabilities in either direction. For example, you can use \n",
    "Bayes theorem to calculate the probability of event A happening given that event B has happened, or you can use \n",
    "Bayes theorem to calculate the probability of event B happening given that event A has happened.\n",
    "\n",
    "Bayes theorem is a very powerful tool that can be used to solve a wide variety of problems in probability and statistics. It is used in many different fields, including machine learning, artificial intelligence, and data science."
   ]
  },
  {
   "cell_type": "code",
   "execution_count": 6,
   "id": "a76bc691-1380-4b15-a412-114b1bdb37a3",
   "metadata": {},
   "outputs": [],
   "source": [
    "#5"
   ]
  },
  {
   "cell_type": "markdown",
   "id": "3419b932-1aea-4a01-b190-0c217e439e54",
   "metadata": {},
   "source": [
    "Type of Naive Bayes classifier to use for any given problem, you need to consider the type of data you have and the type of predictions you want to make.\n",
    "\n",
    "Gaussian Naive Bayes is used when the features in your data are continuous and follow a normal distribution. For example, you might use Gaussian Naive Bayes to classify emails as spam or not spam, where the features are things like the number of words in the email, the length of the email, and the number of links in the email.\n",
    "\n",
    "Multinomial Naive Bayes is used when the features in your data are discrete counts. For example, you might use Multinomial Naive Bayes to classify text documents into different categories, where the features are the number of times each word appears in the document.\n",
    "\n",
    "Bernoulli Naive Bayes is used when the features in your data are binary, meaning they can take on only two values, such as 0 or 1. For example, you might use Bernoulli Naive Bayes to classify images as containing a cat or not containing a cat, where the features are the presence or absence of different features in the image, such as whiskers, ears, and a tail.\n",
    "\n",
    "|Type of Naive Bayes classifier | Type of data |\n",
    "\n",
    "| Gaussian Naive Bayes | Continuous features |\n",
    "| Multinomial Naive Bayes | Discrete count features |\n",
    "| Bernoulli Naive Bayes | Binary features |"
   ]
  },
  {
   "cell_type": "code",
   "execution_count": 7,
   "id": "e480ef9a-19d2-4358-8bdf-b155cb5d577c",
   "metadata": {},
   "outputs": [],
   "source": [
    "#6"
   ]
  },
  {
   "cell_type": "markdown",
   "id": "6363ffaf-e829-4470-9630-c56528ba168e",
   "metadata": {},
   "source": [
    "\n",
    "Naive Bayes would predict the new instance to belong to class A, given the following frequency table:\n",
    "\n",
    "| Class | X1=1 | X1=2 | X1=3 | X2=1 | X2=2 | X2=3 | X2=4 |\n",
    "\n",
    "| A | 3 | 3 | 4 | 4 | 3 | 3 | 3 |\n",
    "\n",
    "| B | 2 | 2 | 1 | 2 | 2 | 2 | 3 |\n",
    "\n",
    "To make this prediction, Naive Bayes would first calculate the posterior probability of each class given the new instance's features:\n",
    "\n",
    "P(A | X1=3, X2=4) = P(X1=3, X2=4 | A) * P(A) / P(X1=3, X2=4)\n",
    "\n",
    "P(B | X1=3, X2=4) = P(X1=3, X2=4 | B) * P(B) / P(X1=3, X2=4)\n",
    "\n",
    "Since we are assuming equal prior probabilities for each class, we can ignore the P(A) and P(B) terms in the denominator. This leaves us with the following:\n",
    "\n",
    "P(A | X1=3, X2=4) = P(X1=3, X2=4 | A)\n",
    "\n",
    "P(B | X1=3, X2=4) = P(X1=3, X2=4 | B)\n",
    "\n",
    "To calculate the likelihood of each feature value given each class, we can use the following formula:\n",
    "\n",
    "P(X1=3 | A) = count(X1=3, class=A) / total_count(class=A)\n",
    "\n",
    "P(X2=4 | A) = count(X2=4, class=A) / total_count(class=A)\n",
    "\n",
    "P(X1=3 | B) = count(X1=3, class=B) / total_count(class=B)\n",
    "\n",
    "P(X2=4 | B) = count(X2=4, class=B) / total_count(class=B)\n",
    "\n",
    "Plugging in the values from the frequency table, we get the following:\n",
    "\n",
    "\n",
    "P(X1=3 | A) = 4 / 23\n",
    "\n",
    "P(X2=4 | A) = 3 / 23\n",
    "\n",
    "P(X1=3 | B) = 1 / 14\n",
    "\n",
    "P(X2=4 | B) = 3 / 14\n",
    "\n",
    "Now we can calculate the posterior probability of each class:\n",
    "\n",
    "\n",
    "P(A | X1=3, X2=4) = (4 / 23) * (3 / 23) = 12 / 529\n",
    "\n",
    "P(B | X1=3, X2=4) = (1 / 14) * (3 / 14) = 3 / 196\n",
    "\n",
    "Comparing the posterior probabilities of the two classes, we see that P(A | X1=3, X2=4) is greater than P(B | X1=3, X2=4). Therefore, Naive Bayes would predict that the new instance belongs to class A."
   ]
  },
  {
   "cell_type": "code",
   "execution_count": null,
   "id": "f85e0892-3797-4183-80fe-4e5653dce11a",
   "metadata": {},
   "outputs": [],
   "source": []
  },
  {
   "cell_type": "code",
   "execution_count": null,
   "id": "ed42655b-4ac9-45e0-a932-94ec0856b6cd",
   "metadata": {},
   "outputs": [],
   "source": []
  },
  {
   "cell_type": "code",
   "execution_count": null,
   "id": "ba4b62c3-edcb-45b5-a668-e894ce501a00",
   "metadata": {},
   "outputs": [],
   "source": []
  },
  {
   "cell_type": "code",
   "execution_count": null,
   "id": "f9812c4a-5ffd-47c3-8d79-8b9eafa9654c",
   "metadata": {},
   "outputs": [],
   "source": []
  },
  {
   "cell_type": "code",
   "execution_count": null,
   "id": "c155827c-7a77-4a98-9667-1b8d2139bc5a",
   "metadata": {},
   "outputs": [],
   "source": []
  },
  {
   "cell_type": "code",
   "execution_count": null,
   "id": "7a0180aa-6486-45ee-a28a-c21409761670",
   "metadata": {},
   "outputs": [],
   "source": []
  },
  {
   "cell_type": "code",
   "execution_count": null,
   "id": "0feccc8a-7c48-46e2-b446-9fbaa6e5c761",
   "metadata": {},
   "outputs": [],
   "source": []
  },
  {
   "cell_type": "code",
   "execution_count": null,
   "id": "d2ecd18d-7d8a-4ef7-a5fd-2c07216f36b1",
   "metadata": {},
   "outputs": [],
   "source": []
  },
  {
   "cell_type": "code",
   "execution_count": null,
   "id": "28e65409-8703-4e4a-b6c5-00b7e05c9bf2",
   "metadata": {},
   "outputs": [],
   "source": []
  },
  {
   "cell_type": "code",
   "execution_count": null,
   "id": "f81fbfc8-29ce-4577-9b77-79b661dd8e2f",
   "metadata": {},
   "outputs": [],
   "source": []
  },
  {
   "cell_type": "code",
   "execution_count": null,
   "id": "10c05320-effc-45f3-9079-c6c252646fb5",
   "metadata": {},
   "outputs": [],
   "source": []
  },
  {
   "cell_type": "code",
   "execution_count": null,
   "id": "18be0713-ff52-4ee7-82ec-5c6450f1500e",
   "metadata": {},
   "outputs": [],
   "source": []
  },
  {
   "cell_type": "code",
   "execution_count": null,
   "id": "6d6973fd-5da1-43ac-a1c0-298fb86ed01a",
   "metadata": {},
   "outputs": [],
   "source": []
  }
 ],
 "metadata": {
  "kernelspec": {
   "display_name": "Python 3 (ipykernel)",
   "language": "python",
   "name": "python3"
  },
  "language_info": {
   "codemirror_mode": {
    "name": "ipython",
    "version": 3
   },
   "file_extension": ".py",
   "mimetype": "text/x-python",
   "name": "python",
   "nbconvert_exporter": "python",
   "pygments_lexer": "ipython3",
   "version": "3.10.8"
  }
 },
 "nbformat": 4,
 "nbformat_minor": 5
}
