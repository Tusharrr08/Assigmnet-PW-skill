{
 "cells": [
  {
   "cell_type": "code",
   "execution_count": 1,
   "id": "3ab0f068-247a-4127-929e-f29d57850230",
   "metadata": {},
   "outputs": [],
   "source": [
    "1\n",
    "#Class is a blueprint which defines some properties and behaviors and its like a object constructor\n",
    "#Object is an instance of a class which has those properties and behaviours attached.\n",
    "\n",
    "\n",
    "class pwskill:#This is class\n",
    "    def student(self,name,email):\n",
    "        self.stud_name=name\n",
    "        self.stud_email=email\n",
    "    \n",
    "    \n",
    "    def Stud_info(self):\n",
    "        return self.stud_name,self.stud_email\n",
    "        "
   ]
  },
  {
   "cell_type": "code",
   "execution_count": 10,
   "id": "ea0249b6-840c-40ab-b145-07dd0ecf0896",
   "metadata": {},
   "outputs": [],
   "source": [
    "Obj=pwskill()#initialising Object"
   ]
  },
  {
   "cell_type": "code",
   "execution_count": 11,
   "id": "995d6fb2-c13c-4b24-8292-8229909863ec",
   "metadata": {},
   "outputs": [],
   "source": [
    "Obj.student(\"Tushar\",\"tushar.nishad50@gmail.com\")"
   ]
  },
  {
   "cell_type": "code",
   "execution_count": 13,
   "id": "442bb93d-9534-483b-94fd-1c7ba03c9516",
   "metadata": {},
   "outputs": [
    {
     "data": {
      "text/plain": [
       "('Tushar', 'tushar.nishad50@gmail.com')"
      ]
     },
     "execution_count": 13,
     "metadata": {},
     "output_type": "execute_result"
    }
   ],
   "source": [
    "Obj.Stud_info()"
   ]
  },
  {
   "cell_type": "code",
   "execution_count": null,
   "id": "091daac8-48fb-4a23-b33f-033ae562acaf",
   "metadata": {},
   "outputs": [],
   "source": [
    "2 \n",
    "Four pillars of OOPs are\n",
    "Encapsulation\n",
    "Inheritance\n",
    "Polymorphism\n",
    "Abstraction"
   ]
  },
  {
   "cell_type": "code",
   "execution_count": 20,
   "id": "cf2c0f98-7407-430f-b79a-8fbd09622f7f",
   "metadata": {},
   "outputs": [],
   "source": [
    "3\n",
    "#__init__ function is used to initialize the object attributes\n",
    "class Company:#This is class\n",
    "    def __init__(self,name,Mobile_No):#Initializing name and email attributes\n",
    "        \n",
    "        self.stud_name=name\n",
    "        self.MobileNo=Mobile_No\n",
    "    \n",
    "    \n",
    "    def Info(self):\n",
    "        return self.stud_name, self.MobileNo\n",
    "        "
   ]
  },
  {
   "cell_type": "code",
   "execution_count": 21,
   "id": "9b773768-6be6-43ca-9d59-1f0d435c6312",
   "metadata": {},
   "outputs": [],
   "source": [
    "Obj1=pwskill(\"Tushar\",91744416465664)"
   ]
  },
  {
   "cell_type": "code",
   "execution_count": 22,
   "id": "40281d4c-0649-445e-b2c3-0024577c13a5",
   "metadata": {},
   "outputs": [
    {
     "data": {
      "text/plain": [
       "('Tushar', 91744416465664)"
      ]
     },
     "execution_count": 22,
     "metadata": {},
     "output_type": "execute_result"
    }
   ],
   "source": [
    "Obj1.Stud_info()"
   ]
  },
  {
   "cell_type": "code",
   "execution_count": null,
   "id": "357474ba-6f33-48c8-8cf6-0f64005657b6",
   "metadata": {},
   "outputs": [],
   "source": [
    "4\n",
    "Self is used to represent the instance of the class which is used in OOPs"
   ]
  },
  {
   "cell_type": "code",
   "execution_count": 30,
   "id": "f18445f1-0634-4ddc-a81a-234c894b40f0",
   "metadata": {},
   "outputs": [],
   "source": [
    "5\n",
    "# Inheritance is one of the pillar of OOPs which is used to connect or linked parent classes with their child classes\n",
    "class Grandparent:\n",
    "    def inside_gp(self):\n",
    "        print(\"I am the Grandparent Class\")\n",
    "        \n",
    "class parent:\n",
    "    def inside_p(self):\n",
    "        print(\"I am the parent class\")\n",
    "        \n",
    "class child(Grandparent,parent):\n",
    "    pass"
   ]
  },
  {
   "cell_type": "code",
   "execution_count": 31,
   "id": "d34c1d70-4c07-4ad7-b8d4-77b482cf15b5",
   "metadata": {},
   "outputs": [],
   "source": [
    "Obj=child()"
   ]
  },
  {
   "cell_type": "code",
   "execution_count": 32,
   "id": "71469fc7-0718-4741-ad7d-d2199992a029",
   "metadata": {},
   "outputs": [
    {
     "name": "stdout",
     "output_type": "stream",
     "text": [
      "I am the Grandparent Class\n"
     ]
    }
   ],
   "source": [
    "Obj.inside_gp()"
   ]
  },
  {
   "cell_type": "code",
   "execution_count": 33,
   "id": "10c64c73-5924-4dcd-a19d-6fc50be2e729",
   "metadata": {},
   "outputs": [
    {
     "name": "stdout",
     "output_type": "stream",
     "text": [
      "I am the parent class\n"
     ]
    }
   ],
   "source": [
    "Obj.inside_p()"
   ]
  },
  {
   "cell_type": "code",
   "execution_count": null,
   "id": "42011d4d-de0f-4dde-a83a-29648d65577d",
   "metadata": {},
   "outputs": [],
   "source": []
  }
 ],
 "metadata": {
  "kernelspec": {
   "display_name": "Python 3 (ipykernel)",
   "language": "python",
   "name": "python3"
  },
  "language_info": {
   "codemirror_mode": {
    "name": "ipython",
    "version": 3
   },
   "file_extension": ".py",
   "mimetype": "text/x-python",
   "name": "python",
   "nbconvert_exporter": "python",
   "pygments_lexer": "ipython3",
   "version": "3.10.8"
  }
 },
 "nbformat": 4,
 "nbformat_minor": 5
}
