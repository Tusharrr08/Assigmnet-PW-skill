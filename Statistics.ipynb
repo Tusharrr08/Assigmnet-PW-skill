{
 "cells": [
  {
   "cell_type": "markdown",
   "id": "a34ad722-bfdd-4100-925f-627b21173365",
   "metadata": {},
   "source": [
    "#1 \n",
    "\n",
    "Statistics is the science of collecting, organizing and analysing data."
   ]
  },
  {
   "cell_type": "markdown",
   "id": "f0d56b97-9d72-47c8-a241-542f4187807a",
   "metadata": {},
   "source": [
    "#2\n",
    "\n",
    "There are two types of Statistics :-\n",
    "\n",
    "i.Discriptive Statistics - It summarize the characteristics of a data set\n",
    "\n",
    "Uses\n",
    "\n",
    "A company might use descriptive statistics to summarize the results of a customer satisfaction survey.\n",
    "\n",
    "A government agency might use descriptive statistics to describe the distribution of income in a country.\n",
    "\n",
    "A doctor might use descriptive statistics to summarize the results of a medical test\n",
    "\n",
    "ii.Inferential Statistics - It summarizes the conclusion of whole group(population data) by sample data.\n",
    "\n",
    "Uses \n",
    "\n",
    "A researcher might use inferential statistics to test the hypothesis that there is a difference in the average IQ of men and women.\n",
    "\n",
    "A marketing firm might use inferential statistics to determine whether there is a relationship between product awareness and brand loyalty.\n",
    "\n",
    "A pharmaceutical company might use inferential statistics to determine whether a new drug is effective in treating a particular disease."
   ]
  },
  {
   "cell_type": "markdown",
   "id": "210468f2-8996-42f2-a44c-33eb8865ae38",
   "metadata": {},
   "source": [
    "#3\n",
    "There are two main types of data: quantitative and qualitative.\n",
    "\n",
    "\n",
    "Quantitative data is data that can be measured and represented numerically. It can be either discrete or continuous\n",
    "It shows about quantity or amount of data like, no of bank acc, no of student , world population etc .\n",
    "\n",
    "Example-\n",
    "\n",
    "Discrete: The number of students in a class (10, 15, 20, etc.)\n",
    "\n",
    "Continuous: The heigh of a person (170.55 cm, 175.12 cm, 180.00 cm, etc.)\n",
    "\n",
    "Qualitative data is data that cannot be measured or represented numerically. It is often described in words or pictures. Qualitative data can be either nominal or ordinal.\n",
    "It shows about quality or nature of data how it being produce to everyone like, colour of eyes, feedbacks , Status etc.\n",
    "\n",
    "Example-\n",
    "\n",
    "Nominal: The color of a car (red, blue, green, etc.)\n",
    "\n",
    "Ordinal: The ranking of a team in a sporting competition (first, second, third, etc.)\n",
    "\n"
   ]
  },
  {
   "cell_type": "code",
   "execution_count": 3,
   "id": "c5a01378-862a-4d8a-806e-5671d56bb2bf",
   "metadata": {},
   "outputs": [],
   "source": [
    "#4\n"
   ]
  },
  {
   "cell_type": "markdown",
   "id": "61dbb428-d26f-43aa-878e-8d7f526f01cf",
   "metadata": {},
   "source": [
    "(i) Grading in exam: A+, A, B+, B, C+, C, D, E --Qualitative Datatype\n",
    "\n",
    "\n",
    "(ii) Colour of mangoes: yellow, green, orange, red --Qualitative Datatype\n",
    "\n",
    "\n",
    "(iii) Height data of a class: [178.9, 179, 179.5, 176, 177.2, 178.3, 175.8,...] --Quantitative Datatype\n",
    "\n",
    "\n",
    "(iv) Number of mangoes exported by a farm: [500, 600, 478, 672, ...] --Quantitative Datatype"
   ]
  },
  {
   "cell_type": "code",
   "execution_count": 5,
   "id": "1d7f9d44-da4c-44f0-b5ce-144a4544f382",
   "metadata": {},
   "outputs": [],
   "source": [
    "#5"
   ]
  },
  {
   "cell_type": "markdown",
   "id": "7aa634d9-223b-4c8e-995d-4893a29f6739",
   "metadata": {},
   "source": [
    "Nominal: The values of a nominal variable are used to classify or categorize objects or people. The categories are mutually exclusive, meaning that each object or person can be assigned to only one category. The categories have no intrinsic order. For example, the variable \"color\" could be nominal, with the categories \"red,\" \"blue,\" \"green,\" and \"yellow.\"\n",
    "\n",
    "Ordinal: The values of an ordinal variable can be ranked or ordered. However, the intervals between the ranks are not necessarily equal. For example, the variable \"ranking in a sporting competition\" could be ordinal, with the ranks \"first,\" \"second,\" \"third,\" and so on.\n",
    "\n",
    "Interval: The values of an interval variable can be ranked or ordered, and the intervals between the ranks are equal. However, there is no absolute zero point on an interval scale. For example, the variable \"temperature\" could be interval, with the values \"0 degrees Celsius,\" \"10 degrees Celsius,\" \"20 degrees Celsius,\" and so on.\n",
    "\n",
    "Ratio: The values of a ratio variable can be ranked or ordered, the intervals between the ranks are equal, and there is an absolute zero point on the scale. For example, the variable \"distance\" could be ratio, with the values \"0 meters,\" \"1 meter,\" \"2 meters,\" and so on."
   ]
  },
  {
   "cell_type": "code",
   "execution_count": 6,
   "id": "4e5d4d53-a31b-4d67-90e8-2ca75770b68c",
   "metadata": {},
   "outputs": [],
   "source": [
    "#6"
   ]
  },
  {
   "cell_type": "markdown",
   "id": "5a8319b4-dff8-4c70-a9eb-2e69725480f4",
   "metadata": {},
   "source": [
    "The level of measurement of a variable is important to understand when analyzing data because it determines the types of statistical analysis that can be performed on the data. For example, you cannot calculate the mean or standard deviation of a nominal variable, because the values of a nominal variable do not have any intrinsic order.\n",
    "\n",
    "Suppose you are interested in the relationship between the color of a car and the number of accidents that the car is involved in. You collect data on the color of a car and the number of accidents that the car has been involved in. You then want to calculate the mean number of accidents for each color of car. However, you cannot do this because the color of a car is a nominal variable. The values of a nominal variable (red, blue, green, yellow) do not have any intrinsic order, so you cannot rank them from lowest to highest. Therefore, you cannot calculate the mean number of accidents for each color of car.\n",
    "\n",
    "In this example, the level of measurement of the variable \"color\" prevents you from performing a certain type of statistical analysis. If you had instead used a variable with a higher level of measurement, such as \"ranking in a sporting competition,\" you would have been able to calculate the mean number of accidents for each ranking.\n"
   ]
  },
  {
   "cell_type": "code",
   "execution_count": 7,
   "id": "11219cd5-eb21-40ad-a517-06745ef04c3f",
   "metadata": {},
   "outputs": [],
   "source": [
    "#7"
   ]
  },
  {
   "cell_type": "markdown",
   "id": "ea015b6f-d9f5-4d68-be81-ee554c706b4f",
   "metadata": {},
   "source": [
    "Nominal data is used to classify or categorize objects or people while Ordinal data is similar to nominal data, but the categories have a natural order or rank\n",
    "\n",
    "Nomial data classify nature of data like colour, status, height etc, while Ordinal data classify basis on ranks of data like first,second,third etc."
   ]
  },
  {
   "cell_type": "code",
   "execution_count": 9,
   "id": "5a7d3e89-efba-4649-94ae-24313304dafd",
   "metadata": {},
   "outputs": [],
   "source": [
    "#8"
   ]
  },
  {
   "cell_type": "markdown",
   "id": "e9078909-7e5b-4cad-9b37-29c2167cbbb4",
   "metadata": {},
   "source": [
    "Histogram and Box Plot can be used to diplay data in terms of range"
   ]
  },
  {
   "cell_type": "code",
   "execution_count": 10,
   "id": "cf47d6f1-ebcd-4246-8de6-1850b43820d0",
   "metadata": {},
   "outputs": [],
   "source": [
    "#9"
   ]
  },
  {
   "cell_type": "markdown",
   "id": "816aa063-54e5-4281-b4c3-59cfc6ffe974",
   "metadata": {},
   "source": [
    "Descriptive statistics are used to summarize data and describe its main features\n",
    "\n",
    "Some examples of descriptive statistics include:\n",
    "\n",
    "Measures of central tendency: These statistics describe the \"middle\" of a data set. The most common measures of central tendency are the mean, median, and mode.\n",
    "\n",
    "Measures of variation: These statistics describe how spread out a data set is. The most common measures of variation are the standard deviation and variance.\n",
    "\n",
    "Example of Discriptive Statistics can be used------\n",
    "\n",
    "A company might use descriptive statistics to summarize the results of a customer satisfaction survey. The company might calculate the average customer satisfaction score, the distribution of scores, and the most common reasons for dissatisfaction. This information would help the company to identify areas where it could improve its customer service."
   ]
  },
  {
   "cell_type": "code",
   "execution_count": null,
   "id": "149a00df-018c-4699-84ee-42f3e0a44836",
   "metadata": {},
   "outputs": [],
   "source": [
    "Inferential statistics are used to make inferences about a population based on data from a sample.\n",
    "\n",
    "Some examples of inferential statistics include:\n",
    "\n",
    "Hypothesis testing: This is a statistical procedure used to determine whether there is enough evidence to reject the null hypothesis. The null hypothesis is a statement that there is no difference between two groups or that there is no relationship between two variables.\n",
    "\n",
    "Regression analysis: This is a statistical technique used to model the relationship between two or more variables.\n",
    "\n",
    "Surveys: Surveys are a type of inferential statistic that is used to collect data from a sample of a population.\n",
    "\n",
    "Example of Inferential Statistics can be used------"
   ]
  }
 ],
 "metadata": {
  "kernelspec": {
   "display_name": "Python 3 (ipykernel)",
   "language": "python",
   "name": "python3"
  },
  "language_info": {
   "codemirror_mode": {
    "name": "ipython",
    "version": 3
   },
   "file_extension": ".py",
   "mimetype": "text/x-python",
   "name": "python",
   "nbconvert_exporter": "python",
   "pygments_lexer": "ipython3",
   "version": "3.10.8"
  }
 },
 "nbformat": 4,
 "nbformat_minor": 5
}
