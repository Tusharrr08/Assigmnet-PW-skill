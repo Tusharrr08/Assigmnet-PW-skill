{
 "cells": [
  {
   "cell_type": "code",
   "execution_count": 51,
   "id": "92a617bd-e557-4ad0-97e1-a71b3d131e4b",
   "metadata": {},
   "outputs": [],
   "source": [
    "#1\n",
    "#Multiprocessing in Python is a built-in package that allows the system to run multiple processes simultaneously\n",
    "#Useful for CPU-bound processes, such as computationally heavy tasks since it will benefit from having multiple processors."
   ]
  },
  {
   "cell_type": "code",
   "execution_count": 52,
   "id": "2c042433-614c-46a5-bead-7251a117ab51",
   "metadata": {},
   "outputs": [],
   "source": [
    "#2\n",
    "#Multithreading refers to the ability of a processor to execute multiple threads concurrently, where each thread runs a process.\n",
    "#Multiprocessing refers to the ability of a system to run multiple processors in parallel, where each processor can run one or more threads."
   ]
  },
  {
   "cell_type": "code",
   "execution_count": 53,
   "id": "4c32008e-fedb-4c22-8f2c-14341b62deb6",
   "metadata": {},
   "outputs": [],
   "source": [
    "#3\n",
    "import multiprocessing\n",
    "def test():\n",
    "    print(\"Multiprocessing executing\")"
   ]
  },
  {
   "cell_type": "code",
   "execution_count": 54,
   "id": "d5f70fa5-fb38-4f09-9c07-e525944d399c",
   "metadata": {},
   "outputs": [
    {
     "name": "stdout",
     "output_type": "stream",
     "text": [
      "Multiprocessing executing\n"
     ]
    }
   ],
   "source": [
    "if __name__=='__main__':\n",
    "    M=multiprocessing.Process(target=test)\n",
    "    M.start()\n",
    "    M.join()\n"
   ]
  },
  {
   "cell_type": "code",
   "execution_count": 55,
   "id": "761a81bd-7c9b-48dc-9b6f-1674596a53a3",
   "metadata": {},
   "outputs": [],
   "source": [
    "#4\n",
    "#Multiprocessing Pool can be used for parallel execution of a function across multiple input values\n",
    "#Pool used to return object in bulk.\n",
    "import multiprocessing\n",
    "def cube(n):\n",
    "    return n**3"
   ]
  },
  {
   "cell_type": "code",
   "execution_count": 56,
   "id": "b4125092-c2b6-499e-9351-5e47c86c2623",
   "metadata": {},
   "outputs": [
    {
     "name": "stdout",
     "output_type": "stream",
     "text": [
      "[8, 64, 216, 512]\n"
     ]
    }
   ],
   "source": [
    "if __name__=='__main__':\n",
    "    M=multiprocessing.Pool(processes=4)\n",
    "    p=M.map(cube,[2,4,6,8])\n",
    "    print(p)"
   ]
  },
  {
   "cell_type": "code",
   "execution_count": 57,
   "id": "379fa888-ec81-41e1-9d60-081de3142d26",
   "metadata": {},
   "outputs": [
    {
     "name": "stdout",
     "output_type": "stream",
     "text": [
      "[0, 1, 4, 9, 16, 25, 36, 49, 64, 81]\n"
     ]
    }
   ],
   "source": [
    "#5\n",
    "import multiprocessing\n",
    "\n",
    "def worker(x):\n",
    "    return x * x\n",
    "\n",
    "if __name__ == \"__main__\":\n",
    "    pool = multiprocessing.Pool(4)\n",
    "    results = pool.map(worker, range(10))\n",
    "    print(results)"
   ]
  },
  {
   "cell_type": "code",
   "execution_count": 58,
   "id": "46139cae-2677-4051-9dd5-ea94b3fa5032",
   "metadata": {},
   "outputs": [],
   "source": [
    "#6\n",
    "import multiprocessing\n",
    "def squareit(x):\n",
    "    print(\"PROCESSOR 1 CALLING SQUARE:{}\".format(x**2))\n",
    "    \n",
    "def cubeit(y):\n",
    "    print(\"PROCESSOR 2 CALLING CUBE:{}\".format(y**3))"
   ]
  },
  {
   "cell_type": "code",
   "execution_count": 59,
   "id": "9a480b90-c137-4a8b-8952-e2769af0b87f",
   "metadata": {},
   "outputs": [
    {
     "name": "stdout",
     "output_type": "stream",
     "text": [
      "PROCESSOR 1 CALLING SQUARE:100\n",
      "PROCESSOR 2 CALLING CUBE:1000\n"
     ]
    }
   ],
   "source": [
    "if __name__=='__main__':\n",
    "    M=multiprocessing.Process(target=squareit, args=(10,))\n",
    "    N=multiprocessing.Process(target=cubeit, args=(10,))\n",
    "    M.start()\n",
    "    N.start()\n",
    "    M.join()\n",
    "    N.join()"
   ]
  },
  {
   "cell_type": "code",
   "execution_count": null,
   "id": "69de214b-26fb-4875-bc82-3f6cb4aa69e5",
   "metadata": {},
   "outputs": [],
   "source": []
  },
  {
   "cell_type": "code",
   "execution_count": null,
   "id": "ccc5b870-1e21-4df2-88f1-00e6bd70c51a",
   "metadata": {},
   "outputs": [],
   "source": []
  },
  {
   "cell_type": "code",
   "execution_count": null,
   "id": "02c28e01-069e-4ce6-a447-027ca52649c7",
   "metadata": {},
   "outputs": [],
   "source": []
  },
  {
   "cell_type": "code",
   "execution_count": null,
   "id": "cbb2a033-28e4-4066-8ef7-04e58392fca9",
   "metadata": {},
   "outputs": [],
   "source": []
  },
  {
   "cell_type": "code",
   "execution_count": null,
   "id": "2223d344-9fc7-4cd9-80b4-f9882a8dd27d",
   "metadata": {},
   "outputs": [],
   "source": []
  },
  {
   "cell_type": "code",
   "execution_count": null,
   "id": "ba74b2bd-f832-4d23-b97f-4977511de3a9",
   "metadata": {},
   "outputs": [],
   "source": []
  },
  {
   "cell_type": "code",
   "execution_count": null,
   "id": "b76c57c9-d2c3-4d1a-90f0-be51767d6881",
   "metadata": {},
   "outputs": [],
   "source": []
  },
  {
   "cell_type": "code",
   "execution_count": null,
   "id": "9b654fe1-f21b-475b-bc38-1774ee544e53",
   "metadata": {},
   "outputs": [],
   "source": []
  },
  {
   "cell_type": "code",
   "execution_count": null,
   "id": "d625d5fb-29c7-450f-88d8-5ffb674a3b32",
   "metadata": {},
   "outputs": [],
   "source": []
  },
  {
   "cell_type": "code",
   "execution_count": null,
   "id": "d61da92b-5049-464a-afae-d65d572b1430",
   "metadata": {},
   "outputs": [],
   "source": []
  },
  {
   "cell_type": "code",
   "execution_count": null,
   "id": "d30deab5-354d-490d-8dc8-fc818ef23bfa",
   "metadata": {},
   "outputs": [],
   "source": []
  },
  {
   "cell_type": "code",
   "execution_count": null,
   "id": "ba7b0efd-550e-48e4-9f23-0ddfc57d9dbd",
   "metadata": {},
   "outputs": [],
   "source": []
  },
  {
   "cell_type": "code",
   "execution_count": null,
   "id": "e2b81076-42f3-4e02-9c7f-eb5b22e6f663",
   "metadata": {},
   "outputs": [],
   "source": []
  },
  {
   "cell_type": "code",
   "execution_count": null,
   "id": "17cdcf5a-773a-4e56-90f4-aa36c37e6384",
   "metadata": {},
   "outputs": [],
   "source": []
  },
  {
   "cell_type": "code",
   "execution_count": null,
   "id": "5f5400d1-302e-42d8-a66d-6c05843fe3d9",
   "metadata": {},
   "outputs": [],
   "source": []
  },
  {
   "cell_type": "code",
   "execution_count": null,
   "id": "9e03e687-cead-4f6e-a943-4d94ec43cf40",
   "metadata": {},
   "outputs": [],
   "source": []
  }
 ],
 "metadata": {
  "kernelspec": {
   "display_name": "Python 3 (ipykernel)",
   "language": "python",
   "name": "python3"
  },
  "language_info": {
   "codemirror_mode": {
    "name": "ipython",
    "version": 3
   },
   "file_extension": ".py",
   "mimetype": "text/x-python",
   "name": "python",
   "nbconvert_exporter": "python",
   "pygments_lexer": "ipython3",
   "version": "3.10.8"
  }
 },
 "nbformat": 4,
 "nbformat_minor": 5
}
