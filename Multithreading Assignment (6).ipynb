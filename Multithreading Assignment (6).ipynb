{
 "cells": [
  {
   "cell_type": "code",
   "execution_count": 116,
   "id": "c3a4fb04-cf7d-44f4-b62c-2d5afa93abef",
   "metadata": {},
   "outputs": [],
   "source": [
    "#1\n",
    "#Multithreading is the ability to execute multiple threads concurrently\n",
    "#It is used to run multiple parts of program to run simultaneously\n",
    "#threading module used to handle multithreading process"
   ]
  },
  {
   "cell_type": "code",
   "execution_count": 117,
   "id": "56bd5402-cc78-4857-ba46-7c6138549dca",
   "metadata": {},
   "outputs": [],
   "source": [
    "#2\n",
    "#Allows you to have different parts of your program run concurrently and can simplify your design\n",
    "#active_count method\n",
    "import threading\n",
    "def test(n):\n",
    "    print(\"Hello Duniya\",n)"
   ]
  },
  {
   "cell_type": "code",
   "execution_count": 118,
   "id": "905aff2d-eaa2-4f18-b99e-a5a03860b5dd",
   "metadata": {},
   "outputs": [],
   "source": [
    "A=[threading.Thread(target=test, args=(i,)) for i in range(3)]"
   ]
  },
  {
   "cell_type": "code",
   "execution_count": 119,
   "id": "97de1999-a9cd-461a-ab56-9ac2108da28a",
   "metadata": {},
   "outputs": [
    {
     "name": "stdout",
     "output_type": "stream",
     "text": [
      "after: 8\n",
      "Hello Duniya 0\n",
      "before: 8\n",
      "after: 8\n",
      "Hello Duniya 1\n",
      "before: 8\n",
      "after: 8\n",
      "Hello Duniya 2\n",
      "before: 8\n"
     ]
    }
   ],
   "source": [
    "for t in A:\n",
    "    print(\"after:\",threading.active_count())# Active_count method is used to show no. of active threads\n",
    "    t.start()\n",
    "    print(\"before:\",threading.active_count())"
   ]
  },
  {
   "cell_type": "code",
   "execution_count": 120,
   "id": "00b0e5c5-fbf1-4e3e-8647-f41acf070208",
   "metadata": {},
   "outputs": [],
   "source": [
    "#current_thread method\n",
    "import threading\n",
    "def threadname():\n",
    "    print(\"Current Thread\",threading.current_thread().name)"
   ]
  },
  {
   "cell_type": "code",
   "execution_count": 121,
   "id": "2c7df5c1-1897-4e51-863a-c45fbab8b9e5",
   "metadata": {},
   "outputs": [
    {
     "name": "stdout",
     "output_type": "stream",
     "text": [
      "Current Thread MainThread\n",
      "it is used to return the current Thread object, which corresponds to the caller's thread of control.\n"
     ]
    }
   ],
   "source": [
    "threadname()\n",
    "print(\"it is used to return the current Thread object, which corresponds to the caller's thread of control.\")"
   ]
  },
  {
   "cell_type": "code",
   "execution_count": 122,
   "id": "62631f02-77fc-4f2f-bc73-f2f897e995e3",
   "metadata": {},
   "outputs": [],
   "source": [
    "#enumerate method is used to know list of all threads\n",
    "import threading\n",
    "def threadname():\n",
    "    print(\"list of all threads\",threading.enumerate())"
   ]
  },
  {
   "cell_type": "code",
   "execution_count": 123,
   "id": "211f09b4-fc23-4e64-bb92-6a1216940859",
   "metadata": {},
   "outputs": [
    {
     "name": "stdout",
     "output_type": "stream",
     "text": [
      "list of all threads [<_MainThread(MainThread, started 139866248263488)>, <Thread(IOPub, started daemon 139866177734208)>, <Heartbeat(Heartbeat, started daemon 139866169341504)>, <Thread(Thread-3 (_watch_pipe_fd), started daemon 139865937143360)>, <Thread(Thread-4 (_watch_pipe_fd), started daemon 139865928750656)>, <ControlThread(Control, started daemon 139865920357952)>, <HistorySavingThread(IPythonHistorySavingThread, started 139865911965248)>, <ParentPollerUnix(Thread-2, started daemon 139865903572544)>]\n"
     ]
    }
   ],
   "source": [
    "threadname()"
   ]
  },
  {
   "cell_type": "code",
   "execution_count": 124,
   "id": "0814161b-8830-48bb-a171-fb710a2cd96e",
   "metadata": {},
   "outputs": [],
   "source": [
    "#3\n",
    "#start method\n",
    "import threading\n",
    "def test1(n):\n",
    "    print(\"Checking start method\",n)"
   ]
  },
  {
   "cell_type": "code",
   "execution_count": 125,
   "id": "d9125b5e-0fe2-4f68-827c-f1ecc08598c3",
   "metadata": {},
   "outputs": [],
   "source": [
    "B=[threading.Thread(target=test1,  args=(i,)) for i in range(2)]"
   ]
  },
  {
   "cell_type": "code",
   "execution_count": 126,
   "id": "0de3f9d1-275d-4e0b-9377-3b9aa639b65b",
   "metadata": {},
   "outputs": [
    {
     "name": "stdout",
     "output_type": "stream",
     "text": [
      "Checking start method 0\n",
      "Checking start method 1\n"
     ]
    }
   ],
   "source": [
    "for t in B:\n",
    "    t.start()# Calling start method to implement thread"
   ]
  },
  {
   "cell_type": "code",
   "execution_count": 127,
   "id": "8e301e8e-eef9-4613-8e53-9166c77cf72b",
   "metadata": {},
   "outputs": [],
   "source": [
    "#run method\n",
    "import threading\n",
    "def test1(n):\n",
    "    print(\"Checking run method\",n)"
   ]
  },
  {
   "cell_type": "code",
   "execution_count": 128,
   "id": "df833fd0-157c-43b2-8356-5ffc247ae66d",
   "metadata": {},
   "outputs": [],
   "source": [
    "B=[threading.Thread(target=test1,  args=(i,)) for i in range(2)]"
   ]
  },
  {
   "cell_type": "code",
   "execution_count": 129,
   "id": "e3b35313-95c5-46a6-a308-fff0944f5799",
   "metadata": {},
   "outputs": [
    {
     "name": "stdout",
     "output_type": "stream",
     "text": [
      "Checking run method 0\n",
      "Checking run method 1\n"
     ]
    }
   ],
   "source": [
    "for t in B:\n",
    "    t.run()# Calling run method to start the thread"
   ]
  },
  {
   "cell_type": "code",
   "execution_count": 130,
   "id": "0e6e5e16-70c4-4fbc-8d0a-2963b56d5525",
   "metadata": {},
   "outputs": [
    {
     "name": "stdout",
     "output_type": "stream",
     "text": [
      "This is my thread.\n",
      "Waiting for thread to finish...\n",
      "Thread finished.\n"
     ]
    }
   ],
   "source": [
    "#join method\n",
    "#This has the effect of blocking the current thread until the target thread that has been joined has terminated.\n",
    "\n",
    "\n",
    "import threading\n",
    "\n",
    "def my_thread():\n",
    "    print(\"This is my thread.\")\n",
    "\n",
    "thread = threading.Thread(target=my_thread)\n",
    "thread.start()\n",
    "\n",
    "print(\"Waiting for thread to finish...\")\n",
    "thread.join()\n",
    "\n",
    "print(\"Thread finished.\")"
   ]
  },
  {
   "cell_type": "code",
   "execution_count": 131,
   "id": "b0ce11b9-573c-46af-a45e-8a8d3fb09ed6",
   "metadata": {},
   "outputs": [
    {
     "name": "stdout",
     "output_type": "stream",
     "text": [
      "Checking thread1 Alive False\n",
      "Checking thread1 Alive True\n",
      "Value by Thread 1: 1\n"
     ]
    }
   ],
   "source": [
    "import time\n",
    "import threading\n",
    "#is_alive function is used to check whether thread is running or not.\n",
    "def thread_1(i):\n",
    "    time.sleep(.5)\n",
    "    print('Value by Thread 1:', i)\n",
    "    \n",
    "thread1 = threading.Thread(target=thread_1, args=(1,))\n",
    "\n",
    "print(\"Checking thread1 Alive\", thread1.is_alive())\n",
    "\n",
    "\n",
    "thread1.start()\n",
    "print(\"Checking thread1 Alive\",thread1.is_alive())\n"
   ]
  },
  {
   "cell_type": "code",
   "execution_count": 132,
   "id": "e41ff607-96a0-41a2-a4e8-5566ae7f3ba4",
   "metadata": {},
   "outputs": [],
   "source": [
    "import threading\n",
    "def square():\n",
    "    for i in range(10):\n",
    "        print(i**2)\n",
    "\n",
    "def cube():\n",
    "    for i in range(10):\n",
    "        print(i**3)"
   ]
  },
  {
   "cell_type": "code",
   "execution_count": 133,
   "id": "f8c52b88-7e13-4777-a69a-a5ab2aed8f91",
   "metadata": {},
   "outputs": [],
   "source": [
    "square_thread=threading.Thread(target=square)\n",
    "cube_thread=threading.Thread(target=cube)"
   ]
  },
  {
   "cell_type": "code",
   "execution_count": 134,
   "id": "e0b17667-a4fe-47f9-86b7-fea500cf1972",
   "metadata": {},
   "outputs": [
    {
     "name": "stdout",
     "output_type": "stream",
     "text": [
      "0\n",
      "1\n",
      "4\n",
      "9\n",
      "16\n",
      "25\n",
      "36\n",
      "49\n",
      "64\n",
      "81\n",
      "0\n",
      "1\n",
      "8\n",
      "27\n",
      "64\n",
      "125\n",
      "216\n",
      "343\n",
      "512\n",
      "729\n"
     ]
    }
   ],
   "source": [
    "square_thread.start()\n",
    "cube_thread.start()\n"
   ]
  },
  {
   "cell_type": "code",
   "execution_count": 135,
   "id": "6674f428-3baa-459b-81ef-5e0ebe0f4f53",
   "metadata": {},
   "outputs": [],
   "source": [
    "#5\n",
    "#ADVANTAGES OF MULTITHREADING\n",
    "#Enhanced performance by decreased development time\n",
    "#Simplified and streamlined program coding\n",
    "#Improvised GUI responsiveness\n",
    "#Simultaneous and parallelized occurrence of tasks\n",
    "#Better use of cache storage by utilization of resources\n",
    "#Decreased cost of maintenance\n",
    "#Better use of CPU resource"
   ]
  },
  {
   "cell_type": "code",
   "execution_count": 136,
   "id": "36216825-c90d-4386-bd11-72b536ae8bec",
   "metadata": {},
   "outputs": [],
   "source": [
    "#DISADVANTAGES OF MULTITHREADING\n",
    "#Complex debugging and testing processes\n",
    "#Overhead switching of context\n",
    "#Increased potential for deadlock occurrence\n",
    "#Increased difficulty level in writing a program\n",
    "#Unpredictable results"
   ]
  },
  {
   "cell_type": "code",
   "execution_count": 137,
   "id": "fc8a39e5-7003-4b3b-ba3c-44b557ea4b6d",
   "metadata": {},
   "outputs": [],
   "source": [
    "#6\n",
    "#A race condition occurs when two threads use the same variable at a given time\n",
    "#Deadlock exists when two threads seek one lock simultaneously. This situation will stop both threads from processing or executing the functions"
   ]
  },
  {
   "cell_type": "code",
   "execution_count": null,
   "id": "f3a9a908-80b1-4a11-a4ad-adba1a6ec4e0",
   "metadata": {},
   "outputs": [],
   "source": []
  },
  {
   "cell_type": "code",
   "execution_count": null,
   "id": "c893d9f2-b5ed-4a0a-a7b4-50b2779f3427",
   "metadata": {},
   "outputs": [],
   "source": []
  },
  {
   "cell_type": "code",
   "execution_count": null,
   "id": "780dccae-12ae-4e4a-95a0-dfeb1ea1c943",
   "metadata": {},
   "outputs": [],
   "source": []
  },
  {
   "cell_type": "code",
   "execution_count": null,
   "id": "b2964a7a-989f-4817-995a-48755831d617",
   "metadata": {},
   "outputs": [],
   "source": []
  },
  {
   "cell_type": "code",
   "execution_count": null,
   "id": "30c69d69-6561-4851-8eba-b8a737721418",
   "metadata": {},
   "outputs": [],
   "source": []
  },
  {
   "cell_type": "code",
   "execution_count": null,
   "id": "a6d0bdff-edab-400c-98ec-942ec094e230",
   "metadata": {},
   "outputs": [],
   "source": []
  },
  {
   "cell_type": "code",
   "execution_count": null,
   "id": "0d9d95f3-ffff-442b-9241-9912a22685f2",
   "metadata": {},
   "outputs": [],
   "source": []
  },
  {
   "cell_type": "code",
   "execution_count": null,
   "id": "0fe07244-3af7-4dd2-b372-f4b454fa9f7d",
   "metadata": {},
   "outputs": [],
   "source": []
  },
  {
   "cell_type": "code",
   "execution_count": null,
   "id": "3ebbcb83-c882-4d8e-abc8-0147dcddac4f",
   "metadata": {},
   "outputs": [],
   "source": []
  },
  {
   "cell_type": "code",
   "execution_count": null,
   "id": "e98d0fd6-b526-4018-acb1-6fcc536b5dd5",
   "metadata": {},
   "outputs": [],
   "source": []
  },
  {
   "cell_type": "code",
   "execution_count": null,
   "id": "b6f2200b-6b65-4e1a-8adc-f701a27edc2a",
   "metadata": {},
   "outputs": [],
   "source": []
  },
  {
   "cell_type": "code",
   "execution_count": null,
   "id": "85bc2a8a-a0fe-4064-9b96-d4bdd2813426",
   "metadata": {},
   "outputs": [],
   "source": []
  },
  {
   "cell_type": "code",
   "execution_count": null,
   "id": "0a456f7e-f397-4a5f-8ed9-68eb61ff81bd",
   "metadata": {},
   "outputs": [],
   "source": []
  }
 ],
 "metadata": {
  "kernelspec": {
   "display_name": "Python 3 (ipykernel)",
   "language": "python",
   "name": "python3"
  },
  "language_info": {
   "codemirror_mode": {
    "name": "ipython",
    "version": 3
   },
   "file_extension": ".py",
   "mimetype": "text/x-python",
   "name": "python",
   "nbconvert_exporter": "python",
   "pygments_lexer": "ipython3",
   "version": "3.10.8"
  }
 },
 "nbformat": 4,
 "nbformat_minor": 5
}
