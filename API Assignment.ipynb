{
 "cells": [
  {
   "cell_type": "code",
   "execution_count": 1,
   "id": "9e4386d9-f9f0-4aa3-b303-b168f9d9cbb6",
   "metadata": {},
   "outputs": [],
   "source": [
    "#1\n",
    "#An API, or Application Programming Interface, is a set of rules that allow two pieces of software to talk to each other. APIs are used in a wide variety of applications, including web development, mobile development, and enterprise software.\n",
    "#One example of an API in real life is the Google Maps API\n",
    "#Another example of an API in real life is the Facebook Login API\n",
    "#The Twitter API allows developers to access Twitter data and functionality in their own applications."
   ]
  },
  {
   "cell_type": "code",
   "execution_count": 2,
   "id": "50739832-4e20-4610-aa49-0d38bbc1406f",
   "metadata": {},
   "outputs": [],
   "source": [
    "#2\n",
    "#Advantages\n",
    "#Increased interoperability , Improved efficiency , New revenue streams , Improved user experience\n",
    "\n",
    "#Disadvantages\n",
    "#Security concerns , Complexity , Compatibility issues , Dependency on third-party developers"
   ]
  },
  {
   "cell_type": "code",
   "execution_count": 3,
   "id": "56eae531-f600-4f06-99c2-32ca182f56dc",
   "metadata": {},
   "outputs": [],
   "source": [
    "#3\n",
    "#A Web API is a type of API that is accessed over the web using HTTP requests. Web APIs are often used to expose data from a database or to provide functionality that can be used by other applications.\n",
    "#The main difference between an API and a Web API is that a Web API is accessed over the web using HTTP requests. This means that Web APIs can be used by any application that can access the web, regardless of the programming language or platform that the application is written in.\n"
   ]
  },
  {
   "cell_type": "code",
   "execution_count": 4,
   "id": "4df47950-c69c-4e6c-87e2-8544476ecb31",
   "metadata": {},
   "outputs": [],
   "source": [
    "#4\n",
    "#REST is an architectural style that defines a set of constraints that must be followed when designing and implementing web services\n",
    "#SOAP is a protocol for exchanging structured information between applications. It uses XML to represent data, and it uses HTTP as a transport protocol. \n",
    "#SOAP is a more complex protocol than REST, and it requires more development effort to implement. However, SOAP offers some advantages over REST\n",
    "\n",
    "#Shortcomings of SOAP\n",
    "#Complexity: SOAP is a more complex protocol than REST, and it requires more development effort to implement\n",
    "#Performance: SOAP messages are typically larger than REST messages, which can impact performance.\n",
    "#Flexibility: SOAP is a more rigid protocol than REST, which can make it less flexible."
   ]
  },
  {
   "cell_type": "code",
   "execution_count": null,
   "id": "cdd73e21-da81-40cb-b116-9e29e7ffdde6",
   "metadata": {},
   "outputs": [],
   "source": [
    "#5\n",
    "Feature\t      REST\t                                SOAP\n",
    "Protocol\t  HTTP\t                                 XML\n",
    "Data format\t  Any\t                                     XML\n",
    "Complexity\t  Simpler\t                                More complex\n",
    "Flexibility\t  More flexible\t                        Less flexible\n",
    "Security\t No built-in security features\t        Can be used to secure communications\n",
    "Transactions No built-in support for transactions\tCan be used to implement transactions"
   ]
  }
 ],
 "metadata": {
  "kernelspec": {
   "display_name": "Python 3 (ipykernel)",
   "language": "python",
   "name": "python3"
  },
  "language_info": {
   "codemirror_mode": {
    "name": "ipython",
    "version": 3
   },
   "file_extension": ".py",
   "mimetype": "text/x-python",
   "name": "python",
   "nbconvert_exporter": "python",
   "pygments_lexer": "ipython3",
   "version": "3.10.8"
  }
 },
 "nbformat": 4,
 "nbformat_minor": 5
}
